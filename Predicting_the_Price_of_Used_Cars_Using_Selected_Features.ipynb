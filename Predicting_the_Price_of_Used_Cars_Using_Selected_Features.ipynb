{
  "cells": [
    {
      "cell_type": "markdown",
      "metadata": {
        "id": "view-in-github",
        "colab_type": "text"
      },
      "source": [
        "<a href=\"https://colab.research.google.com/github/maronga/Used-car-auction-prices/blob/main/Predicting_the_Price_of_Used_Cars_Using_Selected_Features.ipynb\" target=\"_parent\"><img src=\"https://colab.research.google.com/assets/colab-badge.svg\" alt=\"Open In Colab\"/></a>"
      ]
    },
    {
      "cell_type": "markdown",
      "metadata": {
        "id": "xMxtPsqcTsSH"
      },
      "source": [
        "# Predicting the Price of Used Cars Based on Input Variables"
      ]
    },
    {
      "cell_type": "markdown",
      "metadata": {
        "id": "7NNwpx47a39k"
      },
      "source": [
        "By\n",
        " John Maronga\n",
        "\n",
        " Joshua Kibuye\n",
        "\n",
        " Daisy Wanjiru\n",
        "\n",
        " Victoria Maina\n",
        "\n",
        " Brendah Koro\n",
        " \n",
        " Geoffery Chege"
      ]
    },
    {
      "cell_type": "markdown",
      "metadata": {
        "id": "kLG2VTrnTvYL"
      },
      "source": [
        "## 1. Defining the Question"
      ]
    },
    {
      "cell_type": "markdown",
      "metadata": {
        "id": "XecOwPNorl2W"
      },
      "source": [
        "### a) Specifying the Data Analytic Question"
      ]
    },
    {
      "cell_type": "markdown",
      "metadata": {
        "id": "9ozBnKfehSAw"
      },
      "source": [
        "> To create a model that will be used to predict prices of  used cars ."
      ]
    },
    {
      "cell_type": "markdown",
      "metadata": {
        "id": "J4wfHZwQrs-t"
      },
      "source": [
        "### b) Defining the Metric for Success"
      ]
    },
    {
      "cell_type": "markdown",
      "metadata": {
        "id": "z6Z1wtsHa39n"
      },
      "source": [
        "This project will be successful when:\n",
        "\n",
        "1) We create a model that has the lowest RMSE \n",
        "\n",
        "\n",
        "\n"
      ]
    },
    {
      "cell_type": "markdown",
      "metadata": {
        "id": "a9BPYqunry97"
      },
      "source": [
        "### c) Understanding the context "
      ]
    },
    {
      "cell_type": "markdown",
      "metadata": {
        "id": "HoBjn-6Wa39o"
      },
      "source": [
        " Used-car market is more than twice the size of the new-car segment and is outpacing it in growth..It has been realized  too that the price of cars keeping  changing depending on various factors .Below are features of a used car that matters most when people are buying used-cars at auctions\n",
        "\n",
        "Date : The year of production of the cars.\n",
        "\n",
        "Make : The brand of the car.\n",
        "\n",
        "Model : The edition of the car of a specific brand.\n",
        "\n",
        "Trim : The trim levels for a car are just different versions of the model.\n",
        "\n",
        "Body : The body style of a vehicle refers to the shape and model of a particular car make.\n",
        "\n",
        "Transmission : The mechanism that moves the power from the engine to the wheels.\n",
        "\n",
        "VIN : Vehichel identification number.\n",
        "\n",
        "State : The state in which the car is auctioned.\n",
        "\n",
        "Condition : The condition of the cars being at the time of auction.\n",
        "\n",
        "Odometer : The distance the car has travelled since manufactured.\n",
        "\n",
        "Color : Exterior color of the car.\n",
        "\n",
        "Interior : Interior color of the car.\n",
        "\n",
        "Seller : The seller of the car, car dealers.\n",
        "\n",
        "mmr : Manhiem market record, the market estimated price of the cars.\n",
        "\n",
        "sellingprice : The price a car was sold at auctions.\n",
        "\n",
        "saledate : The date on which the car has been sold\n"
      ]
    },
    {
      "cell_type": "markdown",
      "metadata": {
        "id": "7KMRBJ7zr9HD"
      },
      "source": [
        "### d) Recording the Experimental Design"
      ]
    },
    {
      "cell_type": "markdown",
      "metadata": {
        "id": "2Eu4YMC1a39p"
      },
      "source": [
        "* Business Understanding\n",
        "\n",
        "* Reading the data\n",
        "\n",
        "* Checking our data\n",
        "\n",
        "* Data cleaning\n",
        "\n",
        "* Performing EDA(univiariate,biviariate and multiviariate analysis)\n",
        "\n",
        "* Feature Engineering\n",
        "\n",
        "* Linear Regression\n",
        "\n",
        "* Ada Boost \n",
        "  \n",
        "* Random Forest Regressor\n",
        "\n",
        "* Conclusion"
      ]
    },
    {
      "cell_type": "markdown",
      "metadata": {
        "id": "zSGyg6kWsBUl"
      },
      "source": [
        "### e) Data Relevance"
      ]
    },
    {
      "cell_type": "markdown",
      "metadata": {
        "id": "qctdKodGa39p"
      },
      "source": [
        "Datasets Provided:\n",
        "\n",
        "Used Car prices [Link](https://www.kaggle.com/tunguz/used-car-auction-prices/download)"
      ]
    },
    {
      "cell_type": "markdown",
      "metadata": {
        "id": "iUNbvIvnT7ep"
      },
      "source": [
        "## 2. Reading the Data"
      ]
    },
    {
      "cell_type": "code",
      "execution_count": null,
      "metadata": {
        "id": "bZI47U0Da39q"
      },
      "outputs": [],
      "source": [
        "# Importing the libraries we will need \n",
        "import pandas as pd\n",
        "import numpy as np\n",
        "import seaborn as sns\n",
        "import matplotlib.pyplot as plt\n",
        "%matplotlib inline\n",
        "import warnings\n",
        "warnings.filterwarnings(\"ignore\")"
      ]
    },
    {
      "cell_type": "code",
      "execution_count": null,
      "metadata": {
        "id": "XJn2KjW-WMlG",
        "outputId": "1a89c4f7-8ee4-41d3-c469-38eee7e01c6d",
        "colab": {
          "base_uri": "https://localhost:8080/"
        }
      },
      "outputs": [
        {
          "output_type": "stream",
          "name": "stderr",
          "text": [
            "b'Skipping line 408163: expected 16 fields, saw 17\\nSkipping line 417837: expected 16 fields, saw 17\\nSkipping line 421291: expected 16 fields, saw 17\\nSkipping line 424163: expected 16 fields, saw 17\\n'\n",
            "b'Skipping line 427042: expected 16 fields, saw 17\\nSkipping line 427045: expected 16 fields, saw 17\\nSkipping line 434426: expected 16 fields, saw 17\\nSkipping line 444503: expected 16 fields, saw 17\\nSkipping line 453796: expected 16 fields, saw 17\\n'\n",
            "b'Skipping line 461599: expected 16 fields, saw 17\\nSkipping line 461614: expected 16 fields, saw 17\\n'\n",
            "b'Skipping line 492486: expected 16 fields, saw 17\\nSkipping line 497010: expected 16 fields, saw 17\\nSkipping line 497013: expected 16 fields, saw 17\\nSkipping line 499085: expected 16 fields, saw 17\\nSkipping line 501457: expected 16 fields, saw 17\\nSkipping line 505301: expected 16 fields, saw 17\\nSkipping line 505308: expected 16 fields, saw 17\\nSkipping line 520463: expected 16 fields, saw 17\\n'\n",
            "b'Skipping line 528998: expected 16 fields, saw 17\\nSkipping line 529011: expected 16 fields, saw 17\\nSkipping line 529015: expected 16 fields, saw 17\\nSkipping line 529624: expected 16 fields, saw 17\\nSkipping line 548786: expected 16 fields, saw 17\\nSkipping line 551224: expected 16 fields, saw 17\\nSkipping line 554712: expected 16 fields, saw 17\\n'\n"
          ]
        }
      ],
      "source": [
        "# Loading the Data from the source i.e. csv\n",
        "import zipfile\n",
        "# read the dataset using the compression zip\n",
        "df = pd.read_csv('https://github.com/maronga/Used-car-auction-prices/blob/main/archive_8.zip?raw=true',compression='zip', error_bad_lines=False)"
      ]
    },
    {
      "cell_type": "markdown",
      "metadata": {
        "id": "OI3P3YnHUEBk"
      },
      "source": [
        "\n",
        "\n",
        "## 3. Checking the Data"
      ]
    },
    {
      "cell_type": "code",
      "execution_count": null,
      "metadata": {
        "id": "YjSVNwgptHxY",
        "outputId": "a6aaeda8-2ce4-4163-fe7c-733bb710adca",
        "colab": {
          "base_uri": "https://localhost:8080/"
        }
      },
      "outputs": [
        {
          "output_type": "execute_result",
          "data": {
            "text/plain": [
              "(558811, 16)"
            ]
          },
          "metadata": {},
          "execution_count": 3
        }
      ],
      "source": [
        "# Determining the no. of records in our dataset\n",
        "df.shape"
      ]
    },
    {
      "cell_type": "markdown",
      "metadata": {
        "id": "wq-4rTVSa39t"
      },
      "source": [
        "Our dataset has 558,811 records and 16 variables"
      ]
    },
    {
      "cell_type": "code",
      "execution_count": null,
      "metadata": {
        "id": "xHhTw5eKWr0n",
        "outputId": "fc9354ee-79e4-4c61-eeeb-9de156d7f99a",
        "colab": {
          "base_uri": "https://localhost:8080/"
        }
      },
      "outputs": [
        {
          "output_type": "execute_result",
          "data": {
            "text/html": [
              "\n",
              "  <div id=\"df-28037dec-ecf9-4fb3-ad8d-9fd2a7f63d93\">\n",
              "    <div class=\"colab-df-container\">\n",
              "      <div>\n",
              "<style scoped>\n",
              "    .dataframe tbody tr th:only-of-type {\n",
              "        vertical-align: middle;\n",
              "    }\n",
              "\n",
              "    .dataframe tbody tr th {\n",
              "        vertical-align: top;\n",
              "    }\n",
              "\n",
              "    .dataframe thead th {\n",
              "        text-align: right;\n",
              "    }\n",
              "</style>\n",
              "<table border=\"1\" class=\"dataframe\">\n",
              "  <thead>\n",
              "    <tr style=\"text-align: right;\">\n",
              "      <th></th>\n",
              "      <th>year</th>\n",
              "      <th>make</th>\n",
              "      <th>model</th>\n",
              "      <th>trim</th>\n",
              "      <th>body</th>\n",
              "      <th>transmission</th>\n",
              "      <th>vin</th>\n",
              "      <th>state</th>\n",
              "      <th>condition</th>\n",
              "      <th>odometer</th>\n",
              "      <th>color</th>\n",
              "      <th>interior</th>\n",
              "      <th>seller</th>\n",
              "      <th>mmr</th>\n",
              "      <th>sellingprice</th>\n",
              "      <th>saledate</th>\n",
              "    </tr>\n",
              "  </thead>\n",
              "  <tbody>\n",
              "    <tr>\n",
              "      <th>0</th>\n",
              "      <td>2015</td>\n",
              "      <td>Kia</td>\n",
              "      <td>Sorento</td>\n",
              "      <td>LX</td>\n",
              "      <td>SUV</td>\n",
              "      <td>automatic</td>\n",
              "      <td>5xyktca69fg566472</td>\n",
              "      <td>ca</td>\n",
              "      <td>5.0</td>\n",
              "      <td>16639.0</td>\n",
              "      <td>white</td>\n",
              "      <td>black</td>\n",
              "      <td>kia motors america, inc</td>\n",
              "      <td>20500</td>\n",
              "      <td>21500</td>\n",
              "      <td>Tue Dec 16 2014 12:30:00 GMT-0800 (PST)</td>\n",
              "    </tr>\n",
              "    <tr>\n",
              "      <th>1</th>\n",
              "      <td>2015</td>\n",
              "      <td>Kia</td>\n",
              "      <td>Sorento</td>\n",
              "      <td>LX</td>\n",
              "      <td>SUV</td>\n",
              "      <td>automatic</td>\n",
              "      <td>5xyktca69fg561319</td>\n",
              "      <td>ca</td>\n",
              "      <td>5.0</td>\n",
              "      <td>9393.0</td>\n",
              "      <td>white</td>\n",
              "      <td>beige</td>\n",
              "      <td>kia motors america, inc</td>\n",
              "      <td>20800</td>\n",
              "      <td>21500</td>\n",
              "      <td>Tue Dec 16 2014 12:30:00 GMT-0800 (PST)</td>\n",
              "    </tr>\n",
              "    <tr>\n",
              "      <th>2</th>\n",
              "      <td>2014</td>\n",
              "      <td>BMW</td>\n",
              "      <td>3 Series</td>\n",
              "      <td>328i SULEV</td>\n",
              "      <td>Sedan</td>\n",
              "      <td>automatic</td>\n",
              "      <td>wba3c1c51ek116351</td>\n",
              "      <td>ca</td>\n",
              "      <td>4.5</td>\n",
              "      <td>1331.0</td>\n",
              "      <td>gray</td>\n",
              "      <td>black</td>\n",
              "      <td>financial services remarketing (lease)</td>\n",
              "      <td>31900</td>\n",
              "      <td>30000</td>\n",
              "      <td>Thu Jan 15 2015 04:30:00 GMT-0800 (PST)</td>\n",
              "    </tr>\n",
              "    <tr>\n",
              "      <th>3</th>\n",
              "      <td>2015</td>\n",
              "      <td>Volvo</td>\n",
              "      <td>S60</td>\n",
              "      <td>T5</td>\n",
              "      <td>Sedan</td>\n",
              "      <td>automatic</td>\n",
              "      <td>yv1612tb4f1310987</td>\n",
              "      <td>ca</td>\n",
              "      <td>4.1</td>\n",
              "      <td>14282.0</td>\n",
              "      <td>white</td>\n",
              "      <td>black</td>\n",
              "      <td>volvo na rep/world omni</td>\n",
              "      <td>27500</td>\n",
              "      <td>27750</td>\n",
              "      <td>Thu Jan 29 2015 04:30:00 GMT-0800 (PST)</td>\n",
              "    </tr>\n",
              "    <tr>\n",
              "      <th>4</th>\n",
              "      <td>2014</td>\n",
              "      <td>BMW</td>\n",
              "      <td>6 Series Gran Coupe</td>\n",
              "      <td>650i</td>\n",
              "      <td>Sedan</td>\n",
              "      <td>automatic</td>\n",
              "      <td>wba6b2c57ed129731</td>\n",
              "      <td>ca</td>\n",
              "      <td>4.3</td>\n",
              "      <td>2641.0</td>\n",
              "      <td>gray</td>\n",
              "      <td>black</td>\n",
              "      <td>financial services remarketing (lease)</td>\n",
              "      <td>66000</td>\n",
              "      <td>67000</td>\n",
              "      <td>Thu Dec 18 2014 12:30:00 GMT-0800 (PST)</td>\n",
              "    </tr>\n",
              "  </tbody>\n",
              "</table>\n",
              "</div>\n",
              "      <button class=\"colab-df-convert\" onclick=\"convertToInteractive('df-28037dec-ecf9-4fb3-ad8d-9fd2a7f63d93')\"\n",
              "              title=\"Convert this dataframe to an interactive table.\"\n",
              "              style=\"display:none;\">\n",
              "        \n",
              "  <svg xmlns=\"http://www.w3.org/2000/svg\" height=\"24px\"viewBox=\"0 0 24 24\"\n",
              "       width=\"24px\">\n",
              "    <path d=\"M0 0h24v24H0V0z\" fill=\"none\"/>\n",
              "    <path d=\"M18.56 5.44l.94 2.06.94-2.06 2.06-.94-2.06-.94-.94-2.06-.94 2.06-2.06.94zm-11 1L8.5 8.5l.94-2.06 2.06-.94-2.06-.94L8.5 2.5l-.94 2.06-2.06.94zm10 10l.94 2.06.94-2.06 2.06-.94-2.06-.94-.94-2.06-.94 2.06-2.06.94z\"/><path d=\"M17.41 7.96l-1.37-1.37c-.4-.4-.92-.59-1.43-.59-.52 0-1.04.2-1.43.59L10.3 9.45l-7.72 7.72c-.78.78-.78 2.05 0 2.83L4 21.41c.39.39.9.59 1.41.59.51 0 1.02-.2 1.41-.59l7.78-7.78 2.81-2.81c.8-.78.8-2.07 0-2.86zM5.41 20L4 18.59l7.72-7.72 1.47 1.35L5.41 20z\"/>\n",
              "  </svg>\n",
              "      </button>\n",
              "      \n",
              "  <style>\n",
              "    .colab-df-container {\n",
              "      display:flex;\n",
              "      flex-wrap:wrap;\n",
              "      gap: 12px;\n",
              "    }\n",
              "\n",
              "    .colab-df-convert {\n",
              "      background-color: #E8F0FE;\n",
              "      border: none;\n",
              "      border-radius: 50%;\n",
              "      cursor: pointer;\n",
              "      display: none;\n",
              "      fill: #1967D2;\n",
              "      height: 32px;\n",
              "      padding: 0 0 0 0;\n",
              "      width: 32px;\n",
              "    }\n",
              "\n",
              "    .colab-df-convert:hover {\n",
              "      background-color: #E2EBFA;\n",
              "      box-shadow: 0px 1px 2px rgba(60, 64, 67, 0.3), 0px 1px 3px 1px rgba(60, 64, 67, 0.15);\n",
              "      fill: #174EA6;\n",
              "    }\n",
              "\n",
              "    [theme=dark] .colab-df-convert {\n",
              "      background-color: #3B4455;\n",
              "      fill: #D2E3FC;\n",
              "    }\n",
              "\n",
              "    [theme=dark] .colab-df-convert:hover {\n",
              "      background-color: #434B5C;\n",
              "      box-shadow: 0px 1px 3px 1px rgba(0, 0, 0, 0.15);\n",
              "      filter: drop-shadow(0px 1px 2px rgba(0, 0, 0, 0.3));\n",
              "      fill: #FFFFFF;\n",
              "    }\n",
              "  </style>\n",
              "\n",
              "      <script>\n",
              "        const buttonEl =\n",
              "          document.querySelector('#df-28037dec-ecf9-4fb3-ad8d-9fd2a7f63d93 button.colab-df-convert');\n",
              "        buttonEl.style.display =\n",
              "          google.colab.kernel.accessAllowed ? 'block' : 'none';\n",
              "\n",
              "        async function convertToInteractive(key) {\n",
              "          const element = document.querySelector('#df-28037dec-ecf9-4fb3-ad8d-9fd2a7f63d93');\n",
              "          const dataTable =\n",
              "            await google.colab.kernel.invokeFunction('convertToInteractive',\n",
              "                                                     [key], {});\n",
              "          if (!dataTable) return;\n",
              "\n",
              "          const docLinkHtml = 'Like what you see? Visit the ' +\n",
              "            '<a target=\"_blank\" href=https://colab.research.google.com/notebooks/data_table.ipynb>data table notebook</a>'\n",
              "            + ' to learn more about interactive tables.';\n",
              "          element.innerHTML = '';\n",
              "          dataTable['output_type'] = 'display_data';\n",
              "          await google.colab.output.renderOutput(dataTable, element);\n",
              "          const docLink = document.createElement('div');\n",
              "          docLink.innerHTML = docLinkHtml;\n",
              "          element.appendChild(docLink);\n",
              "        }\n",
              "      </script>\n",
              "    </div>\n",
              "  </div>\n",
              "  "
            ],
            "text/plain": [
              "   year   make                model        trim   body transmission  \\\n",
              "0  2015    Kia              Sorento          LX    SUV    automatic   \n",
              "1  2015    Kia              Sorento          LX    SUV    automatic   \n",
              "2  2014    BMW             3 Series  328i SULEV  Sedan    automatic   \n",
              "3  2015  Volvo                  S60          T5  Sedan    automatic   \n",
              "4  2014    BMW  6 Series Gran Coupe        650i  Sedan    automatic   \n",
              "\n",
              "                 vin state  condition  odometer  color interior  \\\n",
              "0  5xyktca69fg566472    ca        5.0   16639.0  white    black   \n",
              "1  5xyktca69fg561319    ca        5.0    9393.0  white    beige   \n",
              "2  wba3c1c51ek116351    ca        4.5    1331.0   gray    black   \n",
              "3  yv1612tb4f1310987    ca        4.1   14282.0  white    black   \n",
              "4  wba6b2c57ed129731    ca        4.3    2641.0   gray    black   \n",
              "\n",
              "                                   seller    mmr  sellingprice  \\\n",
              "0                 kia motors america, inc  20500         21500   \n",
              "1                 kia motors america, inc  20800         21500   \n",
              "2  financial services remarketing (lease)  31900         30000   \n",
              "3                 volvo na rep/world omni  27500         27750   \n",
              "4  financial services remarketing (lease)  66000         67000   \n",
              "\n",
              "                                  saledate  \n",
              "0  Tue Dec 16 2014 12:30:00 GMT-0800 (PST)  \n",
              "1  Tue Dec 16 2014 12:30:00 GMT-0800 (PST)  \n",
              "2  Thu Jan 15 2015 04:30:00 GMT-0800 (PST)  \n",
              "3  Thu Jan 29 2015 04:30:00 GMT-0800 (PST)  \n",
              "4  Thu Dec 18 2014 12:30:00 GMT-0800 (PST)  "
            ]
          },
          "metadata": {},
          "execution_count": 4
        }
      ],
      "source": [
        "# Previewing the top of our dataset\n",
        "df.head()"
      ]
    },
    {
      "cell_type": "code",
      "execution_count": null,
      "metadata": {
        "id": "e9AzGcZFrIIr",
        "outputId": "fa9c85cc-6d9e-4acc-ae0a-b7a23804160b",
        "colab": {
          "base_uri": "https://localhost:8080/"
        }
      },
      "outputs": [
        {
          "output_type": "execute_result",
          "data": {
            "text/html": [
              "\n",
              "  <div id=\"df-6706de10-139f-47e7-8656-b4732da1c6d4\">\n",
              "    <div class=\"colab-df-container\">\n",
              "      <div>\n",
              "<style scoped>\n",
              "    .dataframe tbody tr th:only-of-type {\n",
              "        vertical-align: middle;\n",
              "    }\n",
              "\n",
              "    .dataframe tbody tr th {\n",
              "        vertical-align: top;\n",
              "    }\n",
              "\n",
              "    .dataframe thead th {\n",
              "        text-align: right;\n",
              "    }\n",
              "</style>\n",
              "<table border=\"1\" class=\"dataframe\">\n",
              "  <thead>\n",
              "    <tr style=\"text-align: right;\">\n",
              "      <th></th>\n",
              "      <th>year</th>\n",
              "      <th>make</th>\n",
              "      <th>model</th>\n",
              "      <th>trim</th>\n",
              "      <th>body</th>\n",
              "      <th>transmission</th>\n",
              "      <th>vin</th>\n",
              "      <th>state</th>\n",
              "      <th>condition</th>\n",
              "      <th>odometer</th>\n",
              "      <th>color</th>\n",
              "      <th>interior</th>\n",
              "      <th>seller</th>\n",
              "      <th>mmr</th>\n",
              "      <th>sellingprice</th>\n",
              "      <th>saledate</th>\n",
              "    </tr>\n",
              "  </thead>\n",
              "  <tbody>\n",
              "    <tr>\n",
              "      <th>558806</th>\n",
              "      <td>2015</td>\n",
              "      <td>Kia</td>\n",
              "      <td>K900</td>\n",
              "      <td>Luxury</td>\n",
              "      <td>Sedan</td>\n",
              "      <td>NaN</td>\n",
              "      <td>knalw4d4xf6019304</td>\n",
              "      <td>in</td>\n",
              "      <td>4.5</td>\n",
              "      <td>18255.0</td>\n",
              "      <td>silver</td>\n",
              "      <td>black</td>\n",
              "      <td>avis corporation</td>\n",
              "      <td>35300</td>\n",
              "      <td>33000</td>\n",
              "      <td>Thu Jul 09 2015 07:00:00 GMT-0700 (PDT)</td>\n",
              "    </tr>\n",
              "    <tr>\n",
              "      <th>558807</th>\n",
              "      <td>2012</td>\n",
              "      <td>Ram</td>\n",
              "      <td>2500</td>\n",
              "      <td>Power Wagon</td>\n",
              "      <td>Crew Cab</td>\n",
              "      <td>automatic</td>\n",
              "      <td>3c6td5et6cg112407</td>\n",
              "      <td>wa</td>\n",
              "      <td>5.0</td>\n",
              "      <td>54393.0</td>\n",
              "      <td>white</td>\n",
              "      <td>black</td>\n",
              "      <td>i -5 uhlmann rv</td>\n",
              "      <td>30200</td>\n",
              "      <td>30800</td>\n",
              "      <td>Wed Jul 08 2015 09:30:00 GMT-0700 (PDT)</td>\n",
              "    </tr>\n",
              "    <tr>\n",
              "      <th>558808</th>\n",
              "      <td>2012</td>\n",
              "      <td>BMW</td>\n",
              "      <td>X5</td>\n",
              "      <td>xDrive35d</td>\n",
              "      <td>SUV</td>\n",
              "      <td>automatic</td>\n",
              "      <td>5uxzw0c58cl668465</td>\n",
              "      <td>ca</td>\n",
              "      <td>4.8</td>\n",
              "      <td>50561.0</td>\n",
              "      <td>black</td>\n",
              "      <td>black</td>\n",
              "      <td>financial services remarketing (lease)</td>\n",
              "      <td>29800</td>\n",
              "      <td>34000</td>\n",
              "      <td>Wed Jul 08 2015 09:30:00 GMT-0700 (PDT)</td>\n",
              "    </tr>\n",
              "    <tr>\n",
              "      <th>558809</th>\n",
              "      <td>2015</td>\n",
              "      <td>Nissan</td>\n",
              "      <td>Altima</td>\n",
              "      <td>2.5 S</td>\n",
              "      <td>sedan</td>\n",
              "      <td>automatic</td>\n",
              "      <td>1n4al3ap0fc216050</td>\n",
              "      <td>ga</td>\n",
              "      <td>3.8</td>\n",
              "      <td>16658.0</td>\n",
              "      <td>white</td>\n",
              "      <td>black</td>\n",
              "      <td>enterprise vehicle exchange / tra / rental / t...</td>\n",
              "      <td>15100</td>\n",
              "      <td>11100</td>\n",
              "      <td>Thu Jul 09 2015 06:45:00 GMT-0700 (PDT)</td>\n",
              "    </tr>\n",
              "    <tr>\n",
              "      <th>558810</th>\n",
              "      <td>2014</td>\n",
              "      <td>Ford</td>\n",
              "      <td>F-150</td>\n",
              "      <td>XLT</td>\n",
              "      <td>SuperCrew</td>\n",
              "      <td>automatic</td>\n",
              "      <td>1ftfw1et2eke87277</td>\n",
              "      <td>ca</td>\n",
              "      <td>3.4</td>\n",
              "      <td>15008.0</td>\n",
              "      <td>gray</td>\n",
              "      <td>gray</td>\n",
              "      <td>ford motor credit company,llc pd</td>\n",
              "      <td>29600</td>\n",
              "      <td>26700</td>\n",
              "      <td>Thu May 28 2015 05:30:00 GMT-0700 (PDT)</td>\n",
              "    </tr>\n",
              "  </tbody>\n",
              "</table>\n",
              "</div>\n",
              "      <button class=\"colab-df-convert\" onclick=\"convertToInteractive('df-6706de10-139f-47e7-8656-b4732da1c6d4')\"\n",
              "              title=\"Convert this dataframe to an interactive table.\"\n",
              "              style=\"display:none;\">\n",
              "        \n",
              "  <svg xmlns=\"http://www.w3.org/2000/svg\" height=\"24px\"viewBox=\"0 0 24 24\"\n",
              "       width=\"24px\">\n",
              "    <path d=\"M0 0h24v24H0V0z\" fill=\"none\"/>\n",
              "    <path d=\"M18.56 5.44l.94 2.06.94-2.06 2.06-.94-2.06-.94-.94-2.06-.94 2.06-2.06.94zm-11 1L8.5 8.5l.94-2.06 2.06-.94-2.06-.94L8.5 2.5l-.94 2.06-2.06.94zm10 10l.94 2.06.94-2.06 2.06-.94-2.06-.94-.94-2.06-.94 2.06-2.06.94z\"/><path d=\"M17.41 7.96l-1.37-1.37c-.4-.4-.92-.59-1.43-.59-.52 0-1.04.2-1.43.59L10.3 9.45l-7.72 7.72c-.78.78-.78 2.05 0 2.83L4 21.41c.39.39.9.59 1.41.59.51 0 1.02-.2 1.41-.59l7.78-7.78 2.81-2.81c.8-.78.8-2.07 0-2.86zM5.41 20L4 18.59l7.72-7.72 1.47 1.35L5.41 20z\"/>\n",
              "  </svg>\n",
              "      </button>\n",
              "      \n",
              "  <style>\n",
              "    .colab-df-container {\n",
              "      display:flex;\n",
              "      flex-wrap:wrap;\n",
              "      gap: 12px;\n",
              "    }\n",
              "\n",
              "    .colab-df-convert {\n",
              "      background-color: #E8F0FE;\n",
              "      border: none;\n",
              "      border-radius: 50%;\n",
              "      cursor: pointer;\n",
              "      display: none;\n",
              "      fill: #1967D2;\n",
              "      height: 32px;\n",
              "      padding: 0 0 0 0;\n",
              "      width: 32px;\n",
              "    }\n",
              "\n",
              "    .colab-df-convert:hover {\n",
              "      background-color: #E2EBFA;\n",
              "      box-shadow: 0px 1px 2px rgba(60, 64, 67, 0.3), 0px 1px 3px 1px rgba(60, 64, 67, 0.15);\n",
              "      fill: #174EA6;\n",
              "    }\n",
              "\n",
              "    [theme=dark] .colab-df-convert {\n",
              "      background-color: #3B4455;\n",
              "      fill: #D2E3FC;\n",
              "    }\n",
              "\n",
              "    [theme=dark] .colab-df-convert:hover {\n",
              "      background-color: #434B5C;\n",
              "      box-shadow: 0px 1px 3px 1px rgba(0, 0, 0, 0.15);\n",
              "      filter: drop-shadow(0px 1px 2px rgba(0, 0, 0, 0.3));\n",
              "      fill: #FFFFFF;\n",
              "    }\n",
              "  </style>\n",
              "\n",
              "      <script>\n",
              "        const buttonEl =\n",
              "          document.querySelector('#df-6706de10-139f-47e7-8656-b4732da1c6d4 button.colab-df-convert');\n",
              "        buttonEl.style.display =\n",
              "          google.colab.kernel.accessAllowed ? 'block' : 'none';\n",
              "\n",
              "        async function convertToInteractive(key) {\n",
              "          const element = document.querySelector('#df-6706de10-139f-47e7-8656-b4732da1c6d4');\n",
              "          const dataTable =\n",
              "            await google.colab.kernel.invokeFunction('convertToInteractive',\n",
              "                                                     [key], {});\n",
              "          if (!dataTable) return;\n",
              "\n",
              "          const docLinkHtml = 'Like what you see? Visit the ' +\n",
              "            '<a target=\"_blank\" href=https://colab.research.google.com/notebooks/data_table.ipynb>data table notebook</a>'\n",
              "            + ' to learn more about interactive tables.';\n",
              "          element.innerHTML = '';\n",
              "          dataTable['output_type'] = 'display_data';\n",
              "          await google.colab.output.renderOutput(dataTable, element);\n",
              "          const docLink = document.createElement('div');\n",
              "          docLink.innerHTML = docLinkHtml;\n",
              "          element.appendChild(docLink);\n",
              "        }\n",
              "      </script>\n",
              "    </div>\n",
              "  </div>\n",
              "  "
            ],
            "text/plain": [
              "        year    make   model         trim       body transmission  \\\n",
              "558806  2015     Kia    K900       Luxury      Sedan          NaN   \n",
              "558807  2012     Ram    2500  Power Wagon   Crew Cab    automatic   \n",
              "558808  2012     BMW      X5    xDrive35d        SUV    automatic   \n",
              "558809  2015  Nissan  Altima        2.5 S      sedan    automatic   \n",
              "558810  2014    Ford   F-150          XLT  SuperCrew    automatic   \n",
              "\n",
              "                      vin state  condition  odometer   color interior  \\\n",
              "558806  knalw4d4xf6019304    in        4.5   18255.0  silver    black   \n",
              "558807  3c6td5et6cg112407    wa        5.0   54393.0   white    black   \n",
              "558808  5uxzw0c58cl668465    ca        4.8   50561.0   black    black   \n",
              "558809  1n4al3ap0fc216050    ga        3.8   16658.0   white    black   \n",
              "558810  1ftfw1et2eke87277    ca        3.4   15008.0    gray     gray   \n",
              "\n",
              "                                                   seller    mmr  \\\n",
              "558806                                   avis corporation  35300   \n",
              "558807                                    i -5 uhlmann rv  30200   \n",
              "558808             financial services remarketing (lease)  29800   \n",
              "558809  enterprise vehicle exchange / tra / rental / t...  15100   \n",
              "558810                   ford motor credit company,llc pd  29600   \n",
              "\n",
              "        sellingprice                                 saledate  \n",
              "558806         33000  Thu Jul 09 2015 07:00:00 GMT-0700 (PDT)  \n",
              "558807         30800  Wed Jul 08 2015 09:30:00 GMT-0700 (PDT)  \n",
              "558808         34000  Wed Jul 08 2015 09:30:00 GMT-0700 (PDT)  \n",
              "558809         11100  Thu Jul 09 2015 06:45:00 GMT-0700 (PDT)  \n",
              "558810         26700  Thu May 28 2015 05:30:00 GMT-0700 (PDT)  "
            ]
          },
          "metadata": {},
          "execution_count": 5
        }
      ],
      "source": [
        "# Previewing the bottom of our dataset\n",
        "df.tail()"
      ]
    },
    {
      "cell_type": "code",
      "execution_count": null,
      "metadata": {
        "id": "n8-dW4sQWzbc",
        "scrolled": true,
        "outputId": "0bc4aada-f9b1-4781-e77e-6c258af1eb68",
        "colab": {
          "base_uri": "https://localhost:8080/"
        }
      },
      "outputs": [
        {
          "output_type": "execute_result",
          "data": {
            "text/plain": [
              "year              int64\n",
              "make             object\n",
              "model            object\n",
              "trim             object\n",
              "body             object\n",
              "transmission     object\n",
              "vin              object\n",
              "state            object\n",
              "condition       float64\n",
              "odometer        float64\n",
              "color            object\n",
              "interior         object\n",
              "seller           object\n",
              "mmr               int64\n",
              "sellingprice      int64\n",
              "saledate         object\n",
              "dtype: object"
            ]
          },
          "metadata": {},
          "execution_count": 6
        }
      ],
      "source": [
        "# Checking whether each column has an appropriate datatype\n",
        "df.dtypes"
      ]
    },
    {
      "cell_type": "markdown",
      "metadata": {
        "id": "nEgAtn3da39v"
      },
      "source": [
        "Saledate is an object instead of datetime in format, we will change that during data cleaning."
      ]
    },
    {
      "cell_type": "code",
      "execution_count": null,
      "metadata": {
        "id": "rXFYjYyLa39v",
        "outputId": "0dd372df-9245-444b-90f8-e46f5dcf45a6",
        "colab": {
          "base_uri": "https://localhost:8080/"
        }
      },
      "outputs": [
        {
          "output_type": "execute_result",
          "data": {
            "text/plain": [
              "Index(['year', 'make', 'model', 'trim', 'body', 'transmission', 'vin', 'state',\n",
              "       'condition', 'odometer', 'color', 'interior', 'seller', 'mmr',\n",
              "       'sellingprice', 'saledate'],\n",
              "      dtype='object')"
            ]
          },
          "metadata": {},
          "execution_count": 7
        }
      ],
      "source": [
        "#Checking the columns in the dataset\n",
        "df.columns"
      ]
    },
    {
      "cell_type": "markdown",
      "metadata": {
        "id": "ckfufNrcUHeH"
      },
      "source": [
        "## 4. External Data Source Validation"
      ]
    },
    {
      "cell_type": "markdown",
      "metadata": {
        "id": "6L4sl_0WXlbg"
      },
      "source": [
        "Making sure your data matches something outside of the dataset is very important. It allows you to ensure that the measurements are roughly in line with what they should be and it serves as a check on what other things might be wrong in your dataset. External validation can often be as simple as checking your data against a single number, as we will do here.\n",
        "\n",
        "An example would be suppose that you're working with a dataset on the population of countries during the year 2016. Validating such information with an external reliable resource such as World Bank Data would be important step to providing credibility to your dataset. Have a look at the following link for an example. [Link](https://rstudio-pubs-static.s3.amazonaws.com/182250_19977d0c5c06403fbad1e653850fc7c6.html)."
      ]
    },
    {
      "cell_type": "markdown",
      "metadata": {
        "id": "6XC_g-zKxe-r"
      },
      "source": [
        "### a.Validation"
      ]
    },
    {
      "cell_type": "markdown",
      "metadata": {
        "id": "FlBMxEDBUc9B"
      },
      "source": [
        "## 5. Tidying the Dataset"
      ]
    },
    {
      "cell_type": "code",
      "execution_count": null,
      "metadata": {
        "scrolled": false,
        "id": "lDPjLmXPa39w",
        "outputId": "0ef17b16-d4ad-4974-e5e6-1abd104e9543",
        "colab": {
          "base_uri": "https://localhost:8080/"
        }
      },
      "outputs": [
        {
          "output_type": "stream",
          "name": "stdout",
          "text": [
            "Unique values of  year is [2015 2014 2013 2012 2011 2010 2009 2008 2007 2006 2005 2004 2003 2002\n",
            " 2001 2000 1999 1998 1995 1996 1997 1987 1994 1993 1992 1989 1991 1990\n",
            " 1986 1985 1988 1984 1982 1983]\n",
            "Unique values of  make is ['Kia' 'BMW' 'Volvo' 'Nissan' 'Chevrolet' 'Audi' 'Ford' 'Hyundai' 'Buick'\n",
            " 'Cadillac' 'Acura' 'Lexus' 'Infiniti' 'Jeep' 'Mercedes-Benz' 'Mitsubishi'\n",
            " 'Mazda' 'MINI' 'Land Rover' 'Lincoln' 'lincoln' 'Jaguar' 'Volkswagen'\n",
            " 'Toyota' 'Subaru' 'Scion' 'Porsche' nan 'bmw' 'Dodge' 'FIAT' 'Chrysler'\n",
            " 'ford' 'Ferrari' 'Honda' 'GMC' 'mitsubishi' 'Ram' 'smart' 'chevrolet'\n",
            " 'Bentley' 'chrysler' 'pontiac' 'Pontiac' 'Saturn' 'Maserati' 'Mercury'\n",
            " 'HUMMER' 'landrover' 'cadillac' 'land rover' 'mercedes' 'mazda' 'toyota'\n",
            " 'lexus' 'gmc truck' 'honda' 'nissan' 'porsche' 'Saab' 'Suzuki' 'dodge'\n",
            " 'subaru' 'Oldsmobile' 'oldsmobile' 'hyundai' 'jeep' 'Isuzu' 'dodge tk'\n",
            " 'Geo' 'acura' 'volkswagen' 'suzuki' 'kia' 'audi' 'Rolls-Royce' 'gmc'\n",
            " 'maserati' 'mazda tk' 'mercury' 'buick' 'hyundai tk' 'mercedes-b' 'vw'\n",
            " 'Daewoo' 'chev truck' 'ford tk' 'plymouth' 'Plymouth' 'ford truck'\n",
            " 'Tesla' 'airstream' 'dot' 'Aston Martin' 'Fisker' 'Lamborghini' 'Lotus']\n",
            "Unique values of  model is ['Sorento' '3 Series' 'S60' '6 Series Gran Coupe' 'Altima' 'M5' 'Cruze'\n",
            " 'A4' 'Camaro' 'A6' 'Optima' 'Fusion' 'Sonata' 'Q5' '6 Series' 'Impala'\n",
            " '5 Series' 'A3' 'XC70' 'X5' 'SQ5' 'S5' 'Verano' 'Suburban' 'ELR' 'V60'\n",
            " 'X6' 'ILX' 'K900' 'Malibu' 'RX 350' 'Versa' 'Elantra' 'Versa Note' 'A8'\n",
            " 'X1' nan 'Enclave' 'TTS' '4 Series' 'Silverado 2500HD' 'MDX'\n",
            " 'Silverado 1500' 'SRX' 'G Coupe' 'G Sedan' 'FX' 'Santa Fe' 'Genesis'\n",
            " 'Equus' 'Sonata Hybrid' 'Accent' 'Veloster' 'Elantra Coupe' 'Azera'\n",
            " 'Tucson' 'Genesis Coupe' 'Wrangler' 'S-Class' 'GS 350' 'Outlander'\n",
            " 'C-Class' 'Mazda2' 'Rio' 'M' '370Z' 'Soul' 'Outlander Sport' 'SLK-Class'\n",
            " 'ES 350' 'E-Class' 'Mazda3' 'Cooper Clubman' 'Cooper' 'CX-9' 'Forte'\n",
            " 'Compass' 'JX' 'RX 450h' 'LR4' 'Mazda5' 'Range Rover Evoque' 'LS 460'\n",
            " 'GLK-Class' 'Sportage' 'Grand Cherokee' 'MKX' 'mkt' 'XF' 'GL-Class'\n",
            " 'M-Class' 'Cooper Countryman' 'Lancer' 'Range Rover Sport' 'Passat'\n",
            " 'Corolla' 'XC60' 'Sienna' 'Juke' 'Yaris' 'Sentra' 'Rogue' 'NV' 'CC'\n",
            " 'Leaf' 'Camry' 'Tacoma' 'Jetta' 'Impreza WRX' 'FJ Cruiser' 'Beetle'\n",
            " 'Avalon' 'FR-S' 'NV200' 'RAV4' 'Quest' 'Tundra' 'tC' 'Maxima' 'Cayenne'\n",
            " '911' 'Xterra' 'Prius' 'S80' 'Frontier' 'Boxster' 'Camry Hybrid' 'xB'\n",
            " 'Cube' 'Jetta SportWagen' '4Runner' 'Sequoia' 'Legacy' 'Armada' 'Venza'\n",
            " 'Murano' 'Pathfinder' 'Panamera' 'Forester' 'Highlander' 'Impreza' '750i'\n",
            " 'TSX' '7 Series' '1 Series' 'TL' '750li' 'S4' 'A7' 'A5' 'RDX' 'M3'\n",
            " 'Cooper Coupe' 'ZDX' 'R8' 'X3' 'Avenger' 'E-Series Wagon' 'Escape' 'Edge'\n",
            " 'Focus' 'Flex' 'Z4' 'Traverse' 'F-350 Super Duty' 'Fiesta' '500' '200'\n",
            " 'Journey' 'Charger' 'e350' 'Equinox' '300' 'F-150' 'Explorer'\n",
            " 'Captiva Sport' 'Escalade' 'Grand Caravan' 'CTS Coupe' 'Town and Country'\n",
            " 'E-Series Van' 'Volt' 'Express Cargo' 'e150' 'X5 M' 'Expedition'\n",
            " 'Colorado' 'Express' 'California' 'Escalade ESV' 'Sonic' 'Accord' 'CR-V'\n",
            " 'Mustang' 'Civic' 'Fit' 'Pilot' 'Odyssey' 'Crosstour' 'Transit Connect'\n",
            " 'Terrain' 'Taurus' 'G Convertible' 'Yukon' 'Veracruz' 'XJ' 'Liberty'\n",
            " 'IS 250' 'XK' 'QX' 'CT 200h' 'Mazda6' 'MKZ' 'Navigator' 'Range Rover'\n",
            " 'SL-Class' 'Sedona' 'IS 350' 'Patriot' 'galant' '1500' 'GT-R' '2500'\n",
            " 'Galant' 'fortwo' 'GLI' '5 Series Gran Turismo' 'XC90' 'Tiguan' 'GTI'\n",
            " 'Q7' 'Highlander Hybrid' 'Prius Plug-in' 'CR-Z' 'EX' 'Sierra 1500'\n",
            " 'LaCrosse' 'HHR' 'Accord Crosstour' 'CTS' 'Nitro' 'Tahoe' 'Challenger'\n",
            " 'CTS-V' 'Escape Hybrid' 'X6 M' 'Ranger' 'Insight' 'Fusion Hybrid'\n",
            " 'CTS-V Coupe' 'F-250 Super Duty' 'Acadia' 'Impala Limited' 'Dart' 'Spark'\n",
            " 'M37' 'Sprinter' 'Town Car' 'CLS-Class' 'CX-7' 'MKT' 'QX56' 'Aveo'\n",
            " 'Outback' 'Caliber' 'Routan' 'g1500' 'Sebring' 'Corvette'\n",
            " 'Continental GT Speed' 'malibu' 'Land Cruiser' 'town' 'V50' 'Commander'\n",
            " 'Altima Hybrid' 'G37 Convertible' 'g6' 'New Beetle' 'Golf' 'LR2'\n",
            " 'Lancer Sportback' 'G5' 'Yukon XL' 'Escalade Hybrid' 'Avalanche' 'Titan'\n",
            " 'Spectra' 'Rondo' 'Borrego' 'G-Class' 'MKS' 'CLK-Class' 'Tahoe Hybrid'\n",
            " 'Econoline Cargo' 'Econoline Wagon' 'PT Cruiser' 'STS' 'Ridgeline'\n",
            " 'F-450 Super Duty' 'Magnum' 'Durango' 'S40' 'Malibu Classic' 'TT'\n",
            " 'Taurus X' 'Explorer Sport Trac' 'Ram Pickup 1500' 'impala' 'Cobalt'\n",
            " 'Pacifica' 'S6' 'Rabbit' 'C70' 'Sierra 2500HD' 'C30' 'VUE' 'GranTurismo'\n",
            " 'G6' 'Grand Prix' '350Z' 'Raider' 'Mazdaspeed Mazda3' 'Solstice' 'Milan'\n",
            " 'GX 470' 'Aura' 'RX 400h' 'Matrix' 'H3' 'CL-Class' 'Outlook' '7' 'G37'\n",
            " 'IS F' 'Touareg 2' 'Lancer Evolution' 'G35' 'xD' 'XJ-Series' 'G8' 'hhr'\n",
            " 'H2' 'DTS' 'lr3' 'sts' 'Silverado 1500 Classic' 'M45' 'Uplander'\n",
            " 'GS 450h' 'corvette' 'rangerover' 'Rendezvous' 'Monte Carlo' 'FX35'\n",
            " 'range' 'ION' 'R-Class' 'lancer' 'Eclipse' 'c230wz' 'cx-7' 'B9 Tribeca'\n",
            " 'matrix' 'tundra' 'RSX' 'mazda5' 'Mariner' 'gx' 'Five Hundred' 'Envoy XL'\n",
            " 'S-Type' 'Element' 'Continental Flying Spur' 'S2000' 'FX45' 'sr' 'pilot'\n",
            " 'GS 430' 'Cayman S' 'Mark LT' 'ES 330' 'GS 300' '350z' 'Camry Solara'\n",
            " 'rx8' 'Touareg' 'Relay' 'lx' 'allroad quattro' '9-3' '500L'\n",
            " 'C-Max Hybrid' 'pacifica' 'Freestyle' 'Ram Pickup 3500' 'Sprinter Cargo'\n",
            " 'DeVille' 'H2 SUT' 'TrailBlazer' 'Canyon' 'srx' 'Dakota' 'Continental GT'\n",
            " 'Neon' 'Stratus' 'Q45' 'Freestar' 'Montana' 'Grand Marquis' 'XLR'\n",
            " 'Aviator' 'g55' 'MPV' 'LS 430' 'Verona' 'Forenza' 'RX 330' '300M'\n",
            " 'SC 430' 'discovery' 'Excursion' 'Envoy XUV' 'Envoy' 'Concorde'\n",
            " 'Monterey' 'stratus' 'Mountaineer' 'Amanti' 'Malibu Maxx' 'Celica'\n",
            " 'Grand Am' 'Endeavor' 'Marauder' 'escape' 'QX4' 'LS' 'Blazer'\n",
            " 'Ram Pickup 2500' 'LeSabre' 'V40' 'Mazdaspeed Protege' 'Montero' 'ES 300'\n",
            " 'focus' 'Thunderbird' 'Century' 'Cavalier' 'Venture' 'S-10' 's55'\n",
            " 'Cougar' 'XL-7' 'Windstar' 'Silverado 1500HD' 'Explorer Sport'\n",
            " 'Savana Cargo' 'X-Type' 'Sonoma' 'IS 300' 'forester' 'Protege5'\n",
            " 'sprinter' 'RL' 'Alero' 'Grand Vitara' 'RX 300' 'L-Series' 'V70'\n",
            " 'Intrigue' 'XC' 'Discovery Series II' 'S-Series' 'alero' 'santa' 'ECHO'\n",
            " 'MX-5 Miata' 'Continental' 'Seville' 'camry' 'Park Avenue' 'Millenia'\n",
            " 'I30' 'gr' 'sienna' 'camaro' 'Cherokee' 'Z3' 'civic' 'ram' 'odyssey'\n",
            " 'taurus' 'expedition' 'Prizm' 'Escort' 's10' 'LHS' 'windstar' 'f250'\n",
            " 'Regal' 'explorer' 'G20' 'Bonneville' 'Eldorado' 'voyager' 'venture'\n",
            " 'durango' 'Intrepid' 'Contour' 'S90' 'Sunfire' 'mpv' 'caravan' '200SX'\n",
            " 'Rodeo' 'wrangler' 'f150' 'Tercel' 'S70' 'Discovery' 'Mustang SVT Cobra'\n",
            " '300e' 'pickup' 'ciera' 'Legend' 'LS 400' 'Cutlass Ciera'\n",
            " 'Santa Fe Sport' 'Cadenza' 'Q50' 'Elantra GT' 'F-TYPE' 'Shelby GT500'\n",
            " 'QX70' 'QX60' 'Q60 Convertible' 'Cooper Roadster' 'CX-5' 'Cooper Paceman'\n",
            " 'Rogue Select' 'Cayman' 'CLA-Class' 'allroad' 'ATS' 'Prius v'\n",
            " 'Continental GTC' 'XV Crosstrek' '3500' 'C-Max Energi' 'Focus ST' 'RS 7'\n",
            " 'GX 460' 'CTS Wagon' 'SLS AMG' 'Aspen' 'Eclipse Spyder' 'Vibe' 'Eos'\n",
            " 'Entourage' 'expeditn' 'rl' 'Caravan' 'Quattroporte' 'M35' '9-5' 'SSR'\n",
            " 'Astro Cargo' 'Safari Cargo' 'passat' 'Tribute' 'Diamante' 'Sable'\n",
            " 'Silverado 3500' 'Phaeton' 'R32' 'I35' 'g500' 'Bravada'\n",
            " 'Tahoe Limited/Z71' 'Truck' 'C/K 1500 Series' 'grand' 'SC 300'\n",
            " 'Roadmaster' 'SC 400' '420sel' 'LX 570' 'QX80' 'RS 5' 'Jetta GLI'\n",
            " 'ES 300h' 'capt' 'M4' 'SX4' 'iQ' 'Kizashi' 'C/V Cargo Van' 'Prius c'\n",
            " '750lxi' 'alp' 'Lucerne' 'Escalade EXT' 'Silverado 3500HD'\n",
            " 'Crown Victoria' 'Sierra 3500HD' 'M56' 'rio' 'IS 250 C' '3' 'endeavor'\n",
            " 'corolla' 'jetta' 'ActiveHybrid X6' 'a4' 'dts' 'g3500' 'colorado'\n",
            " 'sebring' 'e250' 'police' 'Elantra Touring' 'G37 Coupe' 'HS 250h'\n",
            " 'journey' 'Mazdaspeed3' 'Milan Hybrid' 'Ghost' 'Silverado 1500 Hybrid'\n",
            " 'crown' 'Yukon Hybrid' 'elantra' 'optima' 'borrego' 'mazda6' '6'\n",
            " 'Mariner Hybrid' 'montana' 'Torrent' 'VUE Hybrid' 'G3' '9-7X' 'vibe'\n",
            " 'Expedition EL' 'Tiburon' 'patriot' 'LR3' 'Navigator L' 'Astra' 'Tribeca'\n",
            " 'XL7' 'sx4' 'Sky' 'Reno' 'M6' 'S8' 'Terraza' 'Silverado 2500HD Classic'\n",
            " 'uplander' 'ram3500' 'Sierra 1500 Classic' 'Sierra 2500HD Classic'\n",
            " 'Fusion Energi' 'XK-Series' 'quattroporte' 'B-Series Truck' 'mazda3'\n",
            " 'b200' 'Mazdaspeed Mazda6' 'Montego' 'g5' 'yaris' 'Rainier'\n",
            " 'TrailBlazer EXT' 'optra' 'Crossfire' 'magnum' 'savana' 'Sierra 1500HD'\n",
            " 'ridgelin' 'Savana' 'Zephyr' 'rrs' 'tribute' 'carrera' 'Montana SV6'\n",
            " 'wave' 'tt' 'Classic' 'pt' 'freestyle' 'Ascender' 'XG350' 'Q60 Coupe'\n",
            " 'Q70' 'QX50' 'pursuit' 'x-trail' 'GTO' 'xA' 'L300' 'Baja' '9-2X' 'Aerio'\n",
            " 'el' 'rainier' 'Silverado 2500' 'Astro' 'Tracker' 'intrepid'\n",
            " 'F-150 Heritage' 'expedit' 'accord' 'Freelander' 'c240w' 'MR2 Spyder'\n",
            " 'RS 6' '320i' 'Voyager' 'Axiom' 'cl55' 'Montero Sport' 'sl55' 'Protege'\n",
            " 'Silhouette' 'b1500' 'concorde' '626' 'Blackwood' 'Rodeo Sport' 'LX 470'\n",
            " 'Villager' 'Firebird' 'Aztek' 'Aurora' 'CL' 'EuroVan' 'Catera' 'Leganza'\n",
            " 'XG300' 'Prelude' 'Trooper' 'Prowler' 'Cabrio' 'Integra' 'cavalier'\n",
            " 'astro' 'excurs' 'dakota' 'Cirrus' 'twn&country' 'Jimmy' 'safari'\n",
            " 'ranger' 'sonoma' 'Sierra 2500' 'yukon' 'Sephia' 'Passport' 'Mirage'\n",
            " 'breeze' 'silhouette' 'villager' 'beetle' 'suburban' 'Lumina' 'Amigo'\n",
            " 'mountaineer' 'Esteem' 'pathfinder' 'quest' 'Breeze' 'e300dt' 'intrigue'\n",
            " 'lumina' 'Cabriolet' 'envoy' 'Cutlass' 'GS 400' 'E-150' 'Regency'\n",
            " 'thunderbird' 'B-Series Pickup' 'legacy' 'corsica' 'bronco' 'Le Baron'\n",
            " 'Caprice' 'Pickup' 'century' '500-Class' '300-Class' 'previa'\n",
            " 'Murano CrossCabriolet' 'NV Cargo' 'Jetta Hybrid' 'S7' 'Encore' 'XTS'\n",
            " 'Black Diamond Avalanche' 'RLX' '2 Series' 'M6 Gran Coupe' 'regal'\n",
            " 'versa' 'BRZ' 'C/V Tradesman' 'Model S' 'Beetle Convertible' 'Golf R'\n",
            " 'routan' 'TSX Sport Wagon' 'interstate' 'a6' 'Corvette Stingray' 'SS'\n",
            " 'Mazdaspeed 3' 'i-MiEV' 'F430' 'EX35' 'swift' 'GranSport' 'escalade'\n",
            " 'neon' 'f350' 'Yukon Denali' 'Ghibli' '960' 'Cutlass Supreme' 'cougar'\n",
            " 'IS 350 C' 'lacrosse' 'tucson' '323i' 'cobalt' 'x3'\n",
            " 'Mazdaspeed MX-5 Miata' 'Ram Cargo' 'Safari' 'Eighty-Eight' '850' 'J30'\n",
            " 'Promaster Cargo Van' 'sonic' 'rr' '1' 'Malibu Hybrid' '350' 'twn/cntry'\n",
            " 'Spirit' 'Accord Hybrid' '3 Series Gran Turismo' 'e' 'cruze' 'c230'\n",
            " 'crossfire' 'Viper' 'Riviera' 'compass' 'Avalon Hybrid' 'RX-8'\n",
            " 'V8 Vantage' 'Equator' 'sportage' 'C/K 3500 Series' 'Mark VIII' 'charger'\n",
            " 'GranTurismo Convertible' 'avenger' 'equinox' 'allure' 'c240s' 'Vitara'\n",
            " 'avalon' 'eurovan' 'siera' 'pathfind' 'Eighty-Eight Royale' 'cherokee'\n",
            " 'ActiveHybrid 7' 'aveo' 'GS 460' 'Tribute Hybrid' 'Aura Hybrid' 'tahoe'\n",
            " 'g2500' '300ZX' 'Golf GTI' 'i-Series' 'golf' 'MKZ Hybrid' 'Macan' 'FX50'\n",
            " 'comm' 'STS-V' 'Windstar Cargo' 'CTS-V Wagon' 'Karma' '328i' 'Z4 M' '42c'\n",
            " 'subrbn' 'b2300' 'mountnr' 'Coupe' 'uplandr' 'Ram Van' 'Tempo' 'Tracer'\n",
            " 'CV Tradesman' 'DB9' 'C/K 2500 Series' 'i8' 'Rapide' 'Nubira' 'Corsica'\n",
            " 'NV Passenger' 'Spyder' 'LS 600h L' '400-Class' 'H3T' 'LX 450' 'WRX'\n",
            " 'Silverado 3500 Classic' '500e' 'Continental Supersports' 'Sierra 3500'\n",
            " 'Mystique' 'F-150 SVT Lightning' '190-Class' 'MKC' 'Aspire' '940'\n",
            " 'Gallardo' 'Continental Flying Spur Speed' '3000GT' 'TT RS' 'B-Series'\n",
            " 'ActiveHybrid 5' 'Sierra 1500 Hybrid' 'ML55 AMG' 'S-10 Blazer' 'RS 4'\n",
            " 'T100' 'Continental GTC Speed' 'mdx' 'Transit Van' 'F-250' 'Sidekick'\n",
            " 'E-250' '8 Series' '420-Class' 'E-350' 'Achieva' 'B-Class Electric Drive'\n",
            " 'Fleetwood' 'Paseo' 'Civic del Sol' 'Exige' 'X4' 'Spark EV'\n",
            " 'Transit Wagon' 'H1' 'SLS AMG GT' 'Flying Spur' 'Metro'\n",
            " 'Grand Cherokee SRT' 'RC F' 'Q3' '4 Series Gran Coupe' 'RC 350' '360'\n",
            " 'GLA-Class' 'TLX' '458 Italia']\n",
            "Unique values of  trim is ['LX' '328i SULEV' 'T5' ... 'pure' 'EWB' 'Power Wagon']\n",
            "Unique values of  body is ['SUV' 'Sedan' 'Convertible' 'Coupe' 'Wagon' 'Hatchback' 'Crew Cab'\n",
            " 'G Coupe' 'G Sedan' 'Elantra Coupe' 'Genesis Coupe' 'Minivan' nan 'Van'\n",
            " 'Double Cab' 'CrewMax Cab' 'Access Cab' 'King Cab' 'SuperCrew'\n",
            " 'CTS Coupe' 'Extended Cab' 'E-Series Van' 'SuperCab' 'Regular Cab'\n",
            " 'G Convertible' 'Koup' 'Quad Cab' 'CTS-V Coupe' 'sedan' 'G37 Convertible'\n",
            " 'Club Cab' 'Xtracab' 'Q60 Convertible' 'CTS Wagon' 'convertible'\n",
            " 'G37 Coupe' 'Mega Cab' 'Cab Plus 4' 'Q60 Coupe' 'Cab Plus'\n",
            " 'Beetle Convertible' 'TSX Sport Wagon' 'Promaster Cargo Van'\n",
            " 'GranTurismo Convertible' 'CTS-V Wagon' 'Ram Van' 'minivan' 'suv'\n",
            " 'Transit Van' 'van' 'regular-cab' 'g sedan' 'g coupe' 'hatchback'\n",
            " 'king cab' 'supercrew' 'g convertible' 'coupe' 'crew cab' 'wagon'\n",
            " 'double cab' 'e-series van' 'regular cab' 'quad cab' 'g37 convertible'\n",
            " 'supercab' 'extended cab' 'crewmax cab' 'genesis coupe' 'access cab'\n",
            " 'mega cab' 'xtracab' 'beetle convertible' 'cts coupe' 'koup' 'club cab'\n",
            " 'elantra coupe' 'q60 coupe' 'cts-v coupe' 'transit van'\n",
            " 'granturismo convertible' 'tsx sport wagon' 'promaster cargo van'\n",
            " 'q60 convertible' 'g37 coupe' 'cab plus 4' 'cts wagon']\n",
            "Unique values of  transmission is ['automatic' nan 'manual']\n",
            "Unique values of  vin is ['5xyktca69fg566472' '5xyktca69fg561319' 'wba3c1c51ek116351' ...\n",
            " '5uxzw0c58cl668465' '1n4al3ap0fc216050' '1ftfw1et2eke87277']\n",
            "Unique values of  state is ['ca' 'tx' 'pa' 'mn' 'az' 'wi' 'tn' 'md' 'fl' 'ne' 'nj' 'nv' 'oh' 'mi'\n",
            " 'ga' 'va' 'sc' 'nc' 'in' 'il' 'co' 'ut' 'mo' 'ny' 'ma' 'pr' 'or' 'la'\n",
            " 'wa' 'hi' 'qc' 'ab' 'on' 'ok' 'ms' 'nm' 'al' 'ns']\n",
            "Unique values of  condition is [5.  4.5 4.1 4.3 1.  3.4 2.  4.2 3.  4.8 nan 4.9 1.7 1.9 2.9 3.8 4.4 4.7\n",
            " 3.2 4.  2.5 3.7 3.9 3.1 2.8 4.6 3.6 3.5 2.6 2.1 2.2 2.7 2.4 3.3 2.3 1.5\n",
            " 1.6 1.8 1.2 1.4 1.1 1.3]\n",
            "Unique values of  odometer is [ 16639.   9393.   1331. ... 204835. 111069. 262065.]\n",
            "Unique values of  color is ['white' 'gray' 'black' 'red' 'silver' 'blue' 'brown' 'beige' 'purple'\n",
            " 'burgundy' '—' 'gold' 'yellow' 'green' 'charcoal' nan 'orange'\n",
            " 'off-white' 'turquoise' 'pink' 'lime']\n",
            "Unique values of  interior is ['black' 'beige' 'tan' '—' 'gray' 'brown' 'burgundy' 'white' nan 'silver'\n",
            " 'off-white' 'blue' 'red' 'yellow' 'green' 'purple' 'orange' 'gold']\n",
            "Unique values of  seller is ['kia motors america, inc' 'financial services remarketing (lease)'\n",
            " 'volvo na rep/world omni' ... 'maserati north america inc'\n",
            " 'alternative financial group inc' 'i -5 uhlmann rv']\n",
            "Unique values of  mmr is [ 20500  20800  31900 ... 182000 119000 164000]\n",
            "Unique values of  sellingprice is [ 21500  30000  27750 ... 169000  16550  27840]\n",
            "Unique values of  saledate is ['Tue Dec 16 2014 12:30:00 GMT-0800 (PST)'\n",
            " 'Thu Jan 15 2015 04:30:00 GMT-0800 (PST)'\n",
            " 'Thu Jan 29 2015 04:30:00 GMT-0800 (PST)' ...\n",
            " 'Tue Jul 07 2015 08:45:00 GMT-0700 (PDT)'\n",
            " 'Thu Jul 02 2015 13:20:00 GMT-0700 (PDT)'\n",
            " 'Wed Jul 08 2015 09:45:00 GMT-0700 (PDT)']\n"
          ]
        }
      ],
      "source": [
        "# Checking for Anomalies\n",
        "for i in df.columns:\n",
        "    u = df[i].unique()\n",
        "    print('Unique values of ', i , 'is' , u)"
      ]
    },
    {
      "cell_type": "markdown",
      "metadata": {
        "id": "D-uWlq1oa39x"
      },
      "source": [
        "More investigation is needed in some columns."
      ]
    },
    {
      "cell_type": "code",
      "execution_count": null,
      "metadata": {
        "scrolled": true,
        "id": "u4ctNUb3a39x",
        "outputId": "8cc2d092-274f-4451-e4c8-8699ac9437c8",
        "colab": {
          "base_uri": "https://localhost:8080/"
        }
      },
      "outputs": [
        {
          "output_type": "stream",
          "name": "stdout",
          "text": [
            "['black' 'beige' 'tan' '—' 'gray' 'brown' 'burgundy' 'white' nan 'silver'\n",
            " 'off-white' 'blue' 'red' 'yellow' 'green' 'purple' 'orange' 'gold']\n",
            "['white' 'gray' 'black' 'red' 'silver' 'blue' 'brown' 'beige' 'purple'\n",
            " 'burgundy' '—' 'gold' 'yellow' 'green' 'charcoal' nan 'orange'\n",
            " 'off-white' 'turquoise' 'pink' 'lime']\n"
          ]
        }
      ],
      "source": [
        "#hecking for dashes in the interior and color column\n",
        "print(df['interior'].unique())\n",
        "print(df['color'].unique())"
      ]
    },
    {
      "cell_type": "code",
      "execution_count": null,
      "metadata": {
        "id": "0HzugGYta39x",
        "outputId": "ed7267c3-b53b-4eb3-b130-0357884a8e95",
        "colab": {
          "base_uri": "https://localhost:8080/"
        }
      },
      "outputs": [
        {
          "output_type": "execute_result",
          "data": {
            "text/plain": [
              "year            24685\n",
              "make            24487\n",
              "model           24476\n",
              "trim            24483\n",
              "body            24451\n",
              "transmission    22338\n",
              "vin             24685\n",
              "state           24685\n",
              "condition       24614\n",
              "odometer        24685\n",
              "color           24685\n",
              "interior        24685\n",
              "seller          24685\n",
              "mmr             24685\n",
              "sellingprice    24685\n",
              "saledate        24685\n",
              "dtype: int64"
            ]
          },
          "metadata": {},
          "execution_count": 10
        }
      ],
      "source": [
        "#Checking columns where interior is a dash\n",
        "df[df['color'] == '—'].count()"
      ]
    },
    {
      "cell_type": "code",
      "execution_count": null,
      "metadata": {
        "scrolled": false,
        "id": "HyfdQ2xDa39y",
        "outputId": "ab32f5d9-5f4f-425e-8383-83ec64ce9400",
        "colab": {
          "base_uri": "https://localhost:8080/"
        }
      },
      "outputs": [
        {
          "output_type": "execute_result",
          "data": {
            "text/plain": [
              "year            24685\n",
              "make            24487\n",
              "model           24476\n",
              "trim            24483\n",
              "body            24451\n",
              "transmission    22338\n",
              "vin             24685\n",
              "state           24685\n",
              "condition       24614\n",
              "odometer        24685\n",
              "color           24685\n",
              "interior        24685\n",
              "seller          24685\n",
              "mmr             24685\n",
              "sellingprice    24685\n",
              "saledate        24685\n",
              "dtype: int64"
            ]
          },
          "metadata": {},
          "execution_count": 11
        }
      ],
      "source": [
        "#Checking columns where color is a dash\n",
        "df[df['color'] == '—'].count()"
      ]
    },
    {
      "cell_type": "markdown",
      "metadata": {
        "id": "ouoL114ba39y"
      },
      "source": [
        "There are instances where the color and interior is a dash (24685). We will consider them as null values."
      ]
    },
    {
      "cell_type": "code",
      "execution_count": null,
      "metadata": {
        "id": "0rBpn_B8a39y"
      },
      "outputs": [],
      "source": [
        "#Replacing the dashes with a null\n",
        "df.replace(['—'], np.nan, inplace=True)"
      ]
    },
    {
      "cell_type": "markdown",
      "metadata": {
        "id": "maSXW9F5a39y"
      },
      "source": [
        "Anywhere in the dataset there is a dash has been replaced as a null."
      ]
    },
    {
      "cell_type": "code",
      "execution_count": null,
      "metadata": {
        "id": "n0hUaY8Ga39z",
        "outputId": "8b703988-8513-4a24-b166-fbd16d16c5c8",
        "colab": {
          "base_uri": "https://localhost:8080/"
        }
      },
      "outputs": [
        {
          "output_type": "stream",
          "name": "stdout",
          "text": [
            "['CA' 'TX' 'PA' 'MN' 'AZ' 'WI' 'TN' 'MD' 'FL' 'NE' 'NJ' 'NV' 'OH' 'MI'\n",
            " 'GA' 'VA' 'SC' 'NC' 'IN' 'IL' 'CO' 'UT' 'MO' 'NY' 'MA' 'PR' 'OR' 'LA'\n",
            " 'WA' 'HI' 'QC' 'AB' 'ON' 'OK' 'MS' 'NM' 'AL' 'NS']\n"
          ]
        }
      ],
      "source": [
        "#The states are all in lower case, we will make them upper case\n",
        "df['state'] = df['state'].str.upper()\n",
        "print(df['state'].unique())"
      ]
    },
    {
      "cell_type": "markdown",
      "metadata": {
        "id": "6xBg3z6aa39z"
      },
      "source": [
        "The change has taken effect"
      ]
    },
    {
      "cell_type": "code",
      "execution_count": null,
      "metadata": {
        "id": "uSTGbN8_a39z",
        "outputId": "e6078159-a653-474d-ac75-3d4f7ab03efe",
        "colab": {
          "base_uri": "https://localhost:8080/"
        }
      },
      "outputs": [
        {
          "output_type": "stream",
          "name": "stdout",
          "text": [
            "<DatetimeArray>\n",
            "['2014-12-16 04:30:00+00:00', '2015-01-14 20:30:00+00:00',\n",
            " '2015-01-28 20:30:00+00:00', '2014-12-18 04:30:00+00:00',\n",
            " '2014-12-30 04:00:00+00:00', '2014-12-17 04:30:00+00:00',\n",
            " '2014-12-16 05:00:00+00:00', '2014-12-18 04:00:00+00:00',\n",
            " '2015-01-19 20:00:00+00:00', '2014-12-16 04:00:00+00:00',\n",
            " ...\n",
            " '2015-06-18 18:45:00+00:00', '2015-06-29 21:00:00+00:00',\n",
            " '2015-06-17 21:40:00+00:00', '2015-06-23 01:00:00+00:00',\n",
            " '2015-06-23 21:45:00+00:00', '2015-06-25 00:10:00+00:00',\n",
            " '2015-07-08 02:05:00+00:00', '2015-07-07 01:45:00+00:00',\n",
            " '2015-07-02 06:20:00+00:00', '2015-07-08 02:45:00+00:00']\n",
            "Length: 3745, dtype: datetime64[ns, UTC]\n"
          ]
        }
      ],
      "source": [
        "#Converting the saledate from object to date type\n",
        "df['saledate'] = pd.to_datetime(df['saledate'], utc=True)\n",
        "print(df['saledate'].unique())"
      ]
    },
    {
      "cell_type": "markdown",
      "metadata": {
        "id": "W6LBIzFja390"
      },
      "source": [
        "The salesdate column is now based on our current time and not different time zones."
      ]
    },
    {
      "cell_type": "code",
      "execution_count": null,
      "metadata": {
        "id": "_WdG_ppYa390",
        "outputId": "4316cf14-0db2-4b8c-d06f-73a71575f0a8",
        "colab": {
          "base_uri": "https://localhost:8080/"
        }
      },
      "outputs": [
        {
          "output_type": "execute_result",
          "data": {
            "text/plain": [
              "8515"
            ]
          },
          "metadata": {},
          "execution_count": 15
        }
      ],
      "source": [
        "#Looking for duplicates in unique column\n",
        "df['vin'].duplicated().sum()"
      ]
    },
    {
      "cell_type": "markdown",
      "metadata": {
        "id": "5Bg0lA6Ka390"
      },
      "source": [
        "VIN is a unique registration number to vehicles. Any duplicates means the data is false."
      ]
    },
    {
      "cell_type": "code",
      "execution_count": null,
      "metadata": {
        "id": "GYSCbLP6a390"
      },
      "outputs": [],
      "source": [
        "#Dropping the duplicates in the vin column\n",
        "df = df.drop_duplicates(subset=['vin'], keep='first')"
      ]
    },
    {
      "cell_type": "code",
      "execution_count": null,
      "metadata": {
        "id": "xyuGVA-ra391",
        "outputId": "724046cb-6d7c-4be4-c048-117a4eeaa1e1",
        "colab": {
          "base_uri": "https://localhost:8080/"
        }
      },
      "outputs": [
        {
          "output_type": "execute_result",
          "data": {
            "text/plain": [
              "0"
            ]
          },
          "metadata": {},
          "execution_count": 17
        }
      ],
      "source": [
        "#Checking if the changes have taken effect\n",
        "df['vin'].duplicated().sum()"
      ]
    },
    {
      "cell_type": "markdown",
      "metadata": {
        "id": "yTOutp_-a391"
      },
      "source": [
        "There are no more duplicates in the vin."
      ]
    },
    {
      "cell_type": "code",
      "execution_count": null,
      "metadata": {
        "scrolled": true,
        "id": "J1Rbq2Jja391",
        "outputId": "56d40377-b73b-4ac8-ddc0-fad4970ef44c",
        "colab": {
          "base_uri": "https://localhost:8080/"
        }
      },
      "outputs": [
        {
          "output_type": "stream",
          "name": "stdout",
          "text": [
            "['Kia' 'BMW' 'Volvo' 'Nissan' 'Chevrolet' 'Audi' 'Ford' 'Hyundai' 'Buick'\n",
            " 'Cadillac' 'Acura' 'Lexus' 'Infiniti' 'Jeep' 'Mercedes-Benz' 'Mitsubishi'\n",
            " 'Mazda' 'MINI' 'Land Rover' 'Lincoln' 'lincoln' 'Jaguar' 'Volkswagen'\n",
            " 'Toyota' 'Subaru' 'Scion' 'Porsche' nan 'bmw' 'Dodge' 'FIAT' 'Chrysler'\n",
            " 'ford' 'Ferrari' 'Honda' 'GMC' 'mitsubishi' 'Ram' 'smart' 'chevrolet'\n",
            " 'Bentley' 'chrysler' 'pontiac' 'Pontiac' 'Saturn' 'Maserati' 'Mercury'\n",
            " 'HUMMER' 'landrover' 'cadillac' 'land rover' 'mercedes' 'mazda' 'toyota'\n",
            " 'lexus' 'gmc truck' 'honda' 'nissan' 'porsche' 'Saab' 'Suzuki' 'dodge'\n",
            " 'subaru' 'Oldsmobile' 'oldsmobile' 'hyundai' 'jeep' 'Isuzu' 'dodge tk'\n",
            " 'Geo' 'acura' 'volkswagen' 'suzuki' 'kia' 'audi' 'Rolls-Royce' 'gmc'\n",
            " 'maserati' 'mazda tk' 'mercury' 'buick' 'hyundai tk' 'mercedes-b' 'vw'\n",
            " 'Daewoo' 'chev truck' 'ford tk' 'plymouth' 'Plymouth' 'ford truck'\n",
            " 'Tesla' 'airstream' 'dot' 'Aston Martin' 'Fisker' 'Lamborghini' 'Lotus']\n",
            "96\n"
          ]
        }
      ],
      "source": [
        "#The make column has double entries due to some being upper case while others lowercase.\n",
        "print(df['make'].unique())\n",
        "print(df['make'].nunique())"
      ]
    },
    {
      "cell_type": "markdown",
      "metadata": {
        "id": "Fd_zwO5oa391"
      },
      "source": [
        "There are 96 values which is incorrect."
      ]
    },
    {
      "cell_type": "code",
      "execution_count": null,
      "metadata": {
        "id": "xkZ3fQmba391",
        "outputId": "9d89b5d1-211b-4fd2-ed52-d46d9fb7d144",
        "colab": {
          "base_uri": "https://localhost:8080/"
        }
      },
      "outputs": [
        {
          "output_type": "stream",
          "name": "stdout",
          "text": [
            "66\n"
          ]
        }
      ],
      "source": [
        "#We will correct by making it all in lower case\n",
        "df['make'] = df['make'].str.lower()\n",
        "print(df['make'].nunique())"
      ]
    },
    {
      "cell_type": "markdown",
      "metadata": {
        "id": "OdX89eusa392"
      },
      "source": [
        "After lowering the strings there is now 66 unique values"
      ]
    },
    {
      "cell_type": "code",
      "execution_count": null,
      "metadata": {
        "id": "42D4sZUia392",
        "outputId": "5f26dfc2-4f1e-4774-e834-46bfe18dd781",
        "colab": {
          "base_uri": "https://localhost:8080/"
        }
      },
      "outputs": [
        {
          "output_type": "stream",
          "name": "stdout",
          "text": [
            "973\n",
            "851\n"
          ]
        }
      ],
      "source": [
        "#The same applies to model and body\n",
        "#Applying cleaning to model\n",
        "print(df['model'].nunique())\n",
        "df['model'] = df['model'].str.lower()\n",
        "print(df['model'].nunique())"
      ]
    },
    {
      "cell_type": "markdown",
      "metadata": {
        "id": "jWMdPWhHa392"
      },
      "source": [
        "The unique values of model drop from 973 to 851"
      ]
    },
    {
      "cell_type": "code",
      "execution_count": null,
      "metadata": {
        "id": "LIeR6ilda392",
        "outputId": "4685d6f7-58be-47b7-ef26-052609a4653e",
        "colab": {
          "base_uri": "https://localhost:8080/"
        }
      },
      "outputs": [
        {
          "output_type": "stream",
          "name": "stdout",
          "text": [
            "85\n",
            "45\n"
          ]
        }
      ],
      "source": [
        "#Applying cleaning to body\n",
        "print(df['body'].nunique())\n",
        "df['body'] = df['body'].str.lower()\n",
        "print(df['body'].nunique())"
      ]
    },
    {
      "cell_type": "markdown",
      "metadata": {
        "id": "UsA4qdZMa392"
      },
      "source": [
        "The unique values in body reduce from 85 to 45"
      ]
    },
    {
      "cell_type": "code",
      "execution_count": null,
      "metadata": {
        "id": "tbdo13qra392",
        "outputId": "2cb9794a-b2a9-4b2d-908e-e67083e42a97",
        "colab": {
          "base_uri": "https://localhost:8080/"
        }
      },
      "outputs": [
        {
          "output_type": "stream",
          "name": "stdout",
          "text": [
            "1975\n",
            "1901\n"
          ]
        }
      ],
      "source": [
        "#Applying cleaning to trim\n",
        "print(df['trim'].nunique())\n",
        "df['trim'] = df['trim'].str.lower()\n",
        "print(df['trim'].nunique())"
      ]
    },
    {
      "cell_type": "markdown",
      "metadata": {
        "id": "YpYYLQCKa392"
      },
      "source": [
        "Unique values in trim drop from 1975 to 1901"
      ]
    },
    {
      "cell_type": "code",
      "execution_count": null,
      "metadata": {
        "id": "pSCltz6aa393"
      },
      "outputs": [],
      "source": [
        "#Adding month column by splitting the date time column for better analysis\n",
        "df['month'] = pd.to_datetime(df['saledate']).dt.month"
      ]
    },
    {
      "cell_type": "code",
      "execution_count": null,
      "metadata": {
        "id": "iVA0xSKBa393"
      },
      "outputs": [],
      "source": [
        "#Dropping columns\n",
        "df.drop(columns=['vin', 'saledate'], inplace = True)"
      ]
    },
    {
      "cell_type": "markdown",
      "metadata": {
        "id": "ns_QgK7fa393"
      },
      "source": [
        "* We drop the vin column because it is a unique registration number and not relevant to our study.\n",
        "* We drop the saledate column as we will work with the year and month column in case of a time series analysis which we don't plan on."
      ]
    },
    {
      "cell_type": "code",
      "execution_count": null,
      "metadata": {
        "id": "Dx54rRFCa393",
        "outputId": "f5aff1b9-686f-4fb3-af77-cabc28dd4e3d",
        "colab": {
          "base_uri": "https://localhost:8080/",
          "height": 112
        }
      },
      "outputs": [
        {
          "output_type": "execute_result",
          "data": {
            "text/html": [
              "\n",
              "  <div id=\"df-b0cc7843-7562-4ba5-acdd-24990c6fb18e\">\n",
              "    <div class=\"colab-df-container\">\n",
              "      <div>\n",
              "<style scoped>\n",
              "    .dataframe tbody tr th:only-of-type {\n",
              "        vertical-align: middle;\n",
              "    }\n",
              "\n",
              "    .dataframe tbody tr th {\n",
              "        vertical-align: top;\n",
              "    }\n",
              "\n",
              "    .dataframe thead th {\n",
              "        text-align: right;\n",
              "    }\n",
              "</style>\n",
              "<table border=\"1\" class=\"dataframe\">\n",
              "  <thead>\n",
              "    <tr style=\"text-align: right;\">\n",
              "      <th></th>\n",
              "      <th>year</th>\n",
              "      <th>make</th>\n",
              "      <th>model</th>\n",
              "      <th>trim</th>\n",
              "      <th>body</th>\n",
              "      <th>transmission</th>\n",
              "      <th>state</th>\n",
              "      <th>condition</th>\n",
              "      <th>odometer</th>\n",
              "      <th>color</th>\n",
              "      <th>interior</th>\n",
              "      <th>seller</th>\n",
              "      <th>mmr</th>\n",
              "      <th>sellingprice</th>\n",
              "      <th>month</th>\n",
              "    </tr>\n",
              "  </thead>\n",
              "  <tbody>\n",
              "    <tr>\n",
              "      <th>0</th>\n",
              "      <td>2015</td>\n",
              "      <td>kia</td>\n",
              "      <td>sorento</td>\n",
              "      <td>lx</td>\n",
              "      <td>suv</td>\n",
              "      <td>automatic</td>\n",
              "      <td>CA</td>\n",
              "      <td>5.0</td>\n",
              "      <td>16639.0</td>\n",
              "      <td>white</td>\n",
              "      <td>black</td>\n",
              "      <td>kia motors america, inc</td>\n",
              "      <td>20500</td>\n",
              "      <td>21500</td>\n",
              "      <td>12</td>\n",
              "    </tr>\n",
              "    <tr>\n",
              "      <th>1</th>\n",
              "      <td>2015</td>\n",
              "      <td>kia</td>\n",
              "      <td>sorento</td>\n",
              "      <td>lx</td>\n",
              "      <td>suv</td>\n",
              "      <td>automatic</td>\n",
              "      <td>CA</td>\n",
              "      <td>5.0</td>\n",
              "      <td>9393.0</td>\n",
              "      <td>white</td>\n",
              "      <td>beige</td>\n",
              "      <td>kia motors america, inc</td>\n",
              "      <td>20800</td>\n",
              "      <td>21500</td>\n",
              "      <td>12</td>\n",
              "    </tr>\n",
              "  </tbody>\n",
              "</table>\n",
              "</div>\n",
              "      <button class=\"colab-df-convert\" onclick=\"convertToInteractive('df-b0cc7843-7562-4ba5-acdd-24990c6fb18e')\"\n",
              "              title=\"Convert this dataframe to an interactive table.\"\n",
              "              style=\"display:none;\">\n",
              "        \n",
              "  <svg xmlns=\"http://www.w3.org/2000/svg\" height=\"24px\"viewBox=\"0 0 24 24\"\n",
              "       width=\"24px\">\n",
              "    <path d=\"M0 0h24v24H0V0z\" fill=\"none\"/>\n",
              "    <path d=\"M18.56 5.44l.94 2.06.94-2.06 2.06-.94-2.06-.94-.94-2.06-.94 2.06-2.06.94zm-11 1L8.5 8.5l.94-2.06 2.06-.94-2.06-.94L8.5 2.5l-.94 2.06-2.06.94zm10 10l.94 2.06.94-2.06 2.06-.94-2.06-.94-.94-2.06-.94 2.06-2.06.94z\"/><path d=\"M17.41 7.96l-1.37-1.37c-.4-.4-.92-.59-1.43-.59-.52 0-1.04.2-1.43.59L10.3 9.45l-7.72 7.72c-.78.78-.78 2.05 0 2.83L4 21.41c.39.39.9.59 1.41.59.51 0 1.02-.2 1.41-.59l7.78-7.78 2.81-2.81c.8-.78.8-2.07 0-2.86zM5.41 20L4 18.59l7.72-7.72 1.47 1.35L5.41 20z\"/>\n",
              "  </svg>\n",
              "      </button>\n",
              "      \n",
              "  <style>\n",
              "    .colab-df-container {\n",
              "      display:flex;\n",
              "      flex-wrap:wrap;\n",
              "      gap: 12px;\n",
              "    }\n",
              "\n",
              "    .colab-df-convert {\n",
              "      background-color: #E8F0FE;\n",
              "      border: none;\n",
              "      border-radius: 50%;\n",
              "      cursor: pointer;\n",
              "      display: none;\n",
              "      fill: #1967D2;\n",
              "      height: 32px;\n",
              "      padding: 0 0 0 0;\n",
              "      width: 32px;\n",
              "    }\n",
              "\n",
              "    .colab-df-convert:hover {\n",
              "      background-color: #E2EBFA;\n",
              "      box-shadow: 0px 1px 2px rgba(60, 64, 67, 0.3), 0px 1px 3px 1px rgba(60, 64, 67, 0.15);\n",
              "      fill: #174EA6;\n",
              "    }\n",
              "\n",
              "    [theme=dark] .colab-df-convert {\n",
              "      background-color: #3B4455;\n",
              "      fill: #D2E3FC;\n",
              "    }\n",
              "\n",
              "    [theme=dark] .colab-df-convert:hover {\n",
              "      background-color: #434B5C;\n",
              "      box-shadow: 0px 1px 3px 1px rgba(0, 0, 0, 0.15);\n",
              "      filter: drop-shadow(0px 1px 2px rgba(0, 0, 0, 0.3));\n",
              "      fill: #FFFFFF;\n",
              "    }\n",
              "  </style>\n",
              "\n",
              "      <script>\n",
              "        const buttonEl =\n",
              "          document.querySelector('#df-b0cc7843-7562-4ba5-acdd-24990c6fb18e button.colab-df-convert');\n",
              "        buttonEl.style.display =\n",
              "          google.colab.kernel.accessAllowed ? 'block' : 'none';\n",
              "\n",
              "        async function convertToInteractive(key) {\n",
              "          const element = document.querySelector('#df-b0cc7843-7562-4ba5-acdd-24990c6fb18e');\n",
              "          const dataTable =\n",
              "            await google.colab.kernel.invokeFunction('convertToInteractive',\n",
              "                                                     [key], {});\n",
              "          if (!dataTable) return;\n",
              "\n",
              "          const docLinkHtml = 'Like what you see? Visit the ' +\n",
              "            '<a target=\"_blank\" href=https://colab.research.google.com/notebooks/data_table.ipynb>data table notebook</a>'\n",
              "            + ' to learn more about interactive tables.';\n",
              "          element.innerHTML = '';\n",
              "          dataTable['output_type'] = 'display_data';\n",
              "          await google.colab.output.renderOutput(dataTable, element);\n",
              "          const docLink = document.createElement('div');\n",
              "          docLink.innerHTML = docLinkHtml;\n",
              "          element.appendChild(docLink);\n",
              "        }\n",
              "      </script>\n",
              "    </div>\n",
              "  </div>\n",
              "  "
            ],
            "text/plain": [
              "   year make    model trim body transmission state  condition  odometer  \\\n",
              "0  2015  kia  sorento   lx  suv    automatic    CA        5.0   16639.0   \n",
              "1  2015  kia  sorento   lx  suv    automatic    CA        5.0    9393.0   \n",
              "\n",
              "   color interior                   seller    mmr  sellingprice  month  \n",
              "0  white    black  kia motors america, inc  20500         21500     12  \n",
              "1  white    beige  kia motors america, inc  20800         21500     12  "
            ]
          },
          "metadata": {},
          "execution_count": 25
        }
      ],
      "source": [
        "#Looking at the dataset thus far\n",
        "df.head(2)"
      ]
    },
    {
      "cell_type": "code",
      "execution_count": null,
      "metadata": {
        "id": "5o_bQcT5W3Wz",
        "outputId": "3ebb7784-431b-4f9f-d71e-63a4f42941fb",
        "colab": {
          "base_uri": "https://localhost:8080/",
          "height": 634
        }
      },
      "outputs": [
        {
          "output_type": "display_data",
          "data": {
            "image/png": "[encoded data removed]",
            "text/plain": [
              "<Figure size 1080x720 with 4 Axes>"
            ]
          },
          "metadata": {
            "needs_background": "light"
          }
        }
      ],
      "source": [
        "# Checking for Outliers\n",
        "# Creating a list of columns to check for outliers\n",
        "col_list = ['condition', 'odometer', 'mmr','sellingprice']\n",
        "# Creating a list of colors\n",
        "colors = ['blueviolet', 'darkorange', 'springgreen', 'fuchsia','red']\n",
        "# Plotting boxplots of the col_list columns to check for outliers\n",
        "fig, axes = plt.subplots(nrows = 2, ncols = 2, figsize = (15, 10))\n",
        "plt.suptitle('Checking for outliers using boxplots', fontsize = 15, y = 0.92, color = 'indigo')\n",
        "for ax, data, column, color in zip(axes.flatten(), df, col_list, colors):\n",
        "    sns.boxplot(df[column], ax = ax, color = color)\n",
        "# Setting the background color to lavender\n",
        "    ax.set_facecolor('lavender') \n"
      ]
    },
    {
      "cell_type": "markdown",
      "metadata": {
        "id": "gSiTe9bWa394"
      },
      "source": [
        "There are outliers in our dataset. However, we will not drop them as they are true values.\n",
        "* The mmr, odometer and prices of a used car vary and some can be much higher than the others. The outliers are not due to errors in data entry but represent real data."
      ]
    },
    {
      "cell_type": "code",
      "execution_count": null,
      "metadata": {
        "id": "PvCYb6dgW4yh",
        "outputId": "dce5ac80-7086-4bd8-e712-228c49f2981e",
        "colab": {
          "base_uri": "https://localhost:8080/"
        }
      },
      "outputs": [
        {
          "output_type": "execute_result",
          "data": {
            "text/plain": [
              "year                0\n",
              "make            10104\n",
              "model           10202\n",
              "trim            10451\n",
              "body            12987\n",
              "transmission    64473\n",
              "state               0\n",
              "condition       11784\n",
              "odometer           88\n",
              "color           25212\n",
              "interior        17687\n",
              "seller              0\n",
              "mmr                 0\n",
              "sellingprice        0\n",
              "month               0\n",
              "dtype: int64"
            ]
          },
          "metadata": {},
          "execution_count": 27
        }
      ],
      "source": [
        "# Identifying the Missing Data\n",
        "df.isnull().sum()"
      ]
    },
    {
      "cell_type": "code",
      "execution_count": null,
      "metadata": {
        "id": "OgkhoV75a394",
        "outputId": "535cb2b4-fbd6-4758-9aff-518f35aa7a2d",
        "colab": {
          "base_uri": "https://localhost:8080/"
        }
      },
      "outputs": [
        {
          "output_type": "execute_result",
          "data": {
            "text/plain": [
              "year             0.00\n",
              "make             1.84\n",
              "model            1.85\n",
              "trim             1.90\n",
              "body             2.36\n",
              "transmission    11.72\n",
              "state            0.00\n",
              "condition        2.14\n",
              "odometer         0.02\n",
              "color            4.58\n",
              "interior         3.21\n",
              "seller           0.00\n",
              "mmr              0.00\n",
              "sellingprice     0.00\n",
              "month            0.00\n",
              "dtype: float64"
            ]
          },
          "metadata": {},
          "execution_count": 28
        }
      ],
      "source": [
        "#Checking for the percentage of the missing values\n",
        "df.isna().mean().round(4) * 100"
      ]
    },
    {
      "cell_type": "markdown",
      "metadata": {
        "id": "4jGl_urza394"
      },
      "source": [
        "* Most of the data's null values don't take a large percentage\n",
        "* Transmission has a high percentage and further investigation will be done to decide on the best way to deal with it"
      ]
    },
    {
      "cell_type": "code",
      "execution_count": null,
      "metadata": {
        "id": "MpsDGKZHsf_W"
      },
      "outputs": [],
      "source": [
        "# Dealing with the Missing Data\n",
        "#Transmission\n",
        "round(df.transmission.value_counts()/sum(df.transmission.value_counts())*100,2)\n",
        "#filling null values of transmission column with automatic\n",
        "df.transmission.fillna(\"automatic\", inplace=True)"
      ]
    },
    {
      "cell_type": "markdown",
      "metadata": {
        "id": "FqiQYfQKa394"
      },
      "source": [
        "An overwhelming 96% of all known cars has an automatic transmission. Because of this the missing data in the transmission column will be updated with \"automatic\"."
      ]
    },
    {
      "cell_type": "code",
      "execution_count": null,
      "metadata": {
        "id": "D-4I__6Os4C5"
      },
      "outputs": [],
      "source": [
        "# Dropping the other null values\n",
        "df.dropna(inplace=True)"
      ]
    },
    {
      "cell_type": "markdown",
      "metadata": {
        "id": "yKQBnHkEa395"
      },
      "source": [
        "We drop the null values due to the small percentage. They won't affect the accuracy of the data."
      ]
    },
    {
      "cell_type": "code",
      "execution_count": null,
      "metadata": {
        "id": "sHbdKFYLa395",
        "outputId": "fb43556e-a59d-4262-b2ef-871c2ee38dfc",
        "colab": {
          "base_uri": "https://localhost:8080/"
        }
      },
      "outputs": [
        {
          "output_type": "execute_result",
          "data": {
            "text/plain": [
              "year            0\n",
              "make            0\n",
              "model           0\n",
              "trim            0\n",
              "body            0\n",
              "transmission    0\n",
              "state           0\n",
              "condition       0\n",
              "odometer        0\n",
              "color           0\n",
              "interior        0\n",
              "seller          0\n",
              "mmr             0\n",
              "sellingprice    0\n",
              "month           0\n",
              "dtype: int64"
            ]
          },
          "metadata": {},
          "execution_count": 31
        }
      ],
      "source": [
        "#Checking if the changes are in place\n",
        "df.isna().sum()"
      ]
    },
    {
      "cell_type": "markdown",
      "metadata": {
        "id": "vZNglafQa395"
      },
      "source": [
        "There are no null values."
      ]
    },
    {
      "cell_type": "code",
      "execution_count": null,
      "metadata": {
        "id": "jHlSgaI-a395",
        "outputId": "614ca12e-8791-470c-cd93-8185e892265e",
        "colab": {
          "base_uri": "https://localhost:8080/"
        }
      },
      "outputs": [
        {
          "output_type": "execute_result",
          "data": {
            "text/plain": [
              "0"
            ]
          },
          "metadata": {},
          "execution_count": 32
        }
      ],
      "source": [
        "#Checking for duplicates\n",
        "df.duplicated().sum()"
      ]
    },
    {
      "cell_type": "markdown",
      "metadata": {
        "id": "3NdT3Jqya395"
      },
      "source": [
        "There are no duplicate values in the dataset."
      ]
    },
    {
      "cell_type": "code",
      "execution_count": null,
      "metadata": {
        "id": "-RuyEJMHa395",
        "outputId": "b1883e1a-2449-4786-e69c-b5f200e41470",
        "colab": {
          "base_uri": "https://localhost:8080/"
        }
      },
      "outputs": [
        {
          "output_type": "execute_result",
          "data": {
            "text/plain": [
              "(489908, 15)"
            ]
          },
          "metadata": {},
          "execution_count": 33
        }
      ],
      "source": [
        "#Checking the shape of the dataset after cleaning\n",
        "df.shape"
      ]
    },
    {
      "cell_type": "markdown",
      "metadata": {
        "id": "62Nkb-vya395"
      },
      "source": [
        "We now have 489908 records and 15 variables."
      ]
    },
    {
      "cell_type": "code",
      "execution_count": null,
      "metadata": {
        "id": "XPA0jDnha396"
      },
      "outputs": [],
      "source": [
        "#Exporting the clean dataset as a csv\n",
        "df.to_csv('cars.csv')"
      ]
    },
    {
      "cell_type": "markdown",
      "metadata": {
        "id": "rF2ABPsHUtbZ"
      },
      "source": [
        "## 6. Exploratory Analysis"
      ]
    },
    {
      "cell_type": "markdown",
      "metadata": {
        "id": "1y_c1eFFa396"
      },
      "source": [
        "### 6.1 Univariate Analysis"
      ]
    },
    {
      "cell_type": "code",
      "execution_count": null,
      "metadata": {
        "scrolled": false,
        "id": "PWUKu5VGa396",
        "outputId": "b8b89a9b-8d27-4606-89f4-140a8d23e76f",
        "colab": {
          "base_uri": "https://localhost:8080/",
          "height": 436
        }
      },
      "outputs": [
        {
          "output_type": "display_data",
          "data": {
            "image/png": "[encoded data removed]",
            "text/plain": [
              "<Figure size 500x500 with 1 Axes>"
            ]
          },
          "metadata": {}
        }
      ],
      "source": [
        "#Pie chart of automatic and manual cars\n",
        "accounts = df['transmission'].value_counts()\n",
        "labels = accounts.index\n",
        "values = accounts.values\n",
        "\n",
        "plt.figure(figsize=(5,5), dpi=100)\n",
        "plt.pie(values, labels = labels, autopct='%1.1f%%', explode = (0,0.1), shadow=True, startangle=180)\n",
        "plt.title('Piechart of automatic and manual cars', color='black')\n",
        "plt.show()"
      ]
    },
    {
      "cell_type": "markdown",
      "metadata": {
        "id": "qV1Hwiqga396"
      },
      "source": [
        "Most cars are automatic transmission"
      ]
    },
    {
      "cell_type": "code",
      "execution_count": null,
      "metadata": {
        "id": "UGGZ59Nqa396",
        "outputId": "464577b8-811b-4b81-cc3a-69784e3a3bfc",
        "colab": {
          "base_uri": "https://localhost:8080/",
          "height": 480
        }
      },
      "outputs": [
        {
          "output_type": "display_data",
          "data": {
            "image/png": "[encoded data removed]",
            "text/plain": [
              "<Figure size 700x500 with 1 Axes>"
            ]
          },
          "metadata": {
            "needs_background": "light"
          }
        }
      ],
      "source": [
        "#A countplot of the most popular makes of vehicles\n",
        "plt.figure(figsize = (7,5), dpi=100)\n",
        "sns.countplot(df['make'], order=df['make'].value_counts().index[:10])\n",
        "plt.title('Top makes')\n",
        "plt.ylabel(\"Count\")\n",
        "plt.show()"
      ]
    },
    {
      "cell_type": "markdown",
      "metadata": {
        "id": "rhFjrDQga396"
      },
      "source": [
        "Ford, Chevrolet, and Nissan were the most popular makes"
      ]
    },
    {
      "cell_type": "code",
      "execution_count": null,
      "metadata": {
        "id": "dY3X2YBMa396",
        "outputId": "3cea23fc-4f56-4029-bd13-3bcd1886b957",
        "colab": {
          "base_uri": "https://localhost:8080/",
          "height": 460
        }
      },
      "outputs": [
        {
          "output_type": "display_data",
          "data": {
            "image/png": "[encoded data removed]",
            "text/plain": [
              "<Figure size 500x500 with 1 Axes>"
            ]
          },
          "metadata": {
            "needs_background": "light"
          }
        }
      ],
      "source": [
        "#Bar chart of the ten most popular used car models\n",
        "plt.figure(figsize=(5,5), dpi=100)\n",
        "df['model'].value_counts().head(10).plot(kind = \"barh\", title = \"Most Popular Used Car Model\",y =\"type of model\" ,x =\"count\");"
      ]
    },
    {
      "cell_type": "markdown",
      "metadata": {
        "id": "akWOIQXda396"
      },
      "source": [
        "Altima is the most popular used car model"
      ]
    },
    {
      "cell_type": "code",
      "execution_count": null,
      "metadata": {
        "id": "kDVaoYmGa397",
        "outputId": "8d04a1e5-0bea-4db1-a5a1-c221af7871d1",
        "colab": {
          "base_uri": "https://localhost:8080/",
          "height": 652
        }
      },
      "outputs": [
        {
          "output_type": "display_data",
          "data": {
            "image/png": "[encoded data removed]",
            "text/plain": [
              "<Figure size 700x700 with 1 Axes>"
            ]
          },
          "metadata": {
            "needs_background": "light"
          }
        }
      ],
      "source": [
        "#creating a bar graph of the years with the largest records of used cars sold\n",
        "plt.figure(figsize = (7,7), dpi = 100)\n",
        "df.year.value_counts().head()\n",
        "df.year.value_counts().head().plot(kind= 'bar',color='purple')\n",
        "plt.title('Years when most cars were sold')\n",
        "plt.xlabel('Value Counts')\n",
        "plt.ylabel('Years')\n",
        "plt.show()"
      ]
    },
    {
      "cell_type": "markdown",
      "metadata": {
        "id": "o6dSED0ga397"
      },
      "source": [
        "2012 is the year when most used cars were sold. Most used cars were sold past 2010 with 2008 being the only outlier."
      ]
    },
    {
      "cell_type": "code",
      "execution_count": null,
      "metadata": {
        "id": "UI00RpGxa397",
        "outputId": "153b547f-4621-45bb-aa69-1c7277855590",
        "colab": {
          "base_uri": "https://localhost:8080/",
          "height": 625
        }
      },
      "outputs": [
        {
          "output_type": "display_data",
          "data": {
            "image/png": "[encoded data removed]",
            "text/plain": [
              "<Figure size 700x700 with 1 Axes>"
            ]
          },
          "metadata": {
            "needs_background": "light"
          }
        }
      ],
      "source": [
        "#creating a bar graph of the months with the largest records of used cars sold\n",
        "plt.figure(figsize = (7,7), dpi = 100)\n",
        "df.month.value_counts().head()\n",
        "df.month.value_counts().head().plot(kind= 'bar',color='grey')\n",
        "plt.title('Months when most cars were sold')\n",
        "plt.xlabel('Value Counts')\n",
        "plt.ylabel('Month')\n",
        "plt.show()"
      ]
    },
    {
      "cell_type": "markdown",
      "metadata": {
        "id": "H_ZdsuiSa397"
      },
      "source": [
        "The month of February is when most cars were sold. Generally, most used cars were sold in the first half of the year."
      ]
    },
    {
      "cell_type": "code",
      "execution_count": null,
      "metadata": {
        "scrolled": false,
        "id": "BygYIwl-a397",
        "outputId": "0364a9cb-160a-4e1e-9d68-cad63bab84cc",
        "colab": {
          "base_uri": "https://localhost:8080/",
          "height": 480
        }
      },
      "outputs": [
        {
          "output_type": "display_data",
          "data": {
            "image/png": "[encoded data removed]",
            "text/plain": [
              "<Figure size 700x500 with 1 Axes>"
            ]
          },
          "metadata": {
            "needs_background": "light"
          }
        }
      ],
      "source": [
        "#A countplot of the states accounting for most purchases of used vehicles\n",
        "plt.figure(figsize = (7,5), dpi=100)\n",
        "sns.countplot(df['state'], order=df['state'].value_counts().index[:10])\n",
        "plt.title('States with Most Used Car Sales')\n",
        "plt.ylabel(\"Count\")\n",
        "plt.show()"
      ]
    },
    {
      "cell_type": "markdown",
      "metadata": {
        "id": "nHVQdGDKa397"
      },
      "source": [
        "Florida, California, and Pennsylvania accounted for most used car sales.\n",
        "\n",
        "---\n",
        "\n"
      ]
    },
    {
      "cell_type": "code",
      "execution_count": null,
      "metadata": {
        "id": "u1Pyhxota397",
        "outputId": "1c33325e-3c55-4f3e-8eea-4be9f65a2ea9",
        "colab": {
          "base_uri": "https://localhost:8080/",
          "height": 436
        }
      },
      "outputs": [
        {
          "output_type": "display_data",
          "data": {
            "image/png": "[encoded data removed]",
            "text/plain": [
              "<Figure size 500x500 with 1 Axes>"
            ]
          },
          "metadata": {}
        }
      ],
      "source": [
        "#Pie chart of the most popular color for cars\n",
        "accounts = df['color'].value_counts().head()\n",
        "labels = accounts.index\n",
        "values = accounts.values\n",
        "\n",
        "plt.figure(figsize=(5,5), dpi=100)\n",
        "plt.pie(values, labels = labels, autopct='%1.1f%%', explode = (0.1, 0, 0, 0, 0), shadow=True, startangle=180)\n",
        "plt.title('Piechart of Most Popular Colors of Sold Cars', color='black')\n",
        "plt.show()"
      ]
    },
    {
      "cell_type": "markdown",
      "metadata": {
        "id": "qmkdTYiva398"
      },
      "source": [
        "Black and white accounted for the color of most used cars sold."
      ]
    },
    {
      "cell_type": "code",
      "execution_count": null,
      "metadata": {
        "id": "HWEnuVZLa398",
        "outputId": "42dc70e4-8d95-4dbd-c78c-835ea63144d3",
        "colab": {
          "base_uri": "https://localhost:8080/",
          "height": 206
        }
      },
      "outputs": [
        {
          "output_type": "execute_result",
          "data": {
            "text/html": [
              "\n",
              "  <div id=\"df-3f408fc0-6417-48b1-aa22-9469eed89b9e\">\n",
              "    <div class=\"colab-df-container\">\n",
              "      <div>\n",
              "<style scoped>\n",
              "    .dataframe tbody tr th:only-of-type {\n",
              "        vertical-align: middle;\n",
              "    }\n",
              "\n",
              "    .dataframe tbody tr th {\n",
              "        vertical-align: top;\n",
              "    }\n",
              "\n",
              "    .dataframe thead th {\n",
              "        text-align: right;\n",
              "    }\n",
              "</style>\n",
              "<table border=\"1\" class=\"dataframe\">\n",
              "  <thead>\n",
              "    <tr style=\"text-align: right;\">\n",
              "      <th></th>\n",
              "      <th>seller</th>\n",
              "    </tr>\n",
              "  </thead>\n",
              "  <tbody>\n",
              "    <tr>\n",
              "      <th>nissan-infiniti lt</th>\n",
              "      <td>18023</td>\n",
              "    </tr>\n",
              "    <tr>\n",
              "      <th>the hertz corporation</th>\n",
              "      <td>17710</td>\n",
              "    </tr>\n",
              "    <tr>\n",
              "      <th>ford motor credit company,llc</th>\n",
              "      <td>16237</td>\n",
              "    </tr>\n",
              "    <tr>\n",
              "      <th>santander consumer</th>\n",
              "      <td>14427</td>\n",
              "    </tr>\n",
              "    <tr>\n",
              "      <th>avis corporation</th>\n",
              "      <td>11948</td>\n",
              "    </tr>\n",
              "  </tbody>\n",
              "</table>\n",
              "</div>\n",
              "      <button class=\"colab-df-convert\" onclick=\"convertToInteractive('df-3f408fc0-6417-48b1-aa22-9469eed89b9e')\"\n",
              "              title=\"Convert this dataframe to an interactive table.\"\n",
              "              style=\"display:none;\">\n",
              "        \n",
              "  <svg xmlns=\"http://www.w3.org/2000/svg\" height=\"24px\"viewBox=\"0 0 24 24\"\n",
              "       width=\"24px\">\n",
              "    <path d=\"M0 0h24v24H0V0z\" fill=\"none\"/>\n",
              "    <path d=\"M18.56 5.44l.94 2.06.94-2.06 2.06-.94-2.06-.94-.94-2.06-.94 2.06-2.06.94zm-11 1L8.5 8.5l.94-2.06 2.06-.94-2.06-.94L8.5 2.5l-.94 2.06-2.06.94zm10 10l.94 2.06.94-2.06 2.06-.94-2.06-.94-.94-2.06-.94 2.06-2.06.94z\"/><path d=\"M17.41 7.96l-1.37-1.37c-.4-.4-.92-.59-1.43-.59-.52 0-1.04.2-1.43.59L10.3 9.45l-7.72 7.72c-.78.78-.78 2.05 0 2.83L4 21.41c.39.39.9.59 1.41.59.51 0 1.02-.2 1.41-.59l7.78-7.78 2.81-2.81c.8-.78.8-2.07 0-2.86zM5.41 20L4 18.59l7.72-7.72 1.47 1.35L5.41 20z\"/>\n",
              "  </svg>\n",
              "      </button>\n",
              "      \n",
              "  <style>\n",
              "    .colab-df-container {\n",
              "      display:flex;\n",
              "      flex-wrap:wrap;\n",
              "      gap: 12px;\n",
              "    }\n",
              "\n",
              "    .colab-df-convert {\n",
              "      background-color: #E8F0FE;\n",
              "      border: none;\n",
              "      border-radius: 50%;\n",
              "      cursor: pointer;\n",
              "      display: none;\n",
              "      fill: #1967D2;\n",
              "      height: 32px;\n",
              "      padding: 0 0 0 0;\n",
              "      width: 32px;\n",
              "    }\n",
              "\n",
              "    .colab-df-convert:hover {\n",
              "      background-color: #E2EBFA;\n",
              "      box-shadow: 0px 1px 2px rgba(60, 64, 67, 0.3), 0px 1px 3px 1px rgba(60, 64, 67, 0.15);\n",
              "      fill: #174EA6;\n",
              "    }\n",
              "\n",
              "    [theme=dark] .colab-df-convert {\n",
              "      background-color: #3B4455;\n",
              "      fill: #D2E3FC;\n",
              "    }\n",
              "\n",
              "    [theme=dark] .colab-df-convert:hover {\n",
              "      background-color: #434B5C;\n",
              "      box-shadow: 0px 1px 3px 1px rgba(0, 0, 0, 0.15);\n",
              "      filter: drop-shadow(0px 1px 2px rgba(0, 0, 0, 0.3));\n",
              "      fill: #FFFFFF;\n",
              "    }\n",
              "  </style>\n",
              "\n",
              "      <script>\n",
              "        const buttonEl =\n",
              "          document.querySelector('#df-3f408fc0-6417-48b1-aa22-9469eed89b9e button.colab-df-convert');\n",
              "        buttonEl.style.display =\n",
              "          google.colab.kernel.accessAllowed ? 'block' : 'none';\n",
              "\n",
              "        async function convertToInteractive(key) {\n",
              "          const element = document.querySelector('#df-3f408fc0-6417-48b1-aa22-9469eed89b9e');\n",
              "          const dataTable =\n",
              "            await google.colab.kernel.invokeFunction('convertToInteractive',\n",
              "                                                     [key], {});\n",
              "          if (!dataTable) return;\n",
              "\n",
              "          const docLinkHtml = 'Like what you see? Visit the ' +\n",
              "            '<a target=\"_blank\" href=https://colab.research.google.com/notebooks/data_table.ipynb>data table notebook</a>'\n",
              "            + ' to learn more about interactive tables.';\n",
              "          element.innerHTML = '';\n",
              "          dataTable['output_type'] = 'display_data';\n",
              "          await google.colab.output.renderOutput(dataTable, element);\n",
              "          const docLink = document.createElement('div');\n",
              "          docLink.innerHTML = docLinkHtml;\n",
              "          element.appendChild(docLink);\n",
              "        }\n",
              "      </script>\n",
              "    </div>\n",
              "  </div>\n",
              "  "
            ],
            "text/plain": [
              "                               seller\n",
              "nissan-infiniti lt              18023\n",
              "the hertz corporation           17710\n",
              "ford motor credit company,llc   16237\n",
              "santander consumer              14427\n",
              "avis corporation                11948"
            ]
          },
          "metadata": {},
          "execution_count": 42
        }
      ],
      "source": [
        "#Frequency table of the most common seller\n",
        "seller = pd.DataFrame(df['seller'].value_counts())\n",
        "seller.head()"
      ]
    },
    {
      "cell_type": "markdown",
      "metadata": {
        "id": "B_Gdl6AQa398"
      },
      "source": [
        "Nissan-Infiniti IT is the seller that sold the most used cars in the time period."
      ]
    },
    {
      "cell_type": "code",
      "execution_count": null,
      "metadata": {
        "id": "q-mCNn98a398",
        "outputId": "ad1ff790-3b6e-4860-c035-1b60ac41ce0d",
        "colab": {
          "base_uri": "https://localhost:8080/",
          "height": 634
        }
      },
      "outputs": [
        {
          "output_type": "display_data",
          "data": {
            "image/png": "[encoded data removed]",
            "text/plain": [
              "<Figure size 1080x720 with 4 Axes>"
            ]
          },
          "metadata": {
            "needs_background": "light"
          }
        }
      ],
      "source": [
        "#Plotting histograms of the numerical columns in the dataset\n",
        "# Creating a list of columns to check for distribution using hisplots\n",
        "col_list = ['condition', 'odometer', 'mmr','sellingprice']\n",
        "# Creating a list of colors\n",
        "colors = ['blueviolet', 'darkorange', 'springgreen', 'fuchsia','red']\n",
        "# Plotting histplots of the col_list columns to check for distribution using hisplots\n",
        "fig, axes = plt.subplots(nrows = 2, ncols = 2, figsize = (15, 10))\n",
        "plt.suptitle('Checking distribution using histplots', fontsize = 15, y = 0.92, color = 'indigo')\n",
        "for ax, data, column, color in zip(axes.flatten(), df, col_list, colors):\n",
        "    sns.histplot(df[column], ax = ax, color = color)\n",
        "    ax.set_facecolor('lavender') # Setting the background color to lavender"
      ]
    },
    {
      "cell_type": "markdown",
      "metadata": {
        "id": "hi8sn1pwa398"
      },
      "source": [
        "* Condition is almost normally distributed\n",
        "* odometer, mmr and selling price are positively skewed\n"
      ]
    },
    {
      "cell_type": "markdown",
      "metadata": {
        "id": "d6xmj4XHa398"
      },
      "source": [
        "#### Measures of central tendency and dispersion"
      ]
    },
    {
      "cell_type": "code",
      "execution_count": null,
      "metadata": {
        "id": "KIu9migJa399",
        "outputId": "c6df37af-2ec7-4353-9a79-c22566db62ed",
        "colab": {
          "base_uri": "https://localhost:8080/"
        }
      },
      "outputs": [
        {
          "output_type": "stream",
          "name": "stdout",
          "text": [
            "\n",
            "\n",
            "The mean of year is: 2010.173259060885\n",
            "The mode of year is: 0    2012\n",
            "dtype: int64\n",
            "The median of year is: 2012.0\n",
            "\n",
            "\n",
            "The mean of condition is: 3.42476138376754\n",
            "The mode of condition is: 0    1.9\n",
            "dtype: float64\n",
            "The median of condition is: 3.6\n",
            "\n",
            "\n",
            "The mean of mmr is: 13838.333523845293\n",
            "The mode of mmr is: 0    11650\n",
            "dtype: int64\n",
            "The median of mmr is: 12350.0\n",
            "\n",
            "\n",
            "The mean of odometer is: 67047.72592200985\n",
            "The mode of odometer is: 0    1.0\n",
            "dtype: float64\n",
            "The median of odometer is: 51246.0\n",
            "\n",
            "\n",
            "The mean of sellingprice is: 13685.396631612466\n",
            "The mode of sellingprice is: 0    11000\n",
            "dtype: int64\n",
            "The median of sellingprice is: 12200.0\n"
          ]
        }
      ],
      "source": [
        "#Checking for the mean, mode and median\n",
        "from numpy.ma.core import append\n",
        "numerical_columns=['year','condition','mmr','odometer','sellingprice']\n",
        "for column in numerical_columns:\n",
        "    print('\\n')\n",
        "    print('The mean of ' + column +  ' is: ' + str(df[column].mean()))\n",
        "    print('The mode of ' + column + ' is: ' + str(df[column].mode()))\n",
        "    print('The median of ' + column + ' is: ' + str(df[column].median()))"
      ]
    },
    {
      "cell_type": "code",
      "execution_count": null,
      "metadata": {
        "scrolled": true,
        "id": "pMex3p3Ca399",
        "outputId": "4b7dcacf-db85-4da4-d53b-36b4e00c7f8c",
        "colab": {
          "base_uri": "https://localhost:8080/"
        }
      },
      "outputs": [
        {
          "output_type": "execute_result",
          "data": {
            "text/plain": [
              "condition           0.942590\n",
              "odometer        52353.721479\n",
              "mmr              9510.200523\n",
              "sellingprice     9578.829274\n",
              "dtype: float64"
            ]
          },
          "metadata": {},
          "execution_count": 45
        }
      ],
      "source": [
        "#Checking the standard deviation\n",
        "df[col_list].std()"
      ]
    },
    {
      "cell_type": "markdown",
      "metadata": {
        "id": "wb7HZh-sa399"
      },
      "source": [
        "* There is a high standard deviation in the columns apart from condition.\n",
        "* Odometer has the highest standard deviation"
      ]
    },
    {
      "cell_type": "code",
      "execution_count": null,
      "metadata": {
        "scrolled": true,
        "id": "T4yRLi-Ha399",
        "outputId": "6cff6008-5186-4dde-cb1f-ba8ae0765653",
        "colab": {
          "base_uri": "https://localhost:8080/"
        }
      },
      "outputs": [
        {
          "output_type": "execute_result",
          "data": {
            "text/plain": [
              "condition                0.88848\n",
              "odometer        2740912152.68407\n",
              "mmr               90443913.98828\n",
              "sellingprice      91753970.25177\n",
              "dtype: object"
            ]
          },
          "metadata": {},
          "execution_count": 46
        }
      ],
      "source": [
        "#Checking the variance\n",
        "df[col_list].var().apply(lambda x: '%.5f' % x)"
      ]
    },
    {
      "cell_type": "markdown",
      "metadata": {
        "id": "CviNnF8Fa399"
      },
      "source": [
        "* There is a high variance in the columns apart from condition.\n",
        "* Odometer has the highest variance"
      ]
    },
    {
      "cell_type": "code",
      "execution_count": null,
      "metadata": {
        "id": "Yws0TG1ra39-",
        "outputId": "a3b0a61b-5dc3-401a-88fd-cd35615eb7c5",
        "colab": {
          "base_uri": "https://localhost:8080/"
        }
      },
      "outputs": [
        {
          "output_type": "execute_result",
          "data": {
            "text/plain": [
              "condition      -0.344585\n",
              "odometer        1.910943\n",
              "mmr             2.019179\n",
              "sellingprice    1.972050\n",
              "dtype: float64"
            ]
          },
          "metadata": {},
          "execution_count": 47
        }
      ],
      "source": [
        "#Checking the skewness\n",
        "df[col_list].skew()"
      ]
    },
    {
      "cell_type": "markdown",
      "metadata": {
        "id": "ku9-iRxOa39-"
      },
      "source": [
        "* Condition is negatively skewed. The mean is lower than the median\n",
        "* Odometer, mmr, and sellingprice are positively skewed"
      ]
    },
    {
      "cell_type": "code",
      "execution_count": null,
      "metadata": {
        "id": "Xrx6O4mFa39-",
        "outputId": "123abf31-a3db-471f-cb92-c72142f68f9a",
        "colab": {
          "base_uri": "https://localhost:8080/"
        }
      },
      "outputs": [
        {
          "output_type": "execute_result",
          "data": {
            "text/plain": [
              "condition       -0.799834\n",
              "odometer        14.744886\n",
              "mmr             12.094971\n",
              "sellingprice    11.774692\n",
              "dtype: float64"
            ]
          },
          "metadata": {},
          "execution_count": 48
        }
      ],
      "source": [
        "#Checking the kurtosis\n",
        "df[col_list].kurt()"
      ]
    },
    {
      "cell_type": "markdown",
      "metadata": {
        "id": "2FeJigx_a39-"
      },
      "source": [
        "* The condition column is platykurtic.\n",
        "* Odometer, mmr, and sellingprice are leptorkurtic and have extreme values"
      ]
    },
    {
      "cell_type": "markdown",
      "metadata": {
        "id": "P4mkKqsea39_"
      },
      "source": [
        "### 6.2 Bivariate Analysis"
      ]
    },
    {
      "cell_type": "code",
      "execution_count": null,
      "metadata": {
        "id": "5nnRToniXGDK",
        "outputId": "fbdf6301-84c1-4cdb-c160-83115f3eed8c",
        "colab": {
          "base_uri": "https://localhost:8080/",
          "height": 634
        }
      },
      "outputs": [
        {
          "output_type": "display_data",
          "data": {
            "image/png": "[encoded data removed]",
            "text/plain": [
              "<Figure size 1080x720 with 4 Axes>"
            ]
          },
          "metadata": {
            "needs_background": "light"
          }
        }
      ],
      "source": [
        "# Comparing our numerical columns to the selling price\n",
        "colors = ['blueviolet', 'darkorange', 'springgreen', 'fuchsia','red']\n",
        "cols = ['condition', 'odometer', 'mmr', 'year']\n",
        "# Plotting scatterplots of the cols columns to check for relationship with selling price\n",
        "fig, axes = plt.subplots(nrows = 2, ncols = 2, figsize = (15, 10))\n",
        "plt.suptitle('Relationship between selling price and numerical columns', fontsize = 15, y = 0.92, color = 'violet')\n",
        "for ax, data, column, color in zip(axes.flatten(), df, cols, colors):\n",
        "    sns.scatterplot(df[column], df['sellingprice'], ax = ax, color = color)\n",
        "    ax.set_facecolor('lavender') # Setting the background color to lavender"
      ]
    },
    {
      "cell_type": "markdown",
      "metadata": {
        "id": "mhyEfnMpa39_"
      },
      "source": [
        "* There is a linear relationship between sellingprice and mmr, and selling price and condition.\n",
        "* There is an inverse relationship between sellingprice and odometer.\n",
        "* Over the years, the selling price of used vehicles has grown but not exactly in a linear way."
      ]
    },
    {
      "cell_type": "code",
      "execution_count": null,
      "metadata": {
        "id": "6UzyQC6kmdBi",
        "outputId": "1d850e5b-6dc2-4608-825a-fe02ec3aaec5",
        "colab": {
          "base_uri": "https://localhost:8080/",
          "height": 206
        }
      },
      "outputs": [
        {
          "output_type": "execute_result",
          "data": {
            "text/html": [
              "\n",
              "  <div id=\"df-be71d63e-83a8-4826-859f-1fda81acd406\">\n",
              "    <div class=\"colab-df-container\">\n",
              "      <div>\n",
              "<style scoped>\n",
              "    .dataframe tbody tr th:only-of-type {\n",
              "        vertical-align: middle;\n",
              "    }\n",
              "\n",
              "    .dataframe tbody tr th {\n",
              "        vertical-align: top;\n",
              "    }\n",
              "\n",
              "    .dataframe thead th {\n",
              "        text-align: right;\n",
              "    }\n",
              "</style>\n",
              "<table border=\"1\" class=\"dataframe\">\n",
              "  <thead>\n",
              "    <tr style=\"text-align: right;\">\n",
              "      <th></th>\n",
              "      <th>year</th>\n",
              "      <th>make</th>\n",
              "      <th>model</th>\n",
              "      <th>trim</th>\n",
              "      <th>body</th>\n",
              "      <th>transmission</th>\n",
              "      <th>state</th>\n",
              "      <th>condition</th>\n",
              "      <th>odometer</th>\n",
              "      <th>color</th>\n",
              "      <th>interior</th>\n",
              "      <th>seller</th>\n",
              "      <th>mmr</th>\n",
              "      <th>sellingprice</th>\n",
              "      <th>month</th>\n",
              "    </tr>\n",
              "  </thead>\n",
              "  <tbody>\n",
              "    <tr>\n",
              "      <th>0</th>\n",
              "      <td>2015</td>\n",
              "      <td>24</td>\n",
              "      <td>637</td>\n",
              "      <td>883</td>\n",
              "      <td>38</td>\n",
              "      <td>0</td>\n",
              "      <td>3</td>\n",
              "      <td>5.0</td>\n",
              "      <td>16639.0</td>\n",
              "      <td>17</td>\n",
              "      <td>1</td>\n",
              "      <td>6182</td>\n",
              "      <td>20500</td>\n",
              "      <td>21500</td>\n",
              "      <td>12</td>\n",
              "    </tr>\n",
              "    <tr>\n",
              "      <th>1</th>\n",
              "      <td>2015</td>\n",
              "      <td>24</td>\n",
              "      <td>637</td>\n",
              "      <td>883</td>\n",
              "      <td>38</td>\n",
              "      <td>0</td>\n",
              "      <td>3</td>\n",
              "      <td>5.0</td>\n",
              "      <td>9393.0</td>\n",
              "      <td>17</td>\n",
              "      <td>0</td>\n",
              "      <td>6182</td>\n",
              "      <td>20800</td>\n",
              "      <td>21500</td>\n",
              "      <td>12</td>\n",
              "    </tr>\n",
              "    <tr>\n",
              "      <th>2</th>\n",
              "      <td>2014</td>\n",
              "      <td>4</td>\n",
              "      <td>8</td>\n",
              "      <td>259</td>\n",
              "      <td>35</td>\n",
              "      <td>0</td>\n",
              "      <td>3</td>\n",
              "      <td>4.5</td>\n",
              "      <td>1331.0</td>\n",
              "      <td>7</td>\n",
              "      <td>1</td>\n",
              "      <td>4243</td>\n",
              "      <td>31900</td>\n",
              "      <td>30000</td>\n",
              "      <td>1</td>\n",
              "    </tr>\n",
              "    <tr>\n",
              "      <th>3</th>\n",
              "      <td>2015</td>\n",
              "      <td>52</td>\n",
              "      <td>582</td>\n",
              "      <td>1253</td>\n",
              "      <td>35</td>\n",
              "      <td>0</td>\n",
              "      <td>3</td>\n",
              "      <td>4.1</td>\n",
              "      <td>14282.0</td>\n",
              "      <td>17</td>\n",
              "      <td>1</td>\n",
              "      <td>11865</td>\n",
              "      <td>27500</td>\n",
              "      <td>27750</td>\n",
              "      <td>1</td>\n",
              "    </tr>\n",
              "    <tr>\n",
              "      <th>4</th>\n",
              "      <td>2014</td>\n",
              "      <td>4</td>\n",
              "      <td>33</td>\n",
              "      <td>342</td>\n",
              "      <td>35</td>\n",
              "      <td>0</td>\n",
              "      <td>3</td>\n",
              "      <td>4.3</td>\n",
              "      <td>2641.0</td>\n",
              "      <td>7</td>\n",
              "      <td>1</td>\n",
              "      <td>4243</td>\n",
              "      <td>66000</td>\n",
              "      <td>67000</td>\n",
              "      <td>12</td>\n",
              "    </tr>\n",
              "  </tbody>\n",
              "</table>\n",
              "</div>\n",
              "      <button class=\"colab-df-convert\" onclick=\"convertToInteractive('df-be71d63e-83a8-4826-859f-1fda81acd406')\"\n",
              "              title=\"Convert this dataframe to an interactive table.\"\n",
              "              style=\"display:none;\">\n",
              "        \n",
              "  <svg xmlns=\"http://www.w3.org/2000/svg\" height=\"24px\"viewBox=\"0 0 24 24\"\n",
              "       width=\"24px\">\n",
              "    <path d=\"M0 0h24v24H0V0z\" fill=\"none\"/>\n",
              "    <path d=\"M18.56 5.44l.94 2.06.94-2.06 2.06-.94-2.06-.94-.94-2.06-.94 2.06-2.06.94zm-11 1L8.5 8.5l.94-2.06 2.06-.94-2.06-.94L8.5 2.5l-.94 2.06-2.06.94zm10 10l.94 2.06.94-2.06 2.06-.94-2.06-.94-.94-2.06-.94 2.06-2.06.94z\"/><path d=\"M17.41 7.96l-1.37-1.37c-.4-.4-.92-.59-1.43-.59-.52 0-1.04.2-1.43.59L10.3 9.45l-7.72 7.72c-.78.78-.78 2.05 0 2.83L4 21.41c.39.39.9.59 1.41.59.51 0 1.02-.2 1.41-.59l7.78-7.78 2.81-2.81c.8-.78.8-2.07 0-2.86zM5.41 20L4 18.59l7.72-7.72 1.47 1.35L5.41 20z\"/>\n",
              "  </svg>\n",
              "      </button>\n",
              "      \n",
              "  <style>\n",
              "    .colab-df-container {\n",
              "      display:flex;\n",
              "      flex-wrap:wrap;\n",
              "      gap: 12px;\n",
              "    }\n",
              "\n",
              "    .colab-df-convert {\n",
              "      background-color: #E8F0FE;\n",
              "      border: none;\n",
              "      border-radius: 50%;\n",
              "      cursor: pointer;\n",
              "      display: none;\n",
              "      fill: #1967D2;\n",
              "      height: 32px;\n",
              "      padding: 0 0 0 0;\n",
              "      width: 32px;\n",
              "    }\n",
              "\n",
              "    .colab-df-convert:hover {\n",
              "      background-color: #E2EBFA;\n",
              "      box-shadow: 0px 1px 2px rgba(60, 64, 67, 0.3), 0px 1px 3px 1px rgba(60, 64, 67, 0.15);\n",
              "      fill: #174EA6;\n",
              "    }\n",
              "\n",
              "    [theme=dark] .colab-df-convert {\n",
              "      background-color: #3B4455;\n",
              "      fill: #D2E3FC;\n",
              "    }\n",
              "\n",
              "    [theme=dark] .colab-df-convert:hover {\n",
              "      background-color: #434B5C;\n",
              "      box-shadow: 0px 1px 3px 1px rgba(0, 0, 0, 0.15);\n",
              "      filter: drop-shadow(0px 1px 2px rgba(0, 0, 0, 0.3));\n",
              "      fill: #FFFFFF;\n",
              "    }\n",
              "  </style>\n",
              "\n",
              "      <script>\n",
              "        const buttonEl =\n",
              "          document.querySelector('#df-be71d63e-83a8-4826-859f-1fda81acd406 button.colab-df-convert');\n",
              "        buttonEl.style.display =\n",
              "          google.colab.kernel.accessAllowed ? 'block' : 'none';\n",
              "\n",
              "        async function convertToInteractive(key) {\n",
              "          const element = document.querySelector('#df-be71d63e-83a8-4826-859f-1fda81acd406');\n",
              "          const dataTable =\n",
              "            await google.colab.kernel.invokeFunction('convertToInteractive',\n",
              "                                                     [key], {});\n",
              "          if (!dataTable) return;\n",
              "\n",
              "          const docLinkHtml = 'Like what you see? Visit the ' +\n",
              "            '<a target=\"_blank\" href=https://colab.research.google.com/notebooks/data_table.ipynb>data table notebook</a>'\n",
              "            + ' to learn more about interactive tables.';\n",
              "          element.innerHTML = '';\n",
              "          dataTable['output_type'] = 'display_data';\n",
              "          await google.colab.output.renderOutput(dataTable, element);\n",
              "          const docLink = document.createElement('div');\n",
              "          docLink.innerHTML = docLinkHtml;\n",
              "          element.appendChild(docLink);\n",
              "        }\n",
              "      </script>\n",
              "    </div>\n",
              "  </div>\n",
              "  "
            ],
            "text/plain": [
              "   year  make  model  trim  body  transmission  state  condition  odometer  \\\n",
              "0  2015    24    637   883    38             0      3        5.0   16639.0   \n",
              "1  2015    24    637   883    38             0      3        5.0    9393.0   \n",
              "2  2014     4      8   259    35             0      3        4.5    1331.0   \n",
              "3  2015    52    582  1253    35             0      3        4.1   14282.0   \n",
              "4  2014     4     33   342    35             0      3        4.3    2641.0   \n",
              "\n",
              "   color  interior  seller    mmr  sellingprice  month  \n",
              "0     17         1    6182  20500         21500     12  \n",
              "1     17         0    6182  20800         21500     12  \n",
              "2      7         1    4243  31900         30000      1  \n",
              "3     17         1   11865  27500         27750      1  \n",
              "4      7         1    4243  66000         67000     12  "
            ]
          },
          "metadata": {},
          "execution_count": 51
        }
      ],
      "source": [
        "# Applying label encoding for better bivariate and multivariate analysis\n",
        "from sklearn.preprocessing import LabelEncoder\n",
        "columns =['make', 'model', 'trim', 'body', 'transmission', 'state',\n",
        "       'color', 'interior', 'seller']\n",
        "# we convert the categorical variables \n",
        "df[columns] = df[columns].apply(LabelEncoder().fit_transform)\n",
        "#Checking the changes\n",
        "df.head()"
      ]
    },
    {
      "cell_type": "code",
      "execution_count": null,
      "metadata": {
        "id": "gc3tTlcNa3-A"
      },
      "outputs": [],
      "source": [
        "#Pairplot showing the relationship between the various colums\n",
        "#plt.figure(figsize = (20, 20), dpi=100)\n",
        "#sns.pairplot(df, hue = 'sellingprice')"
      ]
    },
    {
      "cell_type": "code",
      "execution_count": null,
      "metadata": {
        "scrolled": false,
        "id": "ZciE7oQza3-A",
        "outputId": "4e8fa22a-8543-4e5b-ec13-35f517e4fda6",
        "colab": {
          "base_uri": "https://localhost:8080/",
          "height": 519
        }
      },
      "outputs": [
        {
          "output_type": "execute_result",
          "data": {
            "text/html": [
              "<style type=\"text/css\">\n",
              "#T_79a0b_row0_col0, #T_79a0b_row1_col1, #T_79a0b_row2_col2, #T_79a0b_row3_col3, #T_79a0b_row4_col4, #T_79a0b_row5_col5, #T_79a0b_row6_col6, #T_79a0b_row7_col7, #T_79a0b_row8_col8, #T_79a0b_row9_col9, #T_79a0b_row10_col10, #T_79a0b_row11_col11, #T_79a0b_row12_col12, #T_79a0b_row13_col13, #T_79a0b_row14_col14 {\n",
              "  background-color: #b40426;\n",
              "  color: #f1f1f1;\n",
              "}\n",
              "#T_79a0b_row0_col1, #T_79a0b_row12_col5 {\n",
              "  background-color: #516ddb;\n",
              "  color: #f1f1f1;\n",
              "}\n",
              "#T_79a0b_row0_col2, #T_79a0b_row0_col8, #T_79a0b_row0_col10, #T_79a0b_row1_col3, #T_79a0b_row1_col6, #T_79a0b_row3_col1, #T_79a0b_row3_col11, #T_79a0b_row4_col5, #T_79a0b_row5_col4, #T_79a0b_row6_col14, #T_79a0b_row8_col0, #T_79a0b_row8_col7, #T_79a0b_row8_col12, #T_79a0b_row8_col13, #T_79a0b_row12_col9, #T_79a0b_row14_col6 {\n",
              "  background-color: #3b4cc0;\n",
              "  color: #f1f1f1;\n",
              "}\n",
              "#T_79a0b_row0_col3, #T_79a0b_row1_col5 {\n",
              "  background-color: #6a8bef;\n",
              "  color: #f1f1f1;\n",
              "}\n",
              "#T_79a0b_row0_col4 {\n",
              "  background-color: #6687ed;\n",
              "  color: #f1f1f1;\n",
              "}\n",
              "#T_79a0b_row0_col5, #T_79a0b_row5_col11, #T_79a0b_row12_col14 {\n",
              "  background-color: #465ecf;\n",
              "  color: #f1f1f1;\n",
              "}\n",
              "#T_79a0b_row0_col6, #T_79a0b_row0_col14, #T_79a0b_row3_col9, #T_79a0b_row4_col6, #T_79a0b_row6_col11, #T_79a0b_row9_col2, #T_79a0b_row12_col10 {\n",
              "  background-color: #485fd1;\n",
              "  color: #f1f1f1;\n",
              "}\n",
              "#T_79a0b_row0_col7, #T_79a0b_row7_col13 {\n",
              "  background-color: #f7aa8c;\n",
              "  color: #000000;\n",
              "}\n",
              "#T_79a0b_row0_col9, #T_79a0b_row9_col11, #T_79a0b_row10_col9 {\n",
              "  background-color: #4b64d5;\n",
              "  color: #f1f1f1;\n",
              "}\n",
              "#T_79a0b_row0_col11, #T_79a0b_row2_col6, #T_79a0b_row7_col6, #T_79a0b_row12_col2, #T_79a0b_row13_col2 {\n",
              "  background-color: #4a63d3;\n",
              "  color: #f1f1f1;\n",
              "}\n",
              "#T_79a0b_row0_col12 {\n",
              "  background-color: #f59d7e;\n",
              "  color: #000000;\n",
              "}\n",
              "#T_79a0b_row0_col13 {\n",
              "  background-color: #f59f80;\n",
              "  color: #000000;\n",
              "}\n",
              "#T_79a0b_row1_col0, #T_79a0b_row3_col8 {\n",
              "  background-color: #c9d7f0;\n",
              "  color: #000000;\n",
              "}\n",
              "#T_79a0b_row1_col2, #T_79a0b_row4_col3, #T_79a0b_row5_col3 {\n",
              "  background-color: #536edd;\n",
              "  color: #f1f1f1;\n",
              "}\n",
              "#T_79a0b_row1_col4, #T_79a0b_row14_col10 {\n",
              "  background-color: #6b8df0;\n",
              "  color: #f1f1f1;\n",
              "}\n",
              "#T_79a0b_row1_col7, #T_79a0b_row5_col12, #T_79a0b_row5_col13, #T_79a0b_row11_col7, #T_79a0b_row14_col7 {\n",
              "  background-color: #abc8fd;\n",
              "  color: #000000;\n",
              "}\n",
              "#T_79a0b_row1_col8 {\n",
              "  background-color: #c7d7f0;\n",
              "  color: #000000;\n",
              "}\n",
              "#T_79a0b_row1_col9, #T_79a0b_row4_col14, #T_79a0b_row8_col9, #T_79a0b_row8_col14, #T_79a0b_row12_col4, #T_79a0b_row13_col4 {\n",
              "  background-color: #3f53c6;\n",
              "  color: #f1f1f1;\n",
              "}\n",
              "#T_79a0b_row1_col10 {\n",
              "  background-color: #7093f3;\n",
              "  color: #f1f1f1;\n",
              "}\n",
              "#T_79a0b_row1_col11, #T_79a0b_row6_col10, #T_79a0b_row9_col10 {\n",
              "  background-color: #7a9df8;\n",
              "  color: #f1f1f1;\n",
              "}\n",
              "#T_79a0b_row1_col12, #T_79a0b_row1_col13 {\n",
              "  background-color: #a7c5fe;\n",
              "  color: #000000;\n",
              "}\n",
              "#T_79a0b_row1_col14, #T_79a0b_row5_col6, #T_79a0b_row7_col2, #T_79a0b_row11_col6, #T_79a0b_row11_col9, #T_79a0b_row12_col6, #T_79a0b_row13_col14, #T_79a0b_row14_col2 {\n",
              "  background-color: #455cce;\n",
              "  color: #f1f1f1;\n",
              "}\n",
              "#T_79a0b_row2_col0 {\n",
              "  background-color: #c4d5f3;\n",
              "  color: #000000;\n",
              "}\n",
              "#T_79a0b_row2_col1, #T_79a0b_row5_col1, #T_79a0b_row6_col3 {\n",
              "  background-color: #6282ea;\n",
              "  color: #f1f1f1;\n",
              "}\n",
              "#T_79a0b_row2_col3, #T_79a0b_row2_col10, #T_79a0b_row3_col10 {\n",
              "  background-color: #7699f6;\n",
              "  color: #f1f1f1;\n",
              "}\n",
              "#T_79a0b_row2_col4, #T_79a0b_row5_col10, #T_79a0b_row8_col5 {\n",
              "  background-color: #688aef;\n",
              "  color: #f1f1f1;\n",
              "}\n",
              "#T_79a0b_row2_col5, #T_79a0b_row6_col5, #T_79a0b_row7_col4, #T_79a0b_row12_col3 {\n",
              "  background-color: #6180e9;\n",
              "  color: #f1f1f1;\n",
              "}\n",
              "#T_79a0b_row2_col7 {\n",
              "  background-color: #aec9fc;\n",
              "  color: #000000;\n",
              "}\n",
              "#T_79a0b_row2_col8 {\n",
              "  background-color: #d4dbe6;\n",
              "  color: #000000;\n",
              "}\n",
              "#T_79a0b_row2_col9, #T_79a0b_row2_col14, #T_79a0b_row3_col14, #T_79a0b_row12_col11, #T_79a0b_row13_col11 {\n",
              "  background-color: #4257c9;\n",
              "  color: #f1f1f1;\n",
              "}\n",
              "#T_79a0b_row2_col11, #T_79a0b_row3_col6, #T_79a0b_row4_col2, #T_79a0b_row7_col1, #T_79a0b_row8_col3, #T_79a0b_row11_col2, #T_79a0b_row13_col5 {\n",
              "  background-color: #506bda;\n",
              "  color: #f1f1f1;\n",
              "}\n",
              "#T_79a0b_row2_col12, #T_79a0b_row9_col7, #T_79a0b_row14_col12 {\n",
              "  background-color: #b9d0f9;\n",
              "  color: #000000;\n",
              "}\n",
              "#T_79a0b_row2_col13, #T_79a0b_row6_col12, #T_79a0b_row14_col13 {\n",
              "  background-color: #b7cff9;\n",
              "  color: #000000;\n",
              "}\n",
              "#T_79a0b_row3_col0 {\n",
              "  background-color: #d6dce4;\n",
              "  color: #000000;\n",
              "}\n",
              "#T_79a0b_row3_col2, #T_79a0b_row10_col4 {\n",
              "  background-color: #6788ee;\n",
              "  color: #f1f1f1;\n",
              "}\n",
              "#T_79a0b_row3_col4, #T_79a0b_row3_col5, #T_79a0b_row11_col4, #T_79a0b_row12_col8, #T_79a0b_row14_col4 {\n",
              "  background-color: #5b7ae5;\n",
              "  color: #f1f1f1;\n",
              "}\n",
              "#T_79a0b_row3_col7 {\n",
              "  background-color: #bad0f8;\n",
              "  color: #000000;\n",
              "}\n",
              "#T_79a0b_row3_col12 {\n",
              "  background-color: #bed2f6;\n",
              "  color: #000000;\n",
              "}\n",
              "#T_79a0b_row3_col13, #T_79a0b_row5_col0 {\n",
              "  background-color: #bcd2f7;\n",
              "  color: #000000;\n",
              "}\n",
              "#T_79a0b_row4_col0, #T_79a0b_row4_col8 {\n",
              "  background-color: #cfdaea;\n",
              "  color: #000000;\n",
              "}\n",
              "#T_79a0b_row4_col1, #T_79a0b_row6_col4 {\n",
              "  background-color: #6384eb;\n",
              "  color: #f1f1f1;\n",
              "}\n",
              "#T_79a0b_row4_col7, #T_79a0b_row9_col12 {\n",
              "  background-color: #b1cbfc;\n",
              "  color: #000000;\n",
              "}\n",
              "#T_79a0b_row4_col9 {\n",
              "  background-color: #3d50c3;\n",
              "  color: #f1f1f1;\n",
              "}\n",
              "#T_79a0b_row4_col10 {\n",
              "  background-color: #779af7;\n",
              "  color: #f1f1f1;\n",
              "}\n",
              "#T_79a0b_row4_col11, #T_79a0b_row8_col11, #T_79a0b_row13_col1, #T_79a0b_row13_col6 {\n",
              "  background-color: #445acc;\n",
              "  color: #f1f1f1;\n",
              "}\n",
              "#T_79a0b_row4_col12 {\n",
              "  background-color: #9ebeff;\n",
              "  color: #000000;\n",
              "}\n",
              "#T_79a0b_row4_col13 {\n",
              "  background-color: #9dbdff;\n",
              "  color: #000000;\n",
              "}\n",
              "#T_79a0b_row5_col2, #T_79a0b_row11_col3, #T_79a0b_row11_col14, #T_79a0b_row13_col10 {\n",
              "  background-color: #4961d2;\n",
              "  color: #f1f1f1;\n",
              "}\n",
              "#T_79a0b_row5_col7 {\n",
              "  background-color: #a9c6fd;\n",
              "  color: #000000;\n",
              "}\n",
              "#T_79a0b_row5_col8, #T_79a0b_row9_col0 {\n",
              "  background-color: #d1dae9;\n",
              "  color: #000000;\n",
              "}\n",
              "#T_79a0b_row5_col9, #T_79a0b_row6_col9, #T_79a0b_row13_col9 {\n",
              "  background-color: #3c4ec2;\n",
              "  color: #f1f1f1;\n",
              "}\n",
              "#T_79a0b_row5_col14, #T_79a0b_row9_col14, #T_79a0b_row10_col11, #T_79a0b_row12_col1 {\n",
              "  background-color: #4358cb;\n",
              "  color: #f1f1f1;\n",
              "}\n",
              "#T_79a0b_row6_col0, #T_79a0b_row14_col0 {\n",
              "  background-color: #cedaeb;\n",
              "  color: #000000;\n",
              "}\n",
              "#T_79a0b_row6_col1, #T_79a0b_row6_col2, #T_79a0b_row7_col9, #T_79a0b_row10_col2, #T_79a0b_row14_col11 {\n",
              "  background-color: #4c66d6;\n",
              "  color: #f1f1f1;\n",
              "}\n",
              "#T_79a0b_row6_col7 {\n",
              "  background-color: #b3cdfb;\n",
              "  color: #000000;\n",
              "}\n",
              "#T_79a0b_row6_col8, #T_79a0b_row9_col8, #T_79a0b_row11_col8, #T_79a0b_row14_col8 {\n",
              "  background-color: #cad8ef;\n",
              "  color: #000000;\n",
              "}\n",
              "#T_79a0b_row6_col13 {\n",
              "  background-color: #b6cefa;\n",
              "  color: #000000;\n",
              "}\n",
              "#T_79a0b_row7_col0 {\n",
              "  background-color: #f59c7d;\n",
              "  color: #000000;\n",
              "}\n",
              "#T_79a0b_row7_col3, #T_79a0b_row7_col8, #T_79a0b_row8_col4 {\n",
              "  background-color: #6485ec;\n",
              "  color: #f1f1f1;\n",
              "}\n",
              "#T_79a0b_row7_col5, #T_79a0b_row14_col3 {\n",
              "  background-color: #5572df;\n",
              "  color: #f1f1f1;\n",
              "}\n",
              "#T_79a0b_row7_col10, #T_79a0b_row8_col1, #T_79a0b_row10_col6 {\n",
              "  background-color: #4f69d9;\n",
              "  color: #f1f1f1;\n",
              "}\n",
              "#T_79a0b_row7_col11, #T_79a0b_row8_col6, #T_79a0b_row14_col9 {\n",
              "  background-color: #4055c8;\n",
              "  color: #f1f1f1;\n",
              "}\n",
              "#T_79a0b_row7_col12 {\n",
              "  background-color: #f7b599;\n",
              "  color: #000000;\n",
              "}\n",
              "#T_79a0b_row7_col14, #T_79a0b_row9_col6, #T_79a0b_row10_col14 {\n",
              "  background-color: #3e51c5;\n",
              "  color: #f1f1f1;\n",
              "}\n",
              "#T_79a0b_row8_col2, #T_79a0b_row10_col1 {\n",
              "  background-color: #5673e0;\n",
              "  color: #f1f1f1;\n",
              "}\n",
              "#T_79a0b_row8_col10 {\n",
              "  background-color: #a3c2fe;\n",
              "  color: #000000;\n",
              "}\n",
              "#T_79a0b_row9_col1 {\n",
              "  background-color: #5470de;\n",
              "  color: #f1f1f1;\n",
              "}\n",
              "#T_79a0b_row9_col3, #T_79a0b_row10_col3, #T_79a0b_row13_col8 {\n",
              "  background-color: #5d7ce6;\n",
              "  color: #f1f1f1;\n",
              "}\n",
              "#T_79a0b_row9_col4, #T_79a0b_row9_col5 {\n",
              "  background-color: #5a78e4;\n",
              "  color: #f1f1f1;\n",
              "}\n",
              "#T_79a0b_row9_col13, #T_79a0b_row11_col12, #T_79a0b_row11_col13 {\n",
              "  background-color: #b2ccfb;\n",
              "  color: #000000;\n",
              "}\n",
              "#T_79a0b_row10_col0 {\n",
              "  background-color: #a6c4fe;\n",
              "  color: #000000;\n",
              "}\n",
              "#T_79a0b_row10_col5, #T_79a0b_row14_col1 {\n",
              "  background-color: #5875e1;\n",
              "  color: #f1f1f1;\n",
              "}\n",
              "#T_79a0b_row10_col7 {\n",
              "  background-color: #94b6ff;\n",
              "  color: #000000;\n",
              "}\n",
              "#T_79a0b_row10_col8 {\n",
              "  background-color: #e6d7cf;\n",
              "  color: #000000;\n",
              "}\n",
              "#T_79a0b_row10_col12, #T_79a0b_row10_col13 {\n",
              "  background-color: #96b7ff;\n",
              "  color: #000000;\n",
              "}\n",
              "#T_79a0b_row11_col0 {\n",
              "  background-color: #cdd9ec;\n",
              "  color: #000000;\n",
              "}\n",
              "#T_79a0b_row11_col1 {\n",
              "  background-color: #89acfd;\n",
              "  color: #000000;\n",
              "}\n",
              "#T_79a0b_row11_col5, #T_79a0b_row13_col3 {\n",
              "  background-color: #5f7fe8;\n",
              "  color: #f1f1f1;\n",
              "}\n",
              "#T_79a0b_row11_col10 {\n",
              "  background-color: #6c8ff1;\n",
              "  color: #f1f1f1;\n",
              "}\n",
              "#T_79a0b_row12_col0 {\n",
              "  background-color: #f29072;\n",
              "  color: #f1f1f1;\n",
              "}\n",
              "#T_79a0b_row12_col7 {\n",
              "  background-color: #f7b99e;\n",
              "  color: #000000;\n",
              "}\n",
              "#T_79a0b_row12_col13, #T_79a0b_row13_col12 {\n",
              "  background-color: #b70d28;\n",
              "  color: #f1f1f1;\n",
              "}\n",
              "#T_79a0b_row13_col0 {\n",
              "  background-color: #f39475;\n",
              "  color: #000000;\n",
              "}\n",
              "#T_79a0b_row13_col7 {\n",
              "  background-color: #f7ad90;\n",
              "  color: #000000;\n",
              "}\n",
              "#T_79a0b_row14_col5 {\n",
              "  background-color: #5e7de7;\n",
              "  color: #f1f1f1;\n",
              "}\n",
              "</style>\n",
              "<table id=\"T_79a0b_\" class=\"dataframe\">\n",
              "  <thead>\n",
              "    <tr>\n",
              "      <th class=\"blank level0\" >&nbsp;</th>\n",
              "      <th class=\"col_heading level0 col0\" >year</th>\n",
              "      <th class=\"col_heading level0 col1\" >make</th>\n",
              "      <th class=\"col_heading level0 col2\" >model</th>\n",
              "      <th class=\"col_heading level0 col3\" >trim</th>\n",
              "      <th class=\"col_heading level0 col4\" >body</th>\n",
              "      <th class=\"col_heading level0 col5\" >transmission</th>\n",
              "      <th class=\"col_heading level0 col6\" >state</th>\n",
              "      <th class=\"col_heading level0 col7\" >condition</th>\n",
              "      <th class=\"col_heading level0 col8\" >odometer</th>\n",
              "      <th class=\"col_heading level0 col9\" >color</th>\n",
              "      <th class=\"col_heading level0 col10\" >interior</th>\n",
              "      <th class=\"col_heading level0 col11\" >seller</th>\n",
              "      <th class=\"col_heading level0 col12\" >mmr</th>\n",
              "      <th class=\"col_heading level0 col13\" >sellingprice</th>\n",
              "      <th class=\"col_heading level0 col14\" >month</th>\n",
              "    </tr>\n",
              "  </thead>\n",
              "  <tbody>\n",
              "    <tr>\n",
              "      <th id=\"T_79a0b_level0_row0\" class=\"row_heading level0 row0\" >year</th>\n",
              "      <td id=\"T_79a0b_row0_col0\" class=\"data row0 col0\" >1.000000</td>\n",
              "      <td id=\"T_79a0b_row0_col1\" class=\"data row0 col1\" >-0.012752</td>\n",
              "      <td id=\"T_79a0b_row0_col2\" class=\"data row0 col2\" >-0.040897</td>\n",
              "      <td id=\"T_79a0b_row0_col3\" class=\"data row0 col3\" >0.070243</td>\n",
              "      <td id=\"T_79a0b_row0_col4\" class=\"data row0 col4\" >0.027088</td>\n",
              "      <td id=\"T_79a0b_row0_col5\" class=\"data row0 col5\" >-0.086358</td>\n",
              "      <td id=\"T_79a0b_row0_col6\" class=\"data row0 col6\" >0.017022</td>\n",
              "      <td id=\"T_79a0b_row0_col7\" class=\"data row0 col7\" >0.545293</td>\n",
              "      <td id=\"T_79a0b_row0_col8\" class=\"data row0 col8\" >-0.774048</td>\n",
              "      <td id=\"T_79a0b_row0_col9\" class=\"data row0 col9\" >0.035081</td>\n",
              "      <td id=\"T_79a0b_row0_col10\" class=\"data row0 col10\" >-0.200561</td>\n",
              "      <td id=\"T_79a0b_row0_col11\" class=\"data row0 col11\" >0.011831</td>\n",
              "      <td id=\"T_79a0b_row0_col12\" class=\"data row0 col12\" >0.591550</td>\n",
              "      <td id=\"T_79a0b_row0_col13\" class=\"data row0 col13\" >0.581363</td>\n",
              "      <td id=\"T_79a0b_row0_col14\" class=\"data row0 col14\" >0.016492</td>\n",
              "    </tr>\n",
              "    <tr>\n",
              "      <th id=\"T_79a0b_level0_row1\" class=\"row_heading level0 row1\" >make</th>\n",
              "      <td id=\"T_79a0b_row1_col0\" class=\"data row1 col0\" >-0.012752</td>\n",
              "      <td id=\"T_79a0b_row1_col1\" class=\"data row1 col1\" >1.000000</td>\n",
              "      <td id=\"T_79a0b_row1_col2\" class=\"data row1 col2\" >0.042876</td>\n",
              "      <td id=\"T_79a0b_row1_col3\" class=\"data row1 col3\" >-0.096720</td>\n",
              "      <td id=\"T_79a0b_row1_col4\" class=\"data row1 col4\" >0.045021</td>\n",
              "      <td id=\"T_79a0b_row1_col5\" class=\"data row1 col5\" >0.040996</td>\n",
              "      <td id=\"T_79a0b_row1_col6\" class=\"data row1 col6\" >-0.031070</td>\n",
              "      <td id=\"T_79a0b_row1_col7\" class=\"data row1 col7\" >-0.018008</td>\n",
              "      <td id=\"T_79a0b_row1_col8\" class=\"data row1 col8\" >-0.020683</td>\n",
              "      <td id=\"T_79a0b_row1_col9\" class=\"data row1 col9\" >-0.003431</td>\n",
              "      <td id=\"T_79a0b_row1_col10\" class=\"data row1 col10\" >0.002933</td>\n",
              "      <td id=\"T_79a0b_row1_col11\" class=\"data row1 col11\" >0.164779</td>\n",
              "      <td id=\"T_79a0b_row1_col12\" class=\"data row1 col12\" >-0.063883</td>\n",
              "      <td id=\"T_79a0b_row1_col13\" class=\"data row1 col13\" >-0.061430</td>\n",
              "      <td id=\"T_79a0b_row1_col14\" class=\"data row1 col14\" >0.008329</td>\n",
              "    </tr>\n",
              "    <tr>\n",
              "      <th id=\"T_79a0b_level0_row2\" class=\"row_heading level0 row2\" >model</th>\n",
              "      <td id=\"T_79a0b_row2_col0\" class=\"data row2 col0\" >-0.040897</td>\n",
              "      <td id=\"T_79a0b_row2_col1\" class=\"data row2 col1\" >0.042876</td>\n",
              "      <td id=\"T_79a0b_row2_col2\" class=\"data row2 col2\" >1.000000</td>\n",
              "      <td id=\"T_79a0b_row2_col3\" class=\"data row2 col3\" >0.108025</td>\n",
              "      <td id=\"T_79a0b_row2_col4\" class=\"data row2 col4\" >0.032618</td>\n",
              "      <td id=\"T_79a0b_row2_col5\" class=\"data row2 col5\" >0.008984</td>\n",
              "      <td id=\"T_79a0b_row2_col6\" class=\"data row2 col6\" >0.021901</td>\n",
              "      <td id=\"T_79a0b_row2_col7\" class=\"data row2 col7\" >-0.003454</td>\n",
              "      <td id=\"T_79a0b_row2_col8\" class=\"data row2 col8\" >0.054425</td>\n",
              "      <td id=\"T_79a0b_row2_col9\" class=\"data row2 col9\" >0.003995</td>\n",
              "      <td id=\"T_79a0b_row2_col10\" class=\"data row2 col10\" >0.021998</td>\n",
              "      <td id=\"T_79a0b_row2_col11\" class=\"data row2 col11\" >0.032701</td>\n",
              "      <td id=\"T_79a0b_row2_col12\" class=\"data row2 col12\" >0.013310</td>\n",
              "      <td id=\"T_79a0b_row2_col13\" class=\"data row2 col13\" >0.013612</td>\n",
              "      <td id=\"T_79a0b_row2_col14\" class=\"data row2 col14\" >-0.000568</td>\n",
              "    </tr>\n",
              "    <tr>\n",
              "      <th id=\"T_79a0b_level0_row3\" class=\"row_heading level0 row3\" >trim</th>\n",
              "      <td id=\"T_79a0b_row3_col0\" class=\"data row3 col0\" >0.070243</td>\n",
              "      <td id=\"T_79a0b_row3_col1\" class=\"data row3 col1\" >-0.096720</td>\n",
              "      <td id=\"T_79a0b_row3_col2\" class=\"data row3 col2\" >0.108025</td>\n",
              "      <td id=\"T_79a0b_row3_col3\" class=\"data row3 col3\" >1.000000</td>\n",
              "      <td id=\"T_79a0b_row3_col4\" class=\"data row3 col4\" >-0.010859</td>\n",
              "      <td id=\"T_79a0b_row3_col5\" class=\"data row3 col5\" >-0.010224</td>\n",
              "      <td id=\"T_79a0b_row3_col6\" class=\"data row3 col6\" >0.044073</td>\n",
              "      <td id=\"T_79a0b_row3_col7\" class=\"data row3 col7\" >0.050667</td>\n",
              "      <td id=\"T_79a0b_row3_col8\" class=\"data row3 col8\" >-0.017773</td>\n",
              "      <td id=\"T_79a0b_row3_col9\" class=\"data row3 col9\" >0.024567</td>\n",
              "      <td id=\"T_79a0b_row3_col10\" class=\"data row3 col10\" >0.024074</td>\n",
              "      <td id=\"T_79a0b_row3_col11\" class=\"data row3 col11\" >-0.041666</td>\n",
              "      <td id=\"T_79a0b_row3_col12\" class=\"data row3 col12\" >0.036635</td>\n",
              "      <td id=\"T_79a0b_row3_col13\" class=\"data row3 col13\" >0.034279</td>\n",
              "      <td id=\"T_79a0b_row3_col14\" class=\"data row3 col14\" >-0.001761</td>\n",
              "    </tr>\n",
              "    <tr>\n",
              "      <th id=\"T_79a0b_level0_row4\" class=\"row_heading level0 row4\" >body</th>\n",
              "      <td id=\"T_79a0b_row4_col0\" class=\"data row4 col0\" >0.027088</td>\n",
              "      <td id=\"T_79a0b_row4_col1\" class=\"data row4 col1\" >0.045021</td>\n",
              "      <td id=\"T_79a0b_row4_col2\" class=\"data row4 col2\" >0.032618</td>\n",
              "      <td id=\"T_79a0b_row4_col3\" class=\"data row4 col3\" >-0.010859</td>\n",
              "      <td id=\"T_79a0b_row4_col4\" class=\"data row4 col4\" >1.000000</td>\n",
              "      <td id=\"T_79a0b_row4_col5\" class=\"data row4 col5\" >-0.130826</td>\n",
              "      <td id=\"T_79a0b_row4_col6\" class=\"data row4 col6\" >0.017220</td>\n",
              "      <td id=\"T_79a0b_row4_col7\" class=\"data row4 col7\" >0.009801</td>\n",
              "      <td id=\"T_79a0b_row4_col8\" class=\"data row4 col8\" >0.023746</td>\n",
              "      <td id=\"T_79a0b_row4_col9\" class=\"data row4 col9\" >-0.013126</td>\n",
              "      <td id=\"T_79a0b_row4_col10\" class=\"data row4 col10\" >0.029070</td>\n",
              "      <td id=\"T_79a0b_row4_col11\" class=\"data row4 col11\" >-0.008081</td>\n",
              "      <td id=\"T_79a0b_row4_col12\" class=\"data row4 col12\" >-0.111601</td>\n",
              "      <td id=\"T_79a0b_row4_col13\" class=\"data row4 col13\" >-0.111757</td>\n",
              "      <td id=\"T_79a0b_row4_col14\" class=\"data row4 col14\" >-0.008402</td>\n",
              "    </tr>\n",
              "    <tr>\n",
              "      <th id=\"T_79a0b_level0_row5\" class=\"row_heading level0 row5\" >transmission</th>\n",
              "      <td id=\"T_79a0b_row5_col0\" class=\"data row5 col0\" >-0.086358</td>\n",
              "      <td id=\"T_79a0b_row5_col1\" class=\"data row5 col1\" >0.040996</td>\n",
              "      <td id=\"T_79a0b_row5_col2\" class=\"data row5 col2\" >0.008984</td>\n",
              "      <td id=\"T_79a0b_row5_col3\" class=\"data row5 col3\" >-0.010224</td>\n",
              "      <td id=\"T_79a0b_row5_col4\" class=\"data row5 col4\" >-0.130826</td>\n",
              "      <td id=\"T_79a0b_row5_col5\" class=\"data row5 col5\" >1.000000</td>\n",
              "      <td id=\"T_79a0b_row5_col6\" class=\"data row5 col6\" >0.006396</td>\n",
              "      <td id=\"T_79a0b_row5_col7\" class=\"data row5 col7\" >-0.029351</td>\n",
              "      <td id=\"T_79a0b_row5_col8\" class=\"data row5 col8\" >0.032678</td>\n",
              "      <td id=\"T_79a0b_row5_col9\" class=\"data row5 col9\" >-0.014942</td>\n",
              "      <td id=\"T_79a0b_row5_col10\" class=\"data row5 col10\" >-0.024024</td>\n",
              "      <td id=\"T_79a0b_row5_col11\" class=\"data row5 col11\" >0.002825</td>\n",
              "      <td id=\"T_79a0b_row5_col12\" class=\"data row5 col12\" >-0.044829</td>\n",
              "      <td id=\"T_79a0b_row5_col13\" class=\"data row5 col13\" >-0.046935</td>\n",
              "      <td id=\"T_79a0b_row5_col14\" class=\"data row5 col14\" >0.001084</td>\n",
              "    </tr>\n",
              "    <tr>\n",
              "      <th id=\"T_79a0b_level0_row6\" class=\"row_heading level0 row6\" >state</th>\n",
              "      <td id=\"T_79a0b_row6_col0\" class=\"data row6 col0\" >0.017022</td>\n",
              "      <td id=\"T_79a0b_row6_col1\" class=\"data row6 col1\" >-0.031070</td>\n",
              "      <td id=\"T_79a0b_row6_col2\" class=\"data row6 col2\" >0.021901</td>\n",
              "      <td id=\"T_79a0b_row6_col3\" class=\"data row6 col3\" >0.044073</td>\n",
              "      <td id=\"T_79a0b_row6_col4\" class=\"data row6 col4\" >0.017220</td>\n",
              "      <td id=\"T_79a0b_row6_col5\" class=\"data row6 col5\" >0.006396</td>\n",
              "      <td id=\"T_79a0b_row6_col6\" class=\"data row6 col6\" >1.000000</td>\n",
              "      <td id=\"T_79a0b_row6_col7\" class=\"data row6 col7\" >0.022526</td>\n",
              "      <td id=\"T_79a0b_row6_col8\" class=\"data row6 col8\" >-0.007566</td>\n",
              "      <td id=\"T_79a0b_row6_col9\" class=\"data row6 col9\" >-0.017500</td>\n",
              "      <td id=\"T_79a0b_row6_col10\" class=\"data row6 col10\" >0.037946</td>\n",
              "      <td id=\"T_79a0b_row6_col11\" class=\"data row6 col11\" >0.006460</td>\n",
              "      <td id=\"T_79a0b_row6_col12\" class=\"data row6 col12\" >0.007744</td>\n",
              "      <td id=\"T_79a0b_row6_col13\" class=\"data row6 col13\" >0.003428</td>\n",
              "      <td id=\"T_79a0b_row6_col14\" class=\"data row6 col14\" >-0.028443</td>\n",
              "    </tr>\n",
              "    <tr>\n",
              "      <th id=\"T_79a0b_level0_row7\" class=\"row_heading level0 row7\" >condition</th>\n",
              "      <td id=\"T_79a0b_row7_col0\" class=\"data row7 col0\" >0.545293</td>\n",
              "      <td id=\"T_79a0b_row7_col1\" class=\"data row7 col1\" >-0.018008</td>\n",
              "      <td id=\"T_79a0b_row7_col2\" class=\"data row7 col2\" >-0.003454</td>\n",
              "      <td id=\"T_79a0b_row7_col3\" class=\"data row7 col3\" >0.050667</td>\n",
              "      <td id=\"T_79a0b_row7_col4\" class=\"data row7 col4\" >0.009801</td>\n",
              "      <td id=\"T_79a0b_row7_col5\" class=\"data row7 col5\" >-0.029351</td>\n",
              "      <td id=\"T_79a0b_row7_col6\" class=\"data row7 col6\" >0.022526</td>\n",
              "      <td id=\"T_79a0b_row7_col7\" class=\"data row7 col7\" >1.000000</td>\n",
              "      <td id=\"T_79a0b_row7_col8\" class=\"data row7 col8\" >-0.534686</td>\n",
              "      <td id=\"T_79a0b_row7_col9\" class=\"data row7 col9\" >0.041489</td>\n",
              "      <td id=\"T_79a0b_row7_col10\" class=\"data row7 col10\" >-0.117845</td>\n",
              "      <td id=\"T_79a0b_row7_col11\" class=\"data row7 col11\" >-0.017360</td>\n",
              "      <td id=\"T_79a0b_row7_col12\" class=\"data row7 col12\" >0.481637</td>\n",
              "      <td id=\"T_79a0b_row7_col13\" class=\"data row7 col13\" >0.536165</td>\n",
              "      <td id=\"T_79a0b_row7_col14\" class=\"data row7 col14\" >-0.014648</td>\n",
              "    </tr>\n",
              "    <tr>\n",
              "      <th id=\"T_79a0b_level0_row8\" class=\"row_heading level0 row8\" >odometer</th>\n",
              "      <td id=\"T_79a0b_row8_col0\" class=\"data row8 col0\" >-0.774048</td>\n",
              "      <td id=\"T_79a0b_row8_col1\" class=\"data row8 col1\" >-0.020683</td>\n",
              "      <td id=\"T_79a0b_row8_col2\" class=\"data row8 col2\" >0.054425</td>\n",
              "      <td id=\"T_79a0b_row8_col3\" class=\"data row8 col3\" >-0.017773</td>\n",
              "      <td id=\"T_79a0b_row8_col4\" class=\"data row8 col4\" >0.023746</td>\n",
              "      <td id=\"T_79a0b_row8_col5\" class=\"data row8 col5\" >0.032678</td>\n",
              "      <td id=\"T_79a0b_row8_col6\" class=\"data row8 col6\" >-0.007566</td>\n",
              "      <td id=\"T_79a0b_row8_col7\" class=\"data row8 col7\" >-0.534686</td>\n",
              "      <td id=\"T_79a0b_row8_col8\" class=\"data row8 col8\" >1.000000</td>\n",
              "      <td id=\"T_79a0b_row8_col9\" class=\"data row8 col9\" >-0.005017</td>\n",
              "      <td id=\"T_79a0b_row8_col10\" class=\"data row8 col10\" >0.176590</td>\n",
              "      <td id=\"T_79a0b_row8_col11\" class=\"data row8 col11\" >-0.006252</td>\n",
              "      <td id=\"T_79a0b_row8_col12\" class=\"data row8 col12\" >-0.582632</td>\n",
              "      <td id=\"T_79a0b_row8_col13\" class=\"data row8 col13\" >-0.577519</td>\n",
              "      <td id=\"T_79a0b_row8_col14\" class=\"data row8 col14\" >-0.010805</td>\n",
              "    </tr>\n",
              "    <tr>\n",
              "      <th id=\"T_79a0b_level0_row9\" class=\"row_heading level0 row9\" >color</th>\n",
              "      <td id=\"T_79a0b_row9_col0\" class=\"data row9 col0\" >0.035081</td>\n",
              "      <td id=\"T_79a0b_row9_col1\" class=\"data row9 col1\" >-0.003431</td>\n",
              "      <td id=\"T_79a0b_row9_col2\" class=\"data row9 col2\" >0.003995</td>\n",
              "      <td id=\"T_79a0b_row9_col3\" class=\"data row9 col3\" >0.024567</td>\n",
              "      <td id=\"T_79a0b_row9_col4\" class=\"data row9 col4\" >-0.013126</td>\n",
              "      <td id=\"T_79a0b_row9_col5\" class=\"data row9 col5\" >-0.014942</td>\n",
              "      <td id=\"T_79a0b_row9_col6\" class=\"data row9 col6\" >-0.017500</td>\n",
              "      <td id=\"T_79a0b_row9_col7\" class=\"data row9 col7\" >0.041489</td>\n",
              "      <td id=\"T_79a0b_row9_col8\" class=\"data row9 col8\" >-0.005017</td>\n",
              "      <td id=\"T_79a0b_row9_col9\" class=\"data row9 col9\" >1.000000</td>\n",
              "      <td id=\"T_79a0b_row9_col10\" class=\"data row9 col10\" >0.037558</td>\n",
              "      <td id=\"T_79a0b_row9_col11\" class=\"data row9 col11\" >0.016315</td>\n",
              "      <td id=\"T_79a0b_row9_col12\" class=\"data row9 col12\" >-0.021837</td>\n",
              "      <td id=\"T_79a0b_row9_col13\" class=\"data row9 col13\" >-0.015519</td>\n",
              "      <td id=\"T_79a0b_row9_col14\" class=\"data row9 col14\" >0.001611</td>\n",
              "    </tr>\n",
              "    <tr>\n",
              "      <th id=\"T_79a0b_level0_row10\" class=\"row_heading level0 row10\" >interior</th>\n",
              "      <td id=\"T_79a0b_row10_col0\" class=\"data row10 col0\" >-0.200561</td>\n",
              "      <td id=\"T_79a0b_row10_col1\" class=\"data row10 col1\" >0.002933</td>\n",
              "      <td id=\"T_79a0b_row10_col2\" class=\"data row10 col2\" >0.021998</td>\n",
              "      <td id=\"T_79a0b_row10_col3\" class=\"data row10 col3\" >0.024074</td>\n",
              "      <td id=\"T_79a0b_row10_col4\" class=\"data row10 col4\" >0.029070</td>\n",
              "      <td id=\"T_79a0b_row10_col5\" class=\"data row10 col5\" >-0.024024</td>\n",
              "      <td id=\"T_79a0b_row10_col6\" class=\"data row10 col6\" >0.037946</td>\n",
              "      <td id=\"T_79a0b_row10_col7\" class=\"data row10 col7\" >-0.117845</td>\n",
              "      <td id=\"T_79a0b_row10_col8\" class=\"data row10 col8\" >0.176590</td>\n",
              "      <td id=\"T_79a0b_row10_col9\" class=\"data row10 col9\" >0.037558</td>\n",
              "      <td id=\"T_79a0b_row10_col10\" class=\"data row10 col10\" >1.000000</td>\n",
              "      <td id=\"T_79a0b_row10_col11\" class=\"data row10 col11\" >-0.012187</td>\n",
              "      <td id=\"T_79a0b_row10_col12\" class=\"data row10 col12\" >-0.144556</td>\n",
              "      <td id=\"T_79a0b_row10_col13\" class=\"data row10 col13\" >-0.143096</td>\n",
              "      <td id=\"T_79a0b_row10_col14\" class=\"data row10 col14\" >-0.013466</td>\n",
              "    </tr>\n",
              "    <tr>\n",
              "      <th id=\"T_79a0b_level0_row11\" class=\"row_heading level0 row11\" >seller</th>\n",
              "      <td id=\"T_79a0b_row11_col0\" class=\"data row11 col0\" >0.011831</td>\n",
              "      <td id=\"T_79a0b_row11_col1\" class=\"data row11 col1\" >0.164779</td>\n",
              "      <td id=\"T_79a0b_row11_col2\" class=\"data row11 col2\" >0.032701</td>\n",
              "      <td id=\"T_79a0b_row11_col3\" class=\"data row11 col3\" >-0.041666</td>\n",
              "      <td id=\"T_79a0b_row11_col4\" class=\"data row11 col4\" >-0.008081</td>\n",
              "      <td id=\"T_79a0b_row11_col5\" class=\"data row11 col5\" >0.002825</td>\n",
              "      <td id=\"T_79a0b_row11_col6\" class=\"data row11 col6\" >0.006460</td>\n",
              "      <td id=\"T_79a0b_row11_col7\" class=\"data row11 col7\" >-0.017360</td>\n",
              "      <td id=\"T_79a0b_row11_col8\" class=\"data row11 col8\" >-0.006252</td>\n",
              "      <td id=\"T_79a0b_row11_col9\" class=\"data row11 col9\" >0.016315</td>\n",
              "      <td id=\"T_79a0b_row11_col10\" class=\"data row11 col10\" >-0.012187</td>\n",
              "      <td id=\"T_79a0b_row11_col11\" class=\"data row11 col11\" >1.000000</td>\n",
              "      <td id=\"T_79a0b_row11_col12\" class=\"data row11 col12\" >-0.015699</td>\n",
              "      <td id=\"T_79a0b_row11_col13\" class=\"data row11 col13\" >-0.015178</td>\n",
              "      <td id=\"T_79a0b_row11_col14\" class=\"data row11 col14\" >0.019854</td>\n",
              "    </tr>\n",
              "    <tr>\n",
              "      <th id=\"T_79a0b_level0_row12\" class=\"row_heading level0 row12\" >mmr</th>\n",
              "      <td id=\"T_79a0b_row12_col0\" class=\"data row12 col0\" >0.591550</td>\n",
              "      <td id=\"T_79a0b_row12_col1\" class=\"data row12 col1\" >-0.063883</td>\n",
              "      <td id=\"T_79a0b_row12_col2\" class=\"data row12 col2\" >0.013310</td>\n",
              "      <td id=\"T_79a0b_row12_col3\" class=\"data row12 col3\" >0.036635</td>\n",
              "      <td id=\"T_79a0b_row12_col4\" class=\"data row12 col4\" >-0.111601</td>\n",
              "      <td id=\"T_79a0b_row12_col5\" class=\"data row12 col5\" >-0.044829</td>\n",
              "      <td id=\"T_79a0b_row12_col6\" class=\"data row12 col6\" >0.007744</td>\n",
              "      <td id=\"T_79a0b_row12_col7\" class=\"data row12 col7\" >0.481637</td>\n",
              "      <td id=\"T_79a0b_row12_col8\" class=\"data row12 col8\" >-0.582632</td>\n",
              "      <td id=\"T_79a0b_row12_col9\" class=\"data row12 col9\" >-0.021837</td>\n",
              "      <td id=\"T_79a0b_row12_col10\" class=\"data row12 col10\" >-0.144556</td>\n",
              "      <td id=\"T_79a0b_row12_col11\" class=\"data row12 col11\" >-0.015699</td>\n",
              "      <td id=\"T_79a0b_row12_col12\" class=\"data row12 col12\" >1.000000</td>\n",
              "      <td id=\"T_79a0b_row12_col13\" class=\"data row12 col13\" >0.983836</td>\n",
              "      <td id=\"T_79a0b_row12_col14\" class=\"data row12 col14\" >0.013914</td>\n",
              "    </tr>\n",
              "    <tr>\n",
              "      <th id=\"T_79a0b_level0_row13\" class=\"row_heading level0 row13\" >sellingprice</th>\n",
              "      <td id=\"T_79a0b_row13_col0\" class=\"data row13 col0\" >0.581363</td>\n",
              "      <td id=\"T_79a0b_row13_col1\" class=\"data row13 col1\" >-0.061430</td>\n",
              "      <td id=\"T_79a0b_row13_col2\" class=\"data row13 col2\" >0.013612</td>\n",
              "      <td id=\"T_79a0b_row13_col3\" class=\"data row13 col3\" >0.034279</td>\n",
              "      <td id=\"T_79a0b_row13_col4\" class=\"data row13 col4\" >-0.111757</td>\n",
              "      <td id=\"T_79a0b_row13_col5\" class=\"data row13 col5\" >-0.046935</td>\n",
              "      <td id=\"T_79a0b_row13_col6\" class=\"data row13 col6\" >0.003428</td>\n",
              "      <td id=\"T_79a0b_row13_col7\" class=\"data row13 col7\" >0.536165</td>\n",
              "      <td id=\"T_79a0b_row13_col8\" class=\"data row13 col8\" >-0.577519</td>\n",
              "      <td id=\"T_79a0b_row13_col9\" class=\"data row13 col9\" >-0.015519</td>\n",
              "      <td id=\"T_79a0b_row13_col10\" class=\"data row13 col10\" >-0.143096</td>\n",
              "      <td id=\"T_79a0b_row13_col11\" class=\"data row13 col11\" >-0.015178</td>\n",
              "      <td id=\"T_79a0b_row13_col12\" class=\"data row13 col12\" >0.983836</td>\n",
              "      <td id=\"T_79a0b_row13_col13\" class=\"data row13 col13\" >1.000000</td>\n",
              "      <td id=\"T_79a0b_row13_col14\" class=\"data row13 col14\" >0.010395</td>\n",
              "    </tr>\n",
              "    <tr>\n",
              "      <th id=\"T_79a0b_level0_row14\" class=\"row_heading level0 row14\" >month</th>\n",
              "      <td id=\"T_79a0b_row14_col0\" class=\"data row14 col0\" >0.016492</td>\n",
              "      <td id=\"T_79a0b_row14_col1\" class=\"data row14 col1\" >0.008329</td>\n",
              "      <td id=\"T_79a0b_row14_col2\" class=\"data row14 col2\" >-0.000568</td>\n",
              "      <td id=\"T_79a0b_row14_col3\" class=\"data row14 col3\" >-0.001761</td>\n",
              "      <td id=\"T_79a0b_row14_col4\" class=\"data row14 col4\" >-0.008402</td>\n",
              "      <td id=\"T_79a0b_row14_col5\" class=\"data row14 col5\" >0.001084</td>\n",
              "      <td id=\"T_79a0b_row14_col6\" class=\"data row14 col6\" >-0.028443</td>\n",
              "      <td id=\"T_79a0b_row14_col7\" class=\"data row14 col7\" >-0.014648</td>\n",
              "      <td id=\"T_79a0b_row14_col8\" class=\"data row14 col8\" >-0.010805</td>\n",
              "      <td id=\"T_79a0b_row14_col9\" class=\"data row14 col9\" >0.001611</td>\n",
              "      <td id=\"T_79a0b_row14_col10\" class=\"data row14 col10\" >-0.013466</td>\n",
              "      <td id=\"T_79a0b_row14_col11\" class=\"data row14 col11\" >0.019854</td>\n",
              "      <td id=\"T_79a0b_row14_col12\" class=\"data row14 col12\" >0.013914</td>\n",
              "      <td id=\"T_79a0b_row14_col13\" class=\"data row14 col13\" >0.010395</td>\n",
              "      <td id=\"T_79a0b_row14_col14\" class=\"data row14 col14\" >1.000000</td>\n",
              "    </tr>\n",
              "  </tbody>\n",
              "</table>\n"
            ],
            "text/plain": [
              "<pandas.io.formats.style.Styler at 0x7fe18dff0450>"
            ]
          },
          "metadata": {},
          "execution_count": 53
        }
      ],
      "source": [
        "#Looking at the correlation of the columns in the dataset to the selling price\n",
        "correlation = df.corr()\n",
        "correlation.style.background_gradient(cmap='coolwarm')"
      ]
    },
    {
      "cell_type": "markdown",
      "metadata": {
        "id": "Yzt1cUF5a3-A"
      },
      "source": [
        "1. condition and selling price\n",
        "\n",
        "correlation coefficient =0.536165.There is a positive correlation  indicating a strong  relationship between the two variables.if a car is well kept means the selling price increases.\n",
        "\n",
        "2. year and selling price \n",
        "\n",
        "correlation coefficient = 0.58163, which is a strong positive correlation between the variables.when year increases it increases the selling price \n",
        "\n",
        "3. mmr and selling price\n",
        "there is a strong relationship of 0.983863\n",
        "\n"
      ]
    },
    {
      "cell_type": "code",
      "execution_count": null,
      "metadata": {
        "id": "zKkRoaXua3-A",
        "outputId": "7840e660-8b19-49b9-bc7b-668546d5192f",
        "colab": {
          "base_uri": "https://localhost:8080/",
          "height": 681
        }
      },
      "outputs": [
        {
          "output_type": "execute_result",
          "data": {
            "text/plain": [
              "<matplotlib.axes._subplots.AxesSubplot at 0x7fe1863a8a90>"
            ]
          },
          "metadata": {},
          "execution_count": 54
        },
        {
          "output_type": "display_data",
          "data": {
            "image/png": "[encoded data removed]",
            "text/plain": [
              "<Figure size 1500x700 with 2 Axes>"
            ]
          },
          "metadata": {
            "needs_background": "light"
          }
        }
      ],
      "source": [
        "# checking for multicollinearity\n",
        "# Using the variance Inflation Factor (VIF)\n",
        "# This is calculated using linear algebra inverse function\n",
        "plt.figure(dpi = 100, figsize = (15,7))\n",
        "sns.heatmap(pd.DataFrame(np.linalg.inv(correlation.values), index = correlation.index, columns = correlation.columns), annot = True)"
      ]
    },
    {
      "cell_type": "markdown",
      "metadata": {
        "id": "zl-gmUPsa3-B"
      },
      "source": [
        "There aren't cases of high multicollinearity"
      ]
    },
    {
      "cell_type": "markdown",
      "metadata": {
        "id": "ylpf_44Wa3-B"
      },
      "source": [
        "### 6.3 Multivariate Analysis"
      ]
    },
    {
      "cell_type": "markdown",
      "metadata": {
        "id": "bdNcPQoUa3-B"
      },
      "source": [
        "#### Feature Importance Using LDA"
      ]
    },
    {
      "cell_type": "code",
      "execution_count": null,
      "metadata": {
        "id": "Vlzxga6fa3-B"
      },
      "outputs": [],
      "source": [
        "#import Linear Discriminant Analysismethod from sklearn library\n",
        "from sklearn.model_selection import train_test_split\n",
        "from sklearn.discriminant_analysis import LinearDiscriminantAnalysis as LDA"
      ]
    },
    {
      "cell_type": "code",
      "execution_count": null,
      "metadata": {
        "id": "hoIVAvUwa3-C"
      },
      "outputs": [],
      "source": [
        "# Divide the dataset into features and corresponding labels.\n",
        "X = df.drop([\"sellingprice\"], axis = 1)\n",
        "y = df[\"sellingprice\"]"
      ]
    },
    {
      "cell_type": "code",
      "execution_count": null,
      "metadata": {
        "id": "p-di-8W1a3-C",
        "outputId": "876591d4-231b-45a7-ab9f-6eed79149674",
        "colab": {
          "base_uri": "https://localhost:8080/"
        }
      },
      "outputs": [
        {
          "output_type": "execute_result",
          "data": {
            "text/plain": [
              "array([[-1.00292610e+00, -1.91457123e-03, -5.01566653e-04, ...,\n",
              "         5.05433064e-05, -1.76301217e-03, -1.52481497e-01],\n",
              "       [ 7.24021747e-02, -2.18056638e-02, -7.13461659e-05, ...,\n",
              "        -1.28679181e-05, -5.37439756e-03,  2.78064959e-02],\n",
              "       [-1.51162540e+00,  3.52258308e-02,  4.89153398e-05, ...,\n",
              "        -2.04116769e-04, -5.13513631e-03,  1.18156606e-01],\n",
              "       ...,\n",
              "       [-1.10201032e+01,  2.22295081e-01, -1.22640348e-03, ...,\n",
              "         2.88026920e-04,  6.91917775e-02, -1.03297013e-01],\n",
              "       [-1.29137666e+01,  1.36782037e-01, -1.25267888e-02, ...,\n",
              "         4.85618867e-04,  7.49996155e-02, -7.96114678e-03],\n",
              "       [ 1.45153646e-02, -2.08356588e-02, -2.86418893e-03, ...,\n",
              "        -6.05948728e-05,  3.90760013e-03, -1.86754133e-01]])"
            ]
          },
          "metadata": {},
          "execution_count": 57
        }
      ],
      "source": [
        "#create an instance of LDA and train the model\n",
        "lda= LDA()\n",
        "\n",
        "lda_= lda.fit(X, y)\n",
        "lda_feat = lda_.transform(X)\n",
        "\n",
        "#displaying the coefficients of the reducted columns\n",
        "lda.coef_"
      ]
    },
    {
      "cell_type": "code",
      "execution_count": null,
      "metadata": {
        "id": "Xk4Pwie8a3-C",
        "outputId": "24432d82-bd43-4117-cf4f-594b1518a2a9",
        "colab": {
          "base_uri": "https://localhost:8080/",
          "height": 488
        }
      },
      "outputs": [
        {
          "output_type": "execute_result",
          "data": {
            "text/html": [
              "\n",
              "  <div id=\"df-26969a97-c1f6-4d9d-a6e4-6e7a806f1e90\">\n",
              "    <div class=\"colab-df-container\">\n",
              "      <div>\n",
              "<style scoped>\n",
              "    .dataframe tbody tr th:only-of-type {\n",
              "        vertical-align: middle;\n",
              "    }\n",
              "\n",
              "    .dataframe tbody tr th {\n",
              "        vertical-align: top;\n",
              "    }\n",
              "\n",
              "    .dataframe thead th {\n",
              "        text-align: right;\n",
              "    }\n",
              "</style>\n",
              "<table border=\"1\" class=\"dataframe\">\n",
              "  <thead>\n",
              "    <tr style=\"text-align: right;\">\n",
              "      <th></th>\n",
              "      <th>0</th>\n",
              "    </tr>\n",
              "  </thead>\n",
              "  <tbody>\n",
              "    <tr>\n",
              "      <th>state</th>\n",
              "      <td>0.079212</td>\n",
              "    </tr>\n",
              "    <tr>\n",
              "      <th>color</th>\n",
              "      <td>0.066112</td>\n",
              "    </tr>\n",
              "    <tr>\n",
              "      <th>seller</th>\n",
              "      <td>0.000051</td>\n",
              "    </tr>\n",
              "    <tr>\n",
              "      <th>odometer</th>\n",
              "      <td>-0.000027</td>\n",
              "    </tr>\n",
              "    <tr>\n",
              "      <th>trim</th>\n",
              "      <td>-0.000337</td>\n",
              "    </tr>\n",
              "    <tr>\n",
              "      <th>model</th>\n",
              "      <td>-0.000502</td>\n",
              "    </tr>\n",
              "    <tr>\n",
              "      <th>body</th>\n",
              "      <td>-0.000938</td>\n",
              "    </tr>\n",
              "    <tr>\n",
              "      <th>mmr</th>\n",
              "      <td>-0.001763</td>\n",
              "    </tr>\n",
              "    <tr>\n",
              "      <th>make</th>\n",
              "      <td>-0.001915</td>\n",
              "    </tr>\n",
              "    <tr>\n",
              "      <th>interior</th>\n",
              "      <td>-0.024083</td>\n",
              "    </tr>\n",
              "    <tr>\n",
              "      <th>month</th>\n",
              "      <td>-0.152481</td>\n",
              "    </tr>\n",
              "    <tr>\n",
              "      <th>year</th>\n",
              "      <td>-1.002926</td>\n",
              "    </tr>\n",
              "    <tr>\n",
              "      <th>transmission</th>\n",
              "      <td>-1.419410</td>\n",
              "    </tr>\n",
              "    <tr>\n",
              "      <th>condition</th>\n",
              "      <td>-3.144139</td>\n",
              "    </tr>\n",
              "  </tbody>\n",
              "</table>\n",
              "</div>\n",
              "      <button class=\"colab-df-convert\" onclick=\"convertToInteractive('df-26969a97-c1f6-4d9d-a6e4-6e7a806f1e90')\"\n",
              "              title=\"Convert this dataframe to an interactive table.\"\n",
              "              style=\"display:none;\">\n",
              "        \n",
              "  <svg xmlns=\"http://www.w3.org/2000/svg\" height=\"24px\"viewBox=\"0 0 24 24\"\n",
              "       width=\"24px\">\n",
              "    <path d=\"M0 0h24v24H0V0z\" fill=\"none\"/>\n",
              "    <path d=\"M18.56 5.44l.94 2.06.94-2.06 2.06-.94-2.06-.94-.94-2.06-.94 2.06-2.06.94zm-11 1L8.5 8.5l.94-2.06 2.06-.94-2.06-.94L8.5 2.5l-.94 2.06-2.06.94zm10 10l.94 2.06.94-2.06 2.06-.94-2.06-.94-.94-2.06-.94 2.06-2.06.94z\"/><path d=\"M17.41 7.96l-1.37-1.37c-.4-.4-.92-.59-1.43-.59-.52 0-1.04.2-1.43.59L10.3 9.45l-7.72 7.72c-.78.78-.78 2.05 0 2.83L4 21.41c.39.39.9.59 1.41.59.51 0 1.02-.2 1.41-.59l7.78-7.78 2.81-2.81c.8-.78.8-2.07 0-2.86zM5.41 20L4 18.59l7.72-7.72 1.47 1.35L5.41 20z\"/>\n",
              "  </svg>\n",
              "      </button>\n",
              "      \n",
              "  <style>\n",
              "    .colab-df-container {\n",
              "      display:flex;\n",
              "      flex-wrap:wrap;\n",
              "      gap: 12px;\n",
              "    }\n",
              "\n",
              "    .colab-df-convert {\n",
              "      background-color: #E8F0FE;\n",
              "      border: none;\n",
              "      border-radius: 50%;\n",
              "      cursor: pointer;\n",
              "      display: none;\n",
              "      fill: #1967D2;\n",
              "      height: 32px;\n",
              "      padding: 0 0 0 0;\n",
              "      width: 32px;\n",
              "    }\n",
              "\n",
              "    .colab-df-convert:hover {\n",
              "      background-color: #E2EBFA;\n",
              "      box-shadow: 0px 1px 2px rgba(60, 64, 67, 0.3), 0px 1px 3px 1px rgba(60, 64, 67, 0.15);\n",
              "      fill: #174EA6;\n",
              "    }\n",
              "\n",
              "    [theme=dark] .colab-df-convert {\n",
              "      background-color: #3B4455;\n",
              "      fill: #D2E3FC;\n",
              "    }\n",
              "\n",
              "    [theme=dark] .colab-df-convert:hover {\n",
              "      background-color: #434B5C;\n",
              "      box-shadow: 0px 1px 3px 1px rgba(0, 0, 0, 0.15);\n",
              "      filter: drop-shadow(0px 1px 2px rgba(0, 0, 0, 0.3));\n",
              "      fill: #FFFFFF;\n",
              "    }\n",
              "  </style>\n",
              "\n",
              "      <script>\n",
              "        const buttonEl =\n",
              "          document.querySelector('#df-26969a97-c1f6-4d9d-a6e4-6e7a806f1e90 button.colab-df-convert');\n",
              "        buttonEl.style.display =\n",
              "          google.colab.kernel.accessAllowed ? 'block' : 'none';\n",
              "\n",
              "        async function convertToInteractive(key) {\n",
              "          const element = document.querySelector('#df-26969a97-c1f6-4d9d-a6e4-6e7a806f1e90');\n",
              "          const dataTable =\n",
              "            await google.colab.kernel.invokeFunction('convertToInteractive',\n",
              "                                                     [key], {});\n",
              "          if (!dataTable) return;\n",
              "\n",
              "          const docLinkHtml = 'Like what you see? Visit the ' +\n",
              "            '<a target=\"_blank\" href=https://colab.research.google.com/notebooks/data_table.ipynb>data table notebook</a>'\n",
              "            + ' to learn more about interactive tables.';\n",
              "          element.innerHTML = '';\n",
              "          dataTable['output_type'] = 'display_data';\n",
              "          await google.colab.output.renderOutput(dataTable, element);\n",
              "          const docLink = document.createElement('div');\n",
              "          docLink.innerHTML = docLinkHtml;\n",
              "          element.appendChild(docLink);\n",
              "        }\n",
              "      </script>\n",
              "    </div>\n",
              "  </div>\n",
              "  "
            ],
            "text/plain": [
              "                     0\n",
              "state         0.079212\n",
              "color         0.066112\n",
              "seller        0.000051\n",
              "odometer     -0.000027\n",
              "trim         -0.000337\n",
              "model        -0.000502\n",
              "body         -0.000938\n",
              "mmr          -0.001763\n",
              "make         -0.001915\n",
              "interior     -0.024083\n",
              "month        -0.152481\n",
              "year         -1.002926\n",
              "transmission -1.419410\n",
              "condition    -3.144139"
            ]
          },
          "metadata": {},
          "execution_count": 58
        }
      ],
      "source": [
        "#coeeficients are in array thus we need a new dataframe to get the column names\n",
        "feature_importance = pd.DataFrame(index=X.columns.values, data=lda_.coef_[0].T)\n",
        "feature_importance.sort_values(0, ascending= False)"
      ]
    },
    {
      "cell_type": "code",
      "execution_count": null,
      "metadata": {
        "id": "zsExYqnGa3-C"
      },
      "outputs": [],
      "source": [
        "#Dropping the least important features\n",
        "df1 = df.drop(columns=['condition', 'transmission', 'year', 'month', 'interior'])"
      ]
    },
    {
      "cell_type": "code",
      "execution_count": null,
      "metadata": {
        "id": "4oqjZNZfa3-C",
        "outputId": "4a169880-b985-4940-83b2-a2d159a4bd18",
        "colab": {
          "base_uri": "https://localhost:8080/"
        }
      },
      "outputs": [
        {
          "output_type": "execute_result",
          "data": {
            "text/plain": [
              "(48991, 10)"
            ]
          },
          "metadata": {},
          "execution_count": 60
        }
      ],
      "source": [
        "df_sample = df1.sample(frac=0.10, replace=False)\n",
        "df_sample.shape"
      ]
    },
    {
      "cell_type": "code",
      "source": [
        "#Removing outliers\n",
        "\n",
        "Q1 = df_sample.quantile(0.25)\n",
        "Q3 = df_sample.quantile(0.75)\n",
        "IQR = Q3 - Q1\n",
        "df_sample = df_sample[~((df_sample < (Q1 - 1.5 * IQR)) | (df_sample > (Q3 + 1.5 * IQR))).any(axis=1)]\n"
      ],
      "metadata": {
        "id": "3_GuE8_zeuqz"
      },
      "execution_count": null,
      "outputs": []
    },
    {
      "cell_type": "code",
      "source": [
        "# Checking for Outliers\n",
        "# Creating a list of columns to check for outliers\n",
        "col_list = ['odometer', 'mmr','sellingprice']\n",
        "# Creating a list of colors\n",
        "colors = ['blueviolet', 'darkorange', 'springgreen', 'fuchsia']\n",
        "# Plotting boxplots of the col_list columns to check for outliers\n",
        "fig, axes = plt.subplots(nrows = 2, ncols = 2, figsize = (15, 10))\n",
        "plt.suptitle('Checking for outliers using boxplots', fontsize = 15, y = 0.92, color = 'indigo')\n",
        "for ax, data, column, color in zip(axes.flatten(), df_sample, col_list, colors):\n",
        "    sns.boxplot(df_sample[column], ax = ax, color = color)\n",
        "# Setting the background color to lavender\n",
        "    ax.set_facecolor('lavender') \n"
      ],
      "metadata": {
        "colab": {
          "base_uri": "https://localhost:8080/",
          "height": 634
        },
        "id": "E8W8SIm4e9i-",
        "outputId": "ae7fc378-9b2f-4a9a-e6fd-380f8c7a04b3"
      },
      "execution_count": null,
      "outputs": [
        {
          "output_type": "display_data",
          "data": {
            "image/png": "[encoded data removed]",
            "text/plain": [
              "<Figure size 1080x720 with 4 Axes>"
            ]
          },
          "metadata": {
            "needs_background": "light"
          }
        }
      ]
    },
    {
      "cell_type": "markdown",
      "metadata": {
        "id": "vTbdjSrhVIiT"
      },
      "source": [
        "## 7. Implementing the Solution"
      ]
    },
    {
      "cell_type": "markdown",
      "metadata": {
        "id": "xbWgQsyCa3-D"
      },
      "source": [
        "### 7.1 Random Forest Regressor"
      ]
    },
    {
      "cell_type": "code",
      "execution_count": null,
      "metadata": {
        "id": "PJLZaRzJXJ3w"
      },
      "outputs": [],
      "source": [
        "# Split the independent and dependent variables\n",
        "# We want to predict if someone is a social drinker, so let's use that column as our Y \n",
        "y = df_sample['sellingprice'].values\n",
        "X = df_sample.drop(['sellingprice'], axis = 1).values\n",
        "\n",
        "# Train using 70% of the data.\n",
        "X_train, X_test, y_train, y_test = train_test_split(X, y, test_size=0.3, random_state=0)\n",
        "#Normalizing the data\n",
        "from sklearn import preprocessing\n",
        "normalizer = preprocessing.Normalizer().fit(X_train)  \n",
        "X_train = normalizer.transform(X_train)\n",
        "X_test = normalizer.transform(X_test)"
      ]
    },
    {
      "cell_type": "code",
      "execution_count": null,
      "metadata": {
        "id": "UUbkpEPja3-D"
      },
      "outputs": [],
      "source": [
        "# Import the model\n",
        "from sklearn.ensemble import RandomForestRegressor\n",
        "forest = RandomForestRegressor()\n",
        "forest = forest.fit(X_train, y_train)"
      ]
    },
    {
      "cell_type": "code",
      "execution_count": null,
      "metadata": {
        "id": "Wi6I84tFa3-D",
        "outputId": "ed2f033c-f64d-4691-e5c3-d74a32de15d4",
        "colab": {
          "base_uri": "https://localhost:8080/",
          "height": 300
        }
      },
      "outputs": [
        {
          "output_type": "execute_result",
          "data": {
            "text/html": [
              "\n",
              "  <div id=\"df-a2469d5a-db99-496c-a97a-d3aa02890dac\">\n",
              "    <div class=\"colab-df-container\">\n",
              "      <div>\n",
              "<style scoped>\n",
              "    .dataframe tbody tr th:only-of-type {\n",
              "        vertical-align: middle;\n",
              "    }\n",
              "\n",
              "    .dataframe tbody tr th {\n",
              "        vertical-align: top;\n",
              "    }\n",
              "\n",
              "    .dataframe thead th {\n",
              "        text-align: right;\n",
              "    }\n",
              "</style>\n",
              "<table border=\"1\" class=\"dataframe\">\n",
              "  <thead>\n",
              "    <tr style=\"text-align: right;\">\n",
              "      <th></th>\n",
              "      <th>Actual</th>\n",
              "      <th>Predicted</th>\n",
              "    </tr>\n",
              "  </thead>\n",
              "  <tbody>\n",
              "    <tr>\n",
              "      <th>count</th>\n",
              "      <td>11010.000000</td>\n",
              "      <td>11010.000000</td>\n",
              "    </tr>\n",
              "    <tr>\n",
              "      <th>mean</th>\n",
              "      <td>12696.336785</td>\n",
              "      <td>12665.004278</td>\n",
              "    </tr>\n",
              "    <tr>\n",
              "      <th>std</th>\n",
              "      <td>7340.314305</td>\n",
              "      <td>7132.954601</td>\n",
              "    </tr>\n",
              "    <tr>\n",
              "      <th>min</th>\n",
              "      <td>200.000000</td>\n",
              "      <td>473.000000</td>\n",
              "    </tr>\n",
              "    <tr>\n",
              "      <th>25%</th>\n",
              "      <td>7400.000000</td>\n",
              "      <td>7441.875000</td>\n",
              "    </tr>\n",
              "    <tr>\n",
              "      <th>50%</th>\n",
              "      <td>12100.000000</td>\n",
              "      <td>12081.500000</td>\n",
              "    </tr>\n",
              "    <tr>\n",
              "      <th>75%</th>\n",
              "      <td>16800.000000</td>\n",
              "      <td>16675.000000</td>\n",
              "    </tr>\n",
              "    <tr>\n",
              "      <th>max</th>\n",
              "      <td>34350.000000</td>\n",
              "      <td>33309.000000</td>\n",
              "    </tr>\n",
              "  </tbody>\n",
              "</table>\n",
              "</div>\n",
              "      <button class=\"colab-df-convert\" onclick=\"convertToInteractive('df-a2469d5a-db99-496c-a97a-d3aa02890dac')\"\n",
              "              title=\"Convert this dataframe to an interactive table.\"\n",
              "              style=\"display:none;\">\n",
              "        \n",
              "  <svg xmlns=\"http://www.w3.org/2000/svg\" height=\"24px\"viewBox=\"0 0 24 24\"\n",
              "       width=\"24px\">\n",
              "    <path d=\"M0 0h24v24H0V0z\" fill=\"none\"/>\n",
              "    <path d=\"M18.56 5.44l.94 2.06.94-2.06 2.06-.94-2.06-.94-.94-2.06-.94 2.06-2.06.94zm-11 1L8.5 8.5l.94-2.06 2.06-.94-2.06-.94L8.5 2.5l-.94 2.06-2.06.94zm10 10l.94 2.06.94-2.06 2.06-.94-2.06-.94-.94-2.06-.94 2.06-2.06.94z\"/><path d=\"M17.41 7.96l-1.37-1.37c-.4-.4-.92-.59-1.43-.59-.52 0-1.04.2-1.43.59L10.3 9.45l-7.72 7.72c-.78.78-.78 2.05 0 2.83L4 21.41c.39.39.9.59 1.41.59.51 0 1.02-.2 1.41-.59l7.78-7.78 2.81-2.81c.8-.78.8-2.07 0-2.86zM5.41 20L4 18.59l7.72-7.72 1.47 1.35L5.41 20z\"/>\n",
              "  </svg>\n",
              "      </button>\n",
              "      \n",
              "  <style>\n",
              "    .colab-df-container {\n",
              "      display:flex;\n",
              "      flex-wrap:wrap;\n",
              "      gap: 12px;\n",
              "    }\n",
              "\n",
              "    .colab-df-convert {\n",
              "      background-color: #E8F0FE;\n",
              "      border: none;\n",
              "      border-radius: 50%;\n",
              "      cursor: pointer;\n",
              "      display: none;\n",
              "      fill: #1967D2;\n",
              "      height: 32px;\n",
              "      padding: 0 0 0 0;\n",
              "      width: 32px;\n",
              "    }\n",
              "\n",
              "    .colab-df-convert:hover {\n",
              "      background-color: #E2EBFA;\n",
              "      box-shadow: 0px 1px 2px rgba(60, 64, 67, 0.3), 0px 1px 3px 1px rgba(60, 64, 67, 0.15);\n",
              "      fill: #174EA6;\n",
              "    }\n",
              "\n",
              "    [theme=dark] .colab-df-convert {\n",
              "      background-color: #3B4455;\n",
              "      fill: #D2E3FC;\n",
              "    }\n",
              "\n",
              "    [theme=dark] .colab-df-convert:hover {\n",
              "      background-color: #434B5C;\n",
              "      box-shadow: 0px 1px 3px 1px rgba(0, 0, 0, 0.15);\n",
              "      filter: drop-shadow(0px 1px 2px rgba(0, 0, 0, 0.3));\n",
              "      fill: #FFFFFF;\n",
              "    }\n",
              "  </style>\n",
              "\n",
              "      <script>\n",
              "        const buttonEl =\n",
              "          document.querySelector('#df-a2469d5a-db99-496c-a97a-d3aa02890dac button.colab-df-convert');\n",
              "        buttonEl.style.display =\n",
              "          google.colab.kernel.accessAllowed ? 'block' : 'none';\n",
              "\n",
              "        async function convertToInteractive(key) {\n",
              "          const element = document.querySelector('#df-a2469d5a-db99-496c-a97a-d3aa02890dac');\n",
              "          const dataTable =\n",
              "            await google.colab.kernel.invokeFunction('convertToInteractive',\n",
              "                                                     [key], {});\n",
              "          if (!dataTable) return;\n",
              "\n",
              "          const docLinkHtml = 'Like what you see? Visit the ' +\n",
              "            '<a target=\"_blank\" href=https://colab.research.google.com/notebooks/data_table.ipynb>data table notebook</a>'\n",
              "            + ' to learn more about interactive tables.';\n",
              "          element.innerHTML = '';\n",
              "          dataTable['output_type'] = 'display_data';\n",
              "          await google.colab.output.renderOutput(dataTable, element);\n",
              "          const docLink = document.createElement('div');\n",
              "          docLink.innerHTML = docLinkHtml;\n",
              "          element.appendChild(docLink);\n",
              "        }\n",
              "      </script>\n",
              "    </div>\n",
              "  </div>\n",
              "  "
            ],
            "text/plain": [
              "             Actual     Predicted\n",
              "count  11010.000000  11010.000000\n",
              "mean   12696.336785  12665.004278\n",
              "std     7340.314305   7132.954601\n",
              "min      200.000000    473.000000\n",
              "25%     7400.000000   7441.875000\n",
              "50%    12100.000000  12081.500000\n",
              "75%    16800.000000  16675.000000\n",
              "max    34350.000000  33309.000000"
            ]
          },
          "metadata": {},
          "execution_count": 90
        }
      ],
      "source": [
        "# Predict based on the model we've trained\n",
        "y_pred = forest.predict(X_test)\n",
        "comparison_frame = pd.DataFrame({'Actual': y_test.flatten(), 'Predicted': y_pred.flatten()})\n",
        "comparison_frame.describe()"
      ]
    },
    {
      "cell_type": "code",
      "execution_count": null,
      "metadata": {
        "id": "lTmcz55oa3-D",
        "outputId": "7f669ea3-2266-4ae6-e575-e99ae591beb5",
        "colab": {
          "base_uri": "https://localhost:8080/"
        }
      },
      "outputs": [
        {
          "output_type": "stream",
          "name": "stdout",
          "text": [
            "Mean Absolute Error: 1160.338706630336\n",
            "Mean Squared Error: 2741626.579127048\n",
            "Root Mean Squared Error: 1655.785789021952\n"
          ]
        }
      ],
      "source": [
        "# Evaluating the Algorithm\n",
        "from sklearn import metrics\n",
        "print('Mean Absolute Error:', metrics.mean_absolute_error(y_test, y_pred))\n",
        "print('Mean Squared Error:', metrics.mean_squared_error(y_test, y_pred))\n",
        "print('Root Mean Squared Error:', np.sqrt(metrics.mean_squared_error(y_test, y_pred)))"
      ]
    },
    {
      "cell_type": "markdown",
      "metadata": {
        "id": "JNmmMSm2a3-E"
      },
      "source": [
        "### 7.2 Linear Regression"
      ]
    },
    {
      "cell_type": "code",
      "execution_count": null,
      "metadata": {
        "id": "xR8OEBXOa3-E",
        "outputId": "11020c3f-b063-4d38-b9d1-95d52f7d4008",
        "colab": {
          "base_uri": "https://localhost:8080/"
        }
      },
      "outputs": [
        {
          "output_type": "execute_result",
          "data": {
            "text/plain": [
              "LinearRegression()"
            ]
          },
          "metadata": {},
          "execution_count": 92
        }
      ],
      "source": [
        "# Training the Algorithm\n",
        "# ---\n",
        "# To train the algorithm we execute the same code as before, using the fit() method of the LinearRegression class\n",
        "from sklearn.linear_model import LinearRegression\n",
        "regressor = LinearRegression()\n",
        "regressor.fit(X_train, y_train)"
      ]
    },
    {
      "cell_type": "code",
      "execution_count": null,
      "metadata": {
        "scrolled": true,
        "id": "wM-3y3ISa3-E",
        "outputId": "9e1fd1ed-9aba-440c-9171-87f814eff15d",
        "colab": {
          "base_uri": "https://localhost:8080/",
          "height": 300
        }
      },
      "outputs": [
        {
          "output_type": "execute_result",
          "data": {
            "text/html": [
              "\n",
              "  <div id=\"df-15b75c43-ed0a-47f5-bccc-d352c61160d6\">\n",
              "    <div class=\"colab-df-container\">\n",
              "      <div>\n",
              "<style scoped>\n",
              "    .dataframe tbody tr th:only-of-type {\n",
              "        vertical-align: middle;\n",
              "    }\n",
              "\n",
              "    .dataframe tbody tr th {\n",
              "        vertical-align: top;\n",
              "    }\n",
              "\n",
              "    .dataframe thead th {\n",
              "        text-align: right;\n",
              "    }\n",
              "</style>\n",
              "<table border=\"1\" class=\"dataframe\">\n",
              "  <thead>\n",
              "    <tr style=\"text-align: right;\">\n",
              "      <th></th>\n",
              "      <th>Actual</th>\n",
              "      <th>Predicted</th>\n",
              "    </tr>\n",
              "  </thead>\n",
              "  <tbody>\n",
              "    <tr>\n",
              "      <th>count</th>\n",
              "      <td>11010.000000</td>\n",
              "      <td>11010.000000</td>\n",
              "    </tr>\n",
              "    <tr>\n",
              "      <th>mean</th>\n",
              "      <td>12696.336785</td>\n",
              "      <td>12690.264827</td>\n",
              "    </tr>\n",
              "    <tr>\n",
              "      <th>std</th>\n",
              "      <td>7340.314305</td>\n",
              "      <td>6581.549706</td>\n",
              "    </tr>\n",
              "    <tr>\n",
              "      <th>min</th>\n",
              "      <td>200.000000</td>\n",
              "      <td>-89595.710908</td>\n",
              "    </tr>\n",
              "    <tr>\n",
              "      <th>25%</th>\n",
              "      <td>7400.000000</td>\n",
              "      <td>7112.590440</td>\n",
              "    </tr>\n",
              "    <tr>\n",
              "      <th>50%</th>\n",
              "      <td>12100.000000</td>\n",
              "      <td>11567.262894</td>\n",
              "    </tr>\n",
              "    <tr>\n",
              "      <th>75%</th>\n",
              "      <td>16800.000000</td>\n",
              "      <td>17218.812741</td>\n",
              "    </tr>\n",
              "    <tr>\n",
              "      <th>max</th>\n",
              "      <td>34350.000000</td>\n",
              "      <td>30153.626552</td>\n",
              "    </tr>\n",
              "  </tbody>\n",
              "</table>\n",
              "</div>\n",
              "      <button class=\"colab-df-convert\" onclick=\"convertToInteractive('df-15b75c43-ed0a-47f5-bccc-d352c61160d6')\"\n",
              "              title=\"Convert this dataframe to an interactive table.\"\n",
              "              style=\"display:none;\">\n",
              "        \n",
              "  <svg xmlns=\"http://www.w3.org/2000/svg\" height=\"24px\"viewBox=\"0 0 24 24\"\n",
              "       width=\"24px\">\n",
              "    <path d=\"M0 0h24v24H0V0z\" fill=\"none\"/>\n",
              "    <path d=\"M18.56 5.44l.94 2.06.94-2.06 2.06-.94-2.06-.94-.94-2.06-.94 2.06-2.06.94zm-11 1L8.5 8.5l.94-2.06 2.06-.94-2.06-.94L8.5 2.5l-.94 2.06-2.06.94zm10 10l.94 2.06.94-2.06 2.06-.94-2.06-.94-.94-2.06-.94 2.06-2.06.94z\"/><path d=\"M17.41 7.96l-1.37-1.37c-.4-.4-.92-.59-1.43-.59-.52 0-1.04.2-1.43.59L10.3 9.45l-7.72 7.72c-.78.78-.78 2.05 0 2.83L4 21.41c.39.39.9.59 1.41.59.51 0 1.02-.2 1.41-.59l7.78-7.78 2.81-2.81c.8-.78.8-2.07 0-2.86zM5.41 20L4 18.59l7.72-7.72 1.47 1.35L5.41 20z\"/>\n",
              "  </svg>\n",
              "      </button>\n",
              "      \n",
              "  <style>\n",
              "    .colab-df-container {\n",
              "      display:flex;\n",
              "      flex-wrap:wrap;\n",
              "      gap: 12px;\n",
              "    }\n",
              "\n",
              "    .colab-df-convert {\n",
              "      background-color: #E8F0FE;\n",
              "      border: none;\n",
              "      border-radius: 50%;\n",
              "      cursor: pointer;\n",
              "      display: none;\n",
              "      fill: #1967D2;\n",
              "      height: 32px;\n",
              "      padding: 0 0 0 0;\n",
              "      width: 32px;\n",
              "    }\n",
              "\n",
              "    .colab-df-convert:hover {\n",
              "      background-color: #E2EBFA;\n",
              "      box-shadow: 0px 1px 2px rgba(60, 64, 67, 0.3), 0px 1px 3px 1px rgba(60, 64, 67, 0.15);\n",
              "      fill: #174EA6;\n",
              "    }\n",
              "\n",
              "    [theme=dark] .colab-df-convert {\n",
              "      background-color: #3B4455;\n",
              "      fill: #D2E3FC;\n",
              "    }\n",
              "\n",
              "    [theme=dark] .colab-df-convert:hover {\n",
              "      background-color: #434B5C;\n",
              "      box-shadow: 0px 1px 3px 1px rgba(0, 0, 0, 0.15);\n",
              "      filter: drop-shadow(0px 1px 2px rgba(0, 0, 0, 0.3));\n",
              "      fill: #FFFFFF;\n",
              "    }\n",
              "  </style>\n",
              "\n",
              "      <script>\n",
              "        const buttonEl =\n",
              "          document.querySelector('#df-15b75c43-ed0a-47f5-bccc-d352c61160d6 button.colab-df-convert');\n",
              "        buttonEl.style.display =\n",
              "          google.colab.kernel.accessAllowed ? 'block' : 'none';\n",
              "\n",
              "        async function convertToInteractive(key) {\n",
              "          const element = document.querySelector('#df-15b75c43-ed0a-47f5-bccc-d352c61160d6');\n",
              "          const dataTable =\n",
              "            await google.colab.kernel.invokeFunction('convertToInteractive',\n",
              "                                                     [key], {});\n",
              "          if (!dataTable) return;\n",
              "\n",
              "          const docLinkHtml = 'Like what you see? Visit the ' +\n",
              "            '<a target=\"_blank\" href=https://colab.research.google.com/notebooks/data_table.ipynb>data table notebook</a>'\n",
              "            + ' to learn more about interactive tables.';\n",
              "          element.innerHTML = '';\n",
              "          dataTable['output_type'] = 'display_data';\n",
              "          await google.colab.output.renderOutput(dataTable, element);\n",
              "          const docLink = document.createElement('div');\n",
              "          docLink.innerHTML = docLinkHtml;\n",
              "          element.appendChild(docLink);\n",
              "        }\n",
              "      </script>\n",
              "    </div>\n",
              "  </div>\n",
              "  "
            ],
            "text/plain": [
              "             Actual     Predicted\n",
              "count  11010.000000  11010.000000\n",
              "mean   12696.336785  12690.264827\n",
              "std     7340.314305   6581.549706\n",
              "min      200.000000 -89595.710908\n",
              "25%     7400.000000   7112.590440\n",
              "50%    12100.000000  11567.262894\n",
              "75%    16800.000000  17218.812741\n",
              "max    34350.000000  30153.626552"
            ]
          },
          "metadata": {},
          "execution_count": 93
        }
      ],
      "source": [
        "#Predicting\n",
        "y_pred = regressor.predict(X_test)\n",
        "# To compare the actual output values for X1_test with the predicted values\n",
        "linear_comparison = pd.DataFrame({'Actual': y_test, 'Predicted': y_pred})\n",
        "linear_comparison.describe()"
      ]
    },
    {
      "cell_type": "code",
      "execution_count": null,
      "metadata": {
        "id": "N5LfeuyDa3-E",
        "outputId": "efb2a476-02cb-4269-ded4-9b19c6378f02",
        "colab": {
          "base_uri": "https://localhost:8080/"
        }
      },
      "outputs": [
        {
          "output_type": "stream",
          "name": "stdout",
          "text": [
            "Mean Absolute Error: 2412.535850931112\n",
            "Mean Squared Error: 12012294.198981535\n",
            "Root Mean Squared Error: 3465.8756756383423\n"
          ]
        }
      ],
      "source": [
        "# Evaluating the Algorithm\n",
        "from sklearn import metrics\n",
        "print('Mean Absolute Error:', metrics.mean_absolute_error(y_test, y_pred))\n",
        "print('Mean Squared Error:', metrics.mean_squared_error(y_test, y_pred))\n",
        "print('Root Mean Squared Error:', np.sqrt(metrics.mean_squared_error(y_test, y_pred)))"
      ]
    },
    {
      "cell_type": "code",
      "execution_count": null,
      "metadata": {
        "id": "G7Beu8AZa3-F",
        "outputId": "0cbe2041-2485-4f42-eb71-6d044bd257fc",
        "colab": {
          "base_uri": "https://localhost:8080/",
          "height": 279
        }
      },
      "outputs": [
        {
          "output_type": "display_data",
          "data": {
            "image/png": "[encoded data removed]",
            "text/plain": [
              "<Figure size 432x288 with 1 Axes>"
            ]
          },
          "metadata": {
            "needs_background": "light"
          }
        }
      ],
      "source": [
        "#Plotting the residuals\n",
        "residuals = np.subtract(y_pred, y_test)\n",
        "\n",
        "plt.scatter(y_pred, residuals, color=\"blue\")\n",
        "plt.ylabel('residual')\n",
        "plt.xlabel('fitted values')\n",
        "plt.axhline(y= residuals.mean(), color='red', linewidth=1)\n",
        "plt.show()"
      ]
    },
    {
      "cell_type": "code",
      "execution_count": null,
      "metadata": {
        "id": "k39DmC4ha3-F",
        "outputId": "1d226e59-7078-4dcc-c8e5-fe7620fadbdb",
        "colab": {
          "base_uri": "https://localhost:8080/"
        }
      },
      "outputs": [
        {
          "output_type": "stream",
          "name": "stdout",
          "text": [
            "0.0\n",
            "the variances are homogeneous!\n"
          ]
        }
      ],
      "source": [
        "#Using the Barlett's test to check heteroskedasticity\n",
        "import scipy as sp\n",
        "test_result, p_value = sp.stats.bartlett(y_pred, residuals)\n",
        "\n",
        "# To interpret the results we must also compute a critical value of the chi squared distribution\n",
        "degree_of_freedom = len(y_pred)-1\n",
        "probability = 1 - p_value\n",
        "\n",
        "critical_value = sp.stats.chi2.ppf(probability, degree_of_freedom)\n",
        "print(p_value)\n",
        "\n",
        "# If the test_result is greater than the critical value, then we reject our null\n",
        "# hypothesis. This would mean that there are patterns to the variance of the data\n",
        "\n",
        "# Otherwise, we can identify no patterns, and we accept the null hypothesis that \n",
        "# the variance is homogeneous across our data\n",
        "\n",
        "if (test_result > critical_value):\n",
        "    print('the variances are unequal, and the model should be reassessed')\n",
        "else:\n",
        "    print('the variances are homogeneous!')"
      ]
    },
    {
      "cell_type": "markdown",
      "metadata": {
        "id": "jv86ZtdMa3-F"
      },
      "source": [
        "### 7.3 Ada Boost Regression"
      ]
    },
    {
      "cell_type": "code",
      "execution_count": null,
      "metadata": {
        "id": "x0_6rd_8a3-F"
      },
      "outputs": [],
      "source": [
        "from sklearn.tree import DecisionTreeRegressor\n",
        "from sklearn.ensemble import AdaBoostRegressor\n",
        "#creating model\n",
        "ada_boost = AdaBoostRegressor()\n",
        "#fitting model\n",
        "ada_boost = ada_boost.fit(X_train, y_train)\n",
        "#making prediction\n",
        "model = ada_boost.predict(X_test)"
      ]
    },
    {
      "cell_type": "code",
      "execution_count": null,
      "metadata": {
        "id": "js9UuAgFa3-G",
        "outputId": "30915281-7dc3-434a-93eb-bab83ba1c0a8",
        "colab": {
          "base_uri": "https://localhost:8080/",
          "height": 300
        }
      },
      "outputs": [
        {
          "output_type": "execute_result",
          "data": {
            "text/html": [
              "\n",
              "  <div id=\"df-2e7b56a1-2c23-4f2b-8b82-fb10e37e88b5\">\n",
              "    <div class=\"colab-df-container\">\n",
              "      <div>\n",
              "<style scoped>\n",
              "    .dataframe tbody tr th:only-of-type {\n",
              "        vertical-align: middle;\n",
              "    }\n",
              "\n",
              "    .dataframe tbody tr th {\n",
              "        vertical-align: top;\n",
              "    }\n",
              "\n",
              "    .dataframe thead th {\n",
              "        text-align: right;\n",
              "    }\n",
              "</style>\n",
              "<table border=\"1\" class=\"dataframe\">\n",
              "  <thead>\n",
              "    <tr style=\"text-align: right;\">\n",
              "      <th></th>\n",
              "      <th>Actual</th>\n",
              "      <th>Predicted</th>\n",
              "    </tr>\n",
              "  </thead>\n",
              "  <tbody>\n",
              "    <tr>\n",
              "      <th>count</th>\n",
              "      <td>11010.000000</td>\n",
              "      <td>11010.000000</td>\n",
              "    </tr>\n",
              "    <tr>\n",
              "      <th>mean</th>\n",
              "      <td>12696.336785</td>\n",
              "      <td>13135.982730</td>\n",
              "    </tr>\n",
              "    <tr>\n",
              "      <th>std</th>\n",
              "      <td>7340.314305</td>\n",
              "      <td>5942.446845</td>\n",
              "    </tr>\n",
              "    <tr>\n",
              "      <th>min</th>\n",
              "      <td>200.000000</td>\n",
              "      <td>2519.248555</td>\n",
              "    </tr>\n",
              "    <tr>\n",
              "      <th>25%</th>\n",
              "      <td>7400.000000</td>\n",
              "      <td>8449.767396</td>\n",
              "    </tr>\n",
              "    <tr>\n",
              "      <th>50%</th>\n",
              "      <td>12100.000000</td>\n",
              "      <td>13850.000000</td>\n",
              "    </tr>\n",
              "    <tr>\n",
              "      <th>75%</th>\n",
              "      <td>16800.000000</td>\n",
              "      <td>17839.355697</td>\n",
              "    </tr>\n",
              "    <tr>\n",
              "      <th>max</th>\n",
              "      <td>34350.000000</td>\n",
              "      <td>27399.273461</td>\n",
              "    </tr>\n",
              "  </tbody>\n",
              "</table>\n",
              "</div>\n",
              "      <button class=\"colab-df-convert\" onclick=\"convertToInteractive('df-2e7b56a1-2c23-4f2b-8b82-fb10e37e88b5')\"\n",
              "              title=\"Convert this dataframe to an interactive table.\"\n",
              "              style=\"display:none;\">\n",
              "        \n",
              "  <svg xmlns=\"http://www.w3.org/2000/svg\" height=\"24px\"viewBox=\"0 0 24 24\"\n",
              "       width=\"24px\">\n",
              "    <path d=\"M0 0h24v24H0V0z\" fill=\"none\"/>\n",
              "    <path d=\"M18.56 5.44l.94 2.06.94-2.06 2.06-.94-2.06-.94-.94-2.06-.94 2.06-2.06.94zm-11 1L8.5 8.5l.94-2.06 2.06-.94-2.06-.94L8.5 2.5l-.94 2.06-2.06.94zm10 10l.94 2.06.94-2.06 2.06-.94-2.06-.94-.94-2.06-.94 2.06-2.06.94z\"/><path d=\"M17.41 7.96l-1.37-1.37c-.4-.4-.92-.59-1.43-.59-.52 0-1.04.2-1.43.59L10.3 9.45l-7.72 7.72c-.78.78-.78 2.05 0 2.83L4 21.41c.39.39.9.59 1.41.59.51 0 1.02-.2 1.41-.59l7.78-7.78 2.81-2.81c.8-.78.8-2.07 0-2.86zM5.41 20L4 18.59l7.72-7.72 1.47 1.35L5.41 20z\"/>\n",
              "  </svg>\n",
              "      </button>\n",
              "      \n",
              "  <style>\n",
              "    .colab-df-container {\n",
              "      display:flex;\n",
              "      flex-wrap:wrap;\n",
              "      gap: 12px;\n",
              "    }\n",
              "\n",
              "    .colab-df-convert {\n",
              "      background-color: #E8F0FE;\n",
              "      border: none;\n",
              "      border-radius: 50%;\n",
              "      cursor: pointer;\n",
              "      display: none;\n",
              "      fill: #1967D2;\n",
              "      height: 32px;\n",
              "      padding: 0 0 0 0;\n",
              "      width: 32px;\n",
              "    }\n",
              "\n",
              "    .colab-df-convert:hover {\n",
              "      background-color: #E2EBFA;\n",
              "      box-shadow: 0px 1px 2px rgba(60, 64, 67, 0.3), 0px 1px 3px 1px rgba(60, 64, 67, 0.15);\n",
              "      fill: #174EA6;\n",
              "    }\n",
              "\n",
              "    [theme=dark] .colab-df-convert {\n",
              "      background-color: #3B4455;\n",
              "      fill: #D2E3FC;\n",
              "    }\n",
              "\n",
              "    [theme=dark] .colab-df-convert:hover {\n",
              "      background-color: #434B5C;\n",
              "      box-shadow: 0px 1px 3px 1px rgba(0, 0, 0, 0.15);\n",
              "      filter: drop-shadow(0px 1px 2px rgba(0, 0, 0, 0.3));\n",
              "      fill: #FFFFFF;\n",
              "    }\n",
              "  </style>\n",
              "\n",
              "      <script>\n",
              "        const buttonEl =\n",
              "          document.querySelector('#df-2e7b56a1-2c23-4f2b-8b82-fb10e37e88b5 button.colab-df-convert');\n",
              "        buttonEl.style.display =\n",
              "          google.colab.kernel.accessAllowed ? 'block' : 'none';\n",
              "\n",
              "        async function convertToInteractive(key) {\n",
              "          const element = document.querySelector('#df-2e7b56a1-2c23-4f2b-8b82-fb10e37e88b5');\n",
              "          const dataTable =\n",
              "            await google.colab.kernel.invokeFunction('convertToInteractive',\n",
              "                                                     [key], {});\n",
              "          if (!dataTable) return;\n",
              "\n",
              "          const docLinkHtml = 'Like what you see? Visit the ' +\n",
              "            '<a target=\"_blank\" href=https://colab.research.google.com/notebooks/data_table.ipynb>data table notebook</a>'\n",
              "            + ' to learn more about interactive tables.';\n",
              "          element.innerHTML = '';\n",
              "          dataTable['output_type'] = 'display_data';\n",
              "          await google.colab.output.renderOutput(dataTable, element);\n",
              "          const docLink = document.createElement('div');\n",
              "          docLink.innerHTML = docLinkHtml;\n",
              "          element.appendChild(docLink);\n",
              "        }\n",
              "      </script>\n",
              "    </div>\n",
              "  </div>\n",
              "  "
            ],
            "text/plain": [
              "             Actual     Predicted\n",
              "count  11010.000000  11010.000000\n",
              "mean   12696.336785  13135.982730\n",
              "std     7340.314305   5942.446845\n",
              "min      200.000000   2519.248555\n",
              "25%     7400.000000   8449.767396\n",
              "50%    12100.000000  13850.000000\n",
              "75%    16800.000000  17839.355697\n",
              "max    34350.000000  27399.273461"
            ]
          },
          "metadata": {},
          "execution_count": 99
        }
      ],
      "source": [
        "#Predicting\n",
        "y_pred = regressor.predict(X_test)\n",
        "# To compare the actual output values for X1_test with the predicted values\n",
        "ada_comparison = pd.DataFrame({'Actual': y_test, 'Predicted': model})\n",
        "ada_comparison.describe()"
      ]
    },
    {
      "cell_type": "code",
      "execution_count": null,
      "metadata": {
        "id": "RLIEZnHFa3-F",
        "outputId": "fe734dda-c2f8-413a-8d55-22787bf7b4c4",
        "colab": {
          "base_uri": "https://localhost:8080/"
        }
      },
      "outputs": [
        {
          "output_type": "stream",
          "name": "stdout",
          "text": [
            "Mean Absolute Error: 2255.0532959854895\n",
            "Mean Squared Error: 8500359.93037345\n",
            "Root Mean Squared Error: 2915.5376743190013\n"
          ]
        }
      ],
      "source": [
        "# Evaluating the Algorithm\n",
        "from sklearn import metrics\n",
        "print('Mean Absolute Error:', metrics.mean_absolute_error(y_test, model))\n",
        "print('Mean Squared Error:', metrics.mean_squared_error(y_test, model ))\n",
        "print('Root Mean Squared Error:', np.sqrt(metrics.mean_squared_error(y_test, model)))"
      ]
    },
    {
      "cell_type": "markdown",
      "metadata": {
        "id": "lQ2G4ZPDVOXE"
      },
      "source": [
        "## 8. Challenging the solution"
      ]
    },
    {
      "cell_type": "code",
      "execution_count": null,
      "metadata": {
        "id": "l6HD1cwea3-G",
        "outputId": "3ba8ced4-947d-4881-9bf8-d908aee0c5a2",
        "colab": {
          "base_uri": "https://localhost:8080/"
        }
      },
      "outputs": [
        {
          "output_type": "execute_result",
          "data": {
            "text/plain": [
              "dict_keys(['copy_X', 'fit_intercept', 'n_jobs', 'normalize', 'positive'])"
            ]
          },
          "metadata": {},
          "execution_count": 100
        }
      ],
      "source": [
        "model= regressor\n",
        "model.get_params().keys()"
      ]
    },
    {
      "cell_type": "code",
      "execution_count": null,
      "metadata": {
        "id": "j3x3SXZ4XT_L",
        "scrolled": false,
        "outputId": "7b811701-7b66-45f5-a963-e0c1a8b11622",
        "colab": {
          "base_uri": "https://localhost:8080/"
        }
      },
      "outputs": [
        {
          "output_type": "stream",
          "name": "stdout",
          "text": [
            "0.955260091228535\n",
            "{'normalize': False, 'n_jobs': 2, 'fit_intercept': True}\n"
          ]
        }
      ],
      "source": [
        "from sklearn.model_selection import RandomizedSearchCV\n",
        "from scipy.stats import randint as sp_randint\n",
        "# Tuning the linear model\n",
        "#start building our model and choosing parameters\n",
        "model = regressor\n",
        "search = RandomizedSearchCV(\n",
        "    estimator = regressor,param_distributions={'n_jobs': np.arange(2,20), 'fit_intercept' : (True, False), 'normalize' : (True, False)}, cv = 5)\n",
        "\n",
        "# We now use the .fit function to run the model and then use the .best_params_ and best_scores_ function to determine the models strength. \n",
        "search.fit(X,y)\n",
        "search.best_params_\n",
        "print(search.best_score_)\n",
        "#printing the best parameter\n",
        "print(search.best_params_)"
      ]
    },
    {
      "cell_type": "code",
      "execution_count": null,
      "metadata": {
        "id": "Jva_Uc2za3-G",
        "outputId": "d01da190-0b08-4c96-ca0d-820e051a4a4b",
        "colab": {
          "base_uri": "https://localhost:8080/"
        }
      },
      "outputs": [
        {
          "output_type": "execute_result",
          "data": {
            "text/plain": [
              "LinearRegression(n_jobs=5, normalize=True)"
            ]
          },
          "metadata": {},
          "execution_count": 102
        }
      ],
      "source": [
        "# Training the Algorithm\n",
        "# ---\n",
        "# To train the algorithm we execute the same code as before, using the fit() method of the LinearRegression class\n",
        "from sklearn.linear_model import LinearRegression\n",
        "regressor = LinearRegression(normalize = True, n_jobs = 5, fit_intercept = True)\n",
        "regressor.fit(X_train, y_train)"
      ]
    },
    {
      "cell_type": "code",
      "execution_count": null,
      "metadata": {
        "id": "WYTItit5a3-G",
        "outputId": "8795a463-14b9-4f8b-ebed-989309c297c0",
        "colab": {
          "base_uri": "https://localhost:8080/",
          "height": 300
        }
      },
      "outputs": [
        {
          "output_type": "execute_result",
          "data": {
            "text/html": [
              "\n",
              "  <div id=\"df-0fca32f5-8510-44d2-86a9-8c88fe809d86\">\n",
              "    <div class=\"colab-df-container\">\n",
              "      <div>\n",
              "<style scoped>\n",
              "    .dataframe tbody tr th:only-of-type {\n",
              "        vertical-align: middle;\n",
              "    }\n",
              "\n",
              "    .dataframe tbody tr th {\n",
              "        vertical-align: top;\n",
              "    }\n",
              "\n",
              "    .dataframe thead th {\n",
              "        text-align: right;\n",
              "    }\n",
              "</style>\n",
              "<table border=\"1\" class=\"dataframe\">\n",
              "  <thead>\n",
              "    <tr style=\"text-align: right;\">\n",
              "      <th></th>\n",
              "      <th>Actual</th>\n",
              "      <th>Predicted</th>\n",
              "    </tr>\n",
              "  </thead>\n",
              "  <tbody>\n",
              "    <tr>\n",
              "      <th>count</th>\n",
              "      <td>11010.000000</td>\n",
              "      <td>11010.000000</td>\n",
              "    </tr>\n",
              "    <tr>\n",
              "      <th>mean</th>\n",
              "      <td>12696.336785</td>\n",
              "      <td>12690.264827</td>\n",
              "    </tr>\n",
              "    <tr>\n",
              "      <th>std</th>\n",
              "      <td>7340.314305</td>\n",
              "      <td>6581.549706</td>\n",
              "    </tr>\n",
              "    <tr>\n",
              "      <th>min</th>\n",
              "      <td>200.000000</td>\n",
              "      <td>-89595.710908</td>\n",
              "    </tr>\n",
              "    <tr>\n",
              "      <th>25%</th>\n",
              "      <td>7400.000000</td>\n",
              "      <td>7112.590440</td>\n",
              "    </tr>\n",
              "    <tr>\n",
              "      <th>50%</th>\n",
              "      <td>12100.000000</td>\n",
              "      <td>11567.262894</td>\n",
              "    </tr>\n",
              "    <tr>\n",
              "      <th>75%</th>\n",
              "      <td>16800.000000</td>\n",
              "      <td>17218.812741</td>\n",
              "    </tr>\n",
              "    <tr>\n",
              "      <th>max</th>\n",
              "      <td>34350.000000</td>\n",
              "      <td>30153.626552</td>\n",
              "    </tr>\n",
              "  </tbody>\n",
              "</table>\n",
              "</div>\n",
              "      <button class=\"colab-df-convert\" onclick=\"convertToInteractive('df-0fca32f5-8510-44d2-86a9-8c88fe809d86')\"\n",
              "              title=\"Convert this dataframe to an interactive table.\"\n",
              "              style=\"display:none;\">\n",
              "        \n",
              "  <svg xmlns=\"http://www.w3.org/2000/svg\" height=\"24px\"viewBox=\"0 0 24 24\"\n",
              "       width=\"24px\">\n",
              "    <path d=\"M0 0h24v24H0V0z\" fill=\"none\"/>\n",
              "    <path d=\"M18.56 5.44l.94 2.06.94-2.06 2.06-.94-2.06-.94-.94-2.06-.94 2.06-2.06.94zm-11 1L8.5 8.5l.94-2.06 2.06-.94-2.06-.94L8.5 2.5l-.94 2.06-2.06.94zm10 10l.94 2.06.94-2.06 2.06-.94-2.06-.94-.94-2.06-.94 2.06-2.06.94z\"/><path d=\"M17.41 7.96l-1.37-1.37c-.4-.4-.92-.59-1.43-.59-.52 0-1.04.2-1.43.59L10.3 9.45l-7.72 7.72c-.78.78-.78 2.05 0 2.83L4 21.41c.39.39.9.59 1.41.59.51 0 1.02-.2 1.41-.59l7.78-7.78 2.81-2.81c.8-.78.8-2.07 0-2.86zM5.41 20L4 18.59l7.72-7.72 1.47 1.35L5.41 20z\"/>\n",
              "  </svg>\n",
              "      </button>\n",
              "      \n",
              "  <style>\n",
              "    .colab-df-container {\n",
              "      display:flex;\n",
              "      flex-wrap:wrap;\n",
              "      gap: 12px;\n",
              "    }\n",
              "\n",
              "    .colab-df-convert {\n",
              "      background-color: #E8F0FE;\n",
              "      border: none;\n",
              "      border-radius: 50%;\n",
              "      cursor: pointer;\n",
              "      display: none;\n",
              "      fill: #1967D2;\n",
              "      height: 32px;\n",
              "      padding: 0 0 0 0;\n",
              "      width: 32px;\n",
              "    }\n",
              "\n",
              "    .colab-df-convert:hover {\n",
              "      background-color: #E2EBFA;\n",
              "      box-shadow: 0px 1px 2px rgba(60, 64, 67, 0.3), 0px 1px 3px 1px rgba(60, 64, 67, 0.15);\n",
              "      fill: #174EA6;\n",
              "    }\n",
              "\n",
              "    [theme=dark] .colab-df-convert {\n",
              "      background-color: #3B4455;\n",
              "      fill: #D2E3FC;\n",
              "    }\n",
              "\n",
              "    [theme=dark] .colab-df-convert:hover {\n",
              "      background-color: #434B5C;\n",
              "      box-shadow: 0px 1px 3px 1px rgba(0, 0, 0, 0.15);\n",
              "      filter: drop-shadow(0px 1px 2px rgba(0, 0, 0, 0.3));\n",
              "      fill: #FFFFFF;\n",
              "    }\n",
              "  </style>\n",
              "\n",
              "      <script>\n",
              "        const buttonEl =\n",
              "          document.querySelector('#df-0fca32f5-8510-44d2-86a9-8c88fe809d86 button.colab-df-convert');\n",
              "        buttonEl.style.display =\n",
              "          google.colab.kernel.accessAllowed ? 'block' : 'none';\n",
              "\n",
              "        async function convertToInteractive(key) {\n",
              "          const element = document.querySelector('#df-0fca32f5-8510-44d2-86a9-8c88fe809d86');\n",
              "          const dataTable =\n",
              "            await google.colab.kernel.invokeFunction('convertToInteractive',\n",
              "                                                     [key], {});\n",
              "          if (!dataTable) return;\n",
              "\n",
              "          const docLinkHtml = 'Like what you see? Visit the ' +\n",
              "            '<a target=\"_blank\" href=https://colab.research.google.com/notebooks/data_table.ipynb>data table notebook</a>'\n",
              "            + ' to learn more about interactive tables.';\n",
              "          element.innerHTML = '';\n",
              "          dataTable['output_type'] = 'display_data';\n",
              "          await google.colab.output.renderOutput(dataTable, element);\n",
              "          const docLink = document.createElement('div');\n",
              "          docLink.innerHTML = docLinkHtml;\n",
              "          element.appendChild(docLink);\n",
              "        }\n",
              "      </script>\n",
              "    </div>\n",
              "  </div>\n",
              "  "
            ],
            "text/plain": [
              "             Actual     Predicted\n",
              "count  11010.000000  11010.000000\n",
              "mean   12696.336785  12690.264827\n",
              "std     7340.314305   6581.549706\n",
              "min      200.000000 -89595.710908\n",
              "25%     7400.000000   7112.590440\n",
              "50%    12100.000000  11567.262894\n",
              "75%    16800.000000  17218.812741\n",
              "max    34350.000000  30153.626552"
            ]
          },
          "metadata": {},
          "execution_count": 103
        }
      ],
      "source": [
        "#Predicting\n",
        "y_pred = regressor.predict(X_test)\n",
        "# To compare the actual output values for X1_test with the predicted values\n",
        "linear_comparison = pd.DataFrame({'Actual': y_test, 'Predicted': y_pred})\n",
        "linear_comparison.describe()"
      ]
    },
    {
      "cell_type": "code",
      "execution_count": null,
      "metadata": {
        "id": "bhC-gAuha3-H",
        "outputId": "a4ed71c2-5f0e-47d8-afcd-5de33ee17dbb",
        "colab": {
          "base_uri": "https://localhost:8080/"
        }
      },
      "outputs": [
        {
          "output_type": "stream",
          "name": "stdout",
          "text": [
            "Mean Absolute Error: 2412.5358509311045\n",
            "Mean Squared Error: 12012294.198981483\n",
            "Root Mean Squared Error: 3465.8756756383345\n"
          ]
        }
      ],
      "source": [
        "# Evaluating the Algorithm\n",
        "from sklearn import metrics\n",
        "print('Mean Absolute Error:', metrics.mean_absolute_error(y_test, y_pred))\n",
        "print('Mean Squared Error:', metrics.mean_squared_error(y_test, y_pred))\n",
        "print('Root Mean Squared Error:', np.sqrt(metrics.mean_squared_error(y_test, y_pred)))"
      ]
    },
    {
      "cell_type": "markdown",
      "source": [
        "## Findings"
      ],
      "metadata": {
        "id": "1FGO-XRVtAvl"
      }
    },
    {
      "cell_type": "markdown",
      "source": [
        "1. On using all features it was realized that RMSE is high thus reducing features to most important ones will lower the RMSE of the model .\n",
        "\n",
        "2. Random Forest algorithm had the least Root Mean Squared Error, hence it was the best algorithm\n",
        "\n",
        "3. Removing outliers increased the Root Mean Squared Error of both the linear regression model and Ada Boost Regression\n"
      ],
      "metadata": {
        "id": "-2z1uIyutFDG"
      }
    },
    {
      "cell_type": "markdown",
      "source": [
        "## Conclusion"
      ],
      "metadata": {
        "id": "iOeZiSN2uEw4"
      }
    },
    {
      "cell_type": "markdown",
      "source": [
        "The size and complexity of sold cars data are expanding rapidly requiring use of ML for analysis. To aid in reproducibility as well as broader understanding and use of ML within the buying and selling of cars field, ML methods and analysis results should be presented to facilitate peer review and assessment by the general public. "
      ],
      "metadata": {
        "id": "pnHQHXawuW_O"
      }
    },
    {
      "cell_type": "markdown",
      "source": [
        "## Recommendations"
      ],
      "metadata": {
        "id": "R8FI08loucs6"
      }
    },
    {
      "cell_type": "markdown",
      "source": [
        "From the observations made ,we would therefore recommend use of Random forest model to accurately predict used car prices in the market  upon being provided with the predictor variables because it has the lowest RMSE of compared to other models."
      ],
      "metadata": {
        "id": "xmq-kaPZvbnh"
      }
    },
    {
      "cell_type": "markdown",
      "metadata": {
        "id": "xrmHVMVsVS--"
      },
      "source": [
        "## 9. Follow up questions"
      ]
    },
    {
      "cell_type": "markdown",
      "metadata": {
        "id": "pth2qSWhuBIy"
      },
      "source": [
        "> At this point, we can refine our question or collect new data, all in an iterative process to get at the truth.\n",
        "\n"
      ]
    },
    {
      "cell_type": "markdown",
      "metadata": {
        "id": "HPQviDmNtta8"
      },
      "source": [
        "### a). Did we have the right data?"
      ]
    },
    {
      "cell_type": "markdown",
      "source": [
        "Yes, we have the right data"
      ],
      "metadata": {
        "id": "VrF5om6e6RVQ"
      }
    },
    {
      "cell_type": "markdown",
      "metadata": {
        "id": "qjFHK1CKty7o"
      },
      "source": [
        "### b). Do we need other data to answer our question?"
      ]
    },
    {
      "cell_type": "markdown",
      "source": [
        "Probably more data such the production year, fuel type and engine capacity needs to be sought so as to improve the model and provide meaningful predictions."
      ],
      "metadata": {
        "id": "TOonO3zB6YhS"
      }
    },
    {
      "cell_type": "markdown",
      "metadata": {
        "id": "HSsicSdvt4Zs"
      },
      "source": [
        "### c). Did we have the right question?"
      ]
    },
    {
      "cell_type": "markdown",
      "source": [
        "Yes, we have the right question"
      ],
      "metadata": {
        "id": "IuOCNS3t6VAv"
      }
    }
  ],
  "metadata": {
    "colab": {
      "collapsed_sections": [],
      "name": "Predicting the Price of Used Cars Using Selected Features.ipynb",
      "provenance": [],
      "include_colab_link": true
    },
    "kernelspec": {
      "display_name": "Python 3 (ipykernel)",
      "language": "python",
      "name": "python3"
    },
    "language_info": {
      "codemirror_mode": {
        "name": "ipython",
        "version": 3
      },
      "file_extension": ".py",
      "mimetype": "text/x-python",
      "name": "python",
      "nbconvert_exporter": "python",
      "pygments_lexer": "ipython3",
      "version": "3.9.7"
    }
  },
  "nbformat": 4,
  "nbformat_minor": 0
}